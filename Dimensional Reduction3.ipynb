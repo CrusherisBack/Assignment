{
 "cells": [
  {
   "cell_type": "code",
   "execution_count": null,
   "id": "c63e18ac-27f0-4aa6-a838-600abd31ce50",
   "metadata": {},
   "outputs": [],
   "source": [
    "# Answer 1)\n",
    "\n",
    "**Eigenvalues and Eigenvectors:**\n",
    "- **Eigenvalues:** Eigenvalues are scalar values that represent the scaling factors of the eigenvectors in a linear transformation. For a square matrix A, the eigenvalues (λ) satisfy the characteristic equation det(A - λI) = 0, where I is the identity matrix.\n",
    "\n",
    "- **Eigenvectors:** Eigenvectors are non-zero vectors that, when multiplied by a matrix, only change in scale (by the corresponding eigenvalue). For a square matrix A and an eigenvalue λ, the eigenvector v satisfies the equation Av = λv.\n",
    "\n",
    "**Eigen-Decomposition Approach:**\n",
    "Eigen-Decomposition is a technique that decomposes a square matrix A into a product of its eigenvectors and eigenvalues. Mathematically, if a matrix A can be written as \\(A = PDP^{-1}\\), where P is the matrix of eigenvectors and D is a diagonal matrix with eigenvalues, then this is an eigen-decomposition of A.\n",
    "\n",
    "**Example:**\n",
    "Consider a 2x2 matrix A:\n",
    "\\[ A = \\begin{bmatrix} 4 & 1 \\\\ 2 & 3 \\end{bmatrix} \\]\n",
    "\n",
    "To find the eigenvalues, we solve the characteristic equation det(A - λI) = 0:\n",
    "\\[ \\text{det}\\left(\\begin{bmatrix} 4-\\lambda & 1 \\\\ 2 & 3-\\lambda \\end{bmatrix}\\right) = 0 \\]\n",
    "\n",
    "Solving this equation gives two eigenvalues: λ₁ = 5 and λ₂ = 2.\n",
    "\n",
    "For each eigenvalue, we find the corresponding eigenvector(s) by solving (A - λI)v = 0:\n",
    "- For λ₁ = 5, solving \\(A - 5I)v = 0\\) gives the eigenvector v₁ = \\(\\begin{bmatrix} 1 \\\\ 2 \\end{bmatrix}\\).\n",
    "- For λ₂ = 2, solving \\(A - 2I)v = 0\\) gives the eigenvector v₂ = \\(\\begin{bmatrix} 1 \\\\ -1 \\end{bmatrix}\\).\n",
    "\n",
    "Now, the matrix A can be decomposed as:\n",
    "\\[ A = PDP^{-1} \\]\n",
    "where:\n",
    "\\[ P = \\begin{bmatrix} 1 & 1 \\\\ 2 & -1 \\end{bmatrix} \\]\n",
    "\\[ D = \\begin{bmatrix} 5 & 0 \\\\ 0 & 2 \\end{bmatrix} \\]\n",
    "\n",
    "In this example, P is the matrix of eigenvectors, and D is a diagonal matrix with eigenvalues. The decomposition expresses A as a linear combination of its eigenvectors and eigenvalues."
   ]
  },
  {
   "cell_type": "code",
   "execution_count": null,
   "id": "b50d60c3-607b-4626-ad24-fa5ec475bf48",
   "metadata": {},
   "outputs": [],
   "source": [
    "# Answer 2)\n",
    "Eigen decomposition is a process of decomposing a square matrix into a set of eigenvectors and eigenvalues. "
   ]
  },
  {
   "cell_type": "code",
   "execution_count": null,
   "id": "6c003614-9852-4b62-9309-2e8424c7272a",
   "metadata": {},
   "outputs": [],
   "source": [
    "# Answer 3)\n",
    "A square matrix A is diagonalizable if and only if it has a complete set of linearly independent eigenvectors. In other words, the matrix A must have n linearly independent eigenvectors, where n is the size of the matrix.\n",
    "\n",
    "Proof:\n",
    "\n",
    "If A is diagonalizable, there exists an invertible matrix P such that \n",
    "�\n",
    "=\n",
    "�\n",
    "�\n",
    "�\n",
    "−\n",
    "1\n",
    "A=PDP \n",
    "−1\n",
    " .\n",
    "The columns of P are the eigenvectors of A.\n",
    "For A to be diagonalizable, P must be invertible, which means its columns must be linearly independent.\n",
    "Therefore, A has n linearly independent eigenvectors."
   ]
  },
  {
   "cell_type": "code",
   "execution_count": null,
   "id": "6a8558ad-0ae7-49a5-a00b-d18eb8a40181",
   "metadata": {},
   "outputs": [],
   "source": [
    "# Answer 4)\n",
    "The spectral theorem states that for any symmetric matrix, there exists an orthogonal matrix P such that \n",
    "�\n",
    "=\n",
    "�\n",
    "�\n",
    "�\n",
    "�\n",
    "A=PDP \n",
    "T\n",
    " , where D is a diagonal matrix with real eigenvalues. This theorem is significant in the context of Eigen-Decomposition because it guarantees the diagonalizability of symmetric matrices.\n",
    "\n",
    "Example:\n",
    "Consider the symmetric matrix \n",
    "�\n",
    "=\n",
    "[\n",
    "1\n",
    "3\n",
    "3\n",
    "5\n",
    "]\n",
    "A=[ \n",
    "1\n",
    "3\n",
    "​\n",
    "  \n",
    "3\n",
    "5\n",
    "​\n",
    " ].\n",
    "\n",
    "Find the eigenvalues and eigenvectors.\n",
    "Normalize the eigenvectors to form an orthogonal matrix P.\n",
    "Construct the diagonal matrix D with eigenvalues.\n",
    "Apply the spectral theorem: \n",
    "�\n",
    "=\n",
    "�\n",
    "�\n",
    "�\n",
    "�\n",
    "A=PDP \n",
    "T\n",
    " ."
   ]
  },
  {
   "cell_type": "code",
   "execution_count": null,
   "id": "6d2e85e6-a312-4368-85e5-278e0f08c491",
   "metadata": {},
   "outputs": [],
   "source": [
    "# Answer 5)\n",
    "Eigenvalues are found by solving the characteristic equation det(A - λI) = 0, where A is the matrix, λ is the eigenvalue, and I is the identity matrix. The solutions to this equation represent the eigenvalues of the matrix. Eigenvalues represent the scaling factors by which the corresponding eigenvectors are stretched or compressed in a linear transformation."
   ]
  },
  {
   "cell_type": "code",
   "execution_count": null,
   "id": "a7dfd8f5-7b93-4c13-b07c-facb6ce91ab8",
   "metadata": {},
   "outputs": [],
   "source": [
    "# Answer 6)\n",
    "Eigenvectors are non-zero vectors that, when multiplied by a matrix, only change in scale (by the corresponding eigenvalue). For a square matrix A and an eigenvalue λ, the eigenvector v satisfies the equation \n"
   ]
  },
  {
   "cell_type": "code",
   "execution_count": null,
   "id": "81e02a39-0548-48da-bd7e-1d85c576a713",
   "metadata": {},
   "outputs": [],
   "source": [
    "## Answer 7)\n",
    "In geometric terms, eigenvectors represent the directions in space that remain unchanged or are only scaled during a linear transformation defined by the matrix. Eigenvalues represent the scaling factors by which these eigenvectors are stretched or compressed."
   ]
  },
  {
   "cell_type": "code",
   "execution_count": null,
   "id": "e324a5f1-11a6-4372-ac82-678cf05e9d8f",
   "metadata": {},
   "outputs": [],
   "source": [
    "# Answer 8)\n",
    "Principal Component Analysis (PCA): Eigen decomposition is fundamental to PCA for dimensionality reduction.\n",
    "Quantum Mechanics: Eigen decomposition is extensively used in quantum mechanics to solve problems related to wave functions and operators.\n",
    "Image and Signal Processing: Eigen decomposition is applied in compression techniques, noise reduction, and feature extraction."
   ]
  },
  {
   "cell_type": "code",
   "execution_count": null,
   "id": "fc8cebde-92f1-4771-9c74-9191bca3ac54",
   "metadata": {},
   "outputs": [],
   "source": [
    "# Answer 9)\n",
    "No, a matrix can have multiple eigenvectors corresponding to the same eigenvalue, but it cannot have distinct sets of eigenvectors and eigenvalues. The eigenvectors corresponding to the same eigenvalue form a subspace known as the eigenspace."
   ]
  },
  {
   "cell_type": "code",
   "execution_count": null,
   "id": "2c7c93a8-90f7-4b59-8434-2d629f00d1c1",
   "metadata": {},
   "outputs": [],
   "source": [
    "# Answer 10)\n",
    "Principal Component Analysis (PCA): Eigen-Decomposition is at the core of PCA, a technique used for dimensionality reduction and data visualization.\n",
    "Spectral Clustering: Eigen-Decomposition is applied in spectral clustering algorithms to partition data into clusters based on the eigenvectors of the affinity matrix.\n",
    "Kernel Principal Component Analysis (Kernel PCA): Extending PCA to non-linear transformations, Kernel PCA relies on Eigen-Decomposition for feature extraction in high-dimensional spaces."
   ]
  }
 ],
 "metadata": {
  "kernelspec": {
   "display_name": "Python 3 (ipykernel)",
   "language": "python",
   "name": "python3"
  },
  "language_info": {
   "codemirror_mode": {
    "name": "ipython",
    "version": 3
   },
   "file_extension": ".py",
   "mimetype": "text/x-python",
   "name": "python",
   "nbconvert_exporter": "python",
   "pygments_lexer": "ipython3",
   "version": "3.10.8"
  }
 },
 "nbformat": 4,
 "nbformat_minor": 5
}
