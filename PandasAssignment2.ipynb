{
 "cells": [
  {
   "cell_type": "code",
   "execution_count": null,
   "id": "689e375f-1d78-45c6-a5a2-0c3ef90d6411",
   "metadata": {},
   "outputs": [],
   "source": [
    "## Answer 1)\n",
    "##read_csv(): Reads a CSV (Comma Separated Values) file into a pandas DataFrame.\n",
    "##head(): Returns the first n rows of a DataFrame. By default, it returns the first 5 rows.\n",
    "##tail(): Returns the last n rows of a DataFrame. By default, it returns the last 5 rows.\n",
    "##describe(): Generates descriptive statistics of a DataFrame, including count, mean, standard deviation, minimum, quartiles, and maximum.\n",
    "##groupby(): Groups a DataFrame by one or more columns, allowing aggregation operations to be performed on the groups.\n",
    "\n",
    "import pandas as pd\n",
    "\n",
    "# Reading a CSV file into a DataFrame\n",
    "df = pd.read_csv('data.csv')\n",
    "print(df.head())\n",
    "\n",
    "# Creating a DataFrame\n",
    "data = {'Name': ['John', 'Emily', 'Mike', 'Jessica', 'David'],\n",
    "        'Age': [25, 30, 35, 28, 32],\n",
    "        'City': ['New York', 'Paris', 'London', 'Tokyo', 'Sydney']}\n",
    "\n",
    "df = pd.DataFrame(data)\n",
    "\n",
    "# Printing the first 3 rows\n",
    "print(df.head(3))\n",
    "\n",
    "# Printing the last 2 rows\n",
    "print(df.tail(2))\n",
    "\n",
    "# Generating descriptive statistics\n",
    "print(df.describe())\n",
    "\n",
    "# Grouping by 'City' column and calculating average salary\n",
    "data = {'Name': ['John', 'Emily', 'Mike', 'Jessica', 'David'],\n",
    "        'Age': [25, 30, 35, 28, 32],\n",
    "        'City': ['New York', 'Paris', 'London', 'Tokyo', 'Sydney'],\n",
    "        'Salary': [50000, 60000, 70000, 55000, 65000]}\n",
    "\n",
    "df = pd.DataFrame(data)\n",
    "\n",
    "grouped_df = df.groupby('City')['Salary'].mean()\n",
    "print(grouped_df)"
   ]
  },
  {
   "cell_type": "code",
   "execution_count": 2,
   "id": "d26fac48-f2b1-46b5-a3a6-f1a45a5de54f",
   "metadata": {},
   "outputs": [
    {
     "name": "stdout",
     "output_type": "stream",
     "text": [
      "    A   B   C\n",
      "1  10  40  70\n",
      "3  20  50  80\n",
      "5  30  60  90\n"
     ]
    }
   ],
   "source": [
    "## Answer 2)\n",
    "import pandas as pd\n",
    "\n",
    "def reindex_with_increment(df):\n",
    "    new_index = pd.Index(range(1, len(df)*2, 2))\n",
    "    new_df = df.reset_index(drop=True)\n",
    "    new_df.index = new_index\n",
    "    return new_df\n",
    "\n",
    "\n",
    "# Example usage\n",
    "df = pd.DataFrame({'A': [10, 20, 30], 'B': [40, 50, 60], 'C': [70, 80, 90]})\n",
    "\n",
    "new_df = reindex_with_increment(df)\n",
    "\n",
    "print(new_df)"
   ]
  },
  {
   "cell_type": "code",
   "execution_count": 3,
   "id": "dc679679-a922-4c2c-8785-abe3679cfa03",
   "metadata": {},
   "outputs": [
    {
     "name": "stdout",
     "output_type": "stream",
     "text": [
      "Sum of the first three values: 60\n"
     ]
    }
   ],
   "source": [
    "## Answer 3)\n",
    "import pandas as pd\n",
    "\n",
    "def calculate_sum_first_three(df):\n",
    "    values_column = df['Values']\n",
    "    sum_first_three = sum(values_column[:3])\n",
    "    print(\"Sum of the first three values:\", sum_first_three)\n",
    "\n",
    "\n",
    "# Example usage\n",
    "df = pd.DataFrame({'Values': [10, 20, 30, 40, 50]})\n",
    "\n",
    "calculate_sum_first_three(df)\n"
   ]
  },
  {
   "cell_type": "code",
   "execution_count": 4,
   "id": "97274194-cdf2-4781-8d24-d6198ffdbb69",
   "metadata": {},
   "outputs": [
    {
     "name": "stdout",
     "output_type": "stream",
     "text": [
      "                  Text  Word_Count\n",
      "0  Hello, how are you?           4\n",
      "1     I am doing well.           4\n",
      "2     Python is great.           3\n"
     ]
    }
   ],
   "source": [
    "## Answer 4)\n",
    "import pandas as pd\n",
    "\n",
    "def add_word_count_column(df):\n",
    "    df['Word_Count'] = df['Text'].apply(lambda x: len(str(x).split()))\n",
    "    return df\n",
    "\n",
    "\n",
    "# Example usage\n",
    "df = pd.DataFrame({'Text': ['Hello, how are you?', 'I am doing well.', 'Python is great.']})\n",
    "\n",
    "df = add_word_count_column(df)\n",
    "\n",
    "print(df)\n"
   ]
  },
  {
   "cell_type": "code",
   "execution_count": null,
   "id": "81361ab8-d996-4683-a75e-3f1828d12c24",
   "metadata": {},
   "outputs": [],
   "source": [
    "## Answer 5)\n",
    "The `DataFrame.size()` and `DataFrame.shape()` methods in pandas provide different information about the shape and size of a DataFrame.\n",
    "\n",
    "1. `DataFrame.size()`:\n",
    "   - The `DataFrame.size()` method returns the total number of elements in the DataFrame.\n",
    "   - It calculates the size by multiplying the number of rows (`DataFrame.shape[0]`) with the number of columns (`DataFrame.shape[1]`).\n",
    "   - The returned value represents the total number of elements in the DataFrame, including NaN or missing values.\n",
    "   - The size is a scalar value, representing the total count of elements.\n",
    "\n",
    "2. `DataFrame.shape()`:\n",
    "   - The `DataFrame.shape()` method returns a tuple containing the dimensions of the DataFrame.\n",
    "   - It provides the number of rows as the first element (`DataFrame.shape[0]`) and the number of columns as the second element (`DataFrame.shape[1]`).\n",
    "   - The shape is represented as `(number of rows, number of columns)`.\n",
    "   - The shape is a tuple, providing information about the structure of the DataFrame.\n",
    "\n",
    "In summary, `DataFrame.size()` returns the total number of elements in the DataFrame as a scalar value, while `DataFrame.shape()` returns a tuple representing the dimensions of the DataFrame as `(number of rows, number of columns)`."
   ]
  },
  {
   "cell_type": "markdown",
   "id": "6601d12c-1788-44c3-a722-db1efaa297cf",
   "metadata": {},
   "source": [
    "## Answer 6)\n",
    "In pandas, the function used to read an Excel file is read_excel(). The read_excel() function allows you to read the data from one or multiple sheets of an Excel file into a pandas DataFrame."
   ]
  },
  {
   "cell_type": "code",
   "execution_count": 6,
   "id": "744eda42-401e-44cd-81e3-e40446b6be70",
   "metadata": {},
   "outputs": [
    {
     "name": "stdout",
     "output_type": "stream",
     "text": [
      "                    Email    Username\n",
      "0    john.doe@example.com    john.doe\n",
      "1  jane.smith@example.com  jane.smith\n",
      "2        alice@domain.com       alice\n"
     ]
    }
   ],
   "source": [
    "## Answer 7)\n",
    "import pandas as pd\n",
    "\n",
    "def extract_username(df):\n",
    "    df['Username'] = df['Email'].apply(lambda x: x.split('@')[0])\n",
    "    return df\n",
    "\n",
    "\n",
    "# Example usage\n",
    "df = pd.DataFrame({'Email': ['john.doe@example.com', 'jane.smith@example.com', 'alice@domain.com']})\n",
    "\n",
    "df = extract_username(df)\n",
    "\n",
    "print(df)\n"
   ]
  },
  {
   "cell_type": "code",
   "execution_count": 7,
   "id": "d34ceaaf-4f0e-466c-9f08-cd835517e945",
   "metadata": {},
   "outputs": [
    {
     "name": "stdout",
     "output_type": "stream",
     "text": [
      "   A  B  C\n",
      "1  8  2  7\n",
      "2  6  9  4\n",
      "4  9  1  2\n"
     ]
    }
   ],
   "source": [
    "## Answer 8)\n",
    "import pandas as pd\n",
    "\n",
    "def select_rows(df):\n",
    "    selected_rows = df[(df['A'] > 5) & (df['B'] < 10)]\n",
    "    return selected_rows\n",
    "\n",
    "\n",
    "# Example usage\n",
    "df = pd.DataFrame({'A': [3, 8, 6, 2, 9], 'B': [5, 2, 9, 3, 1], 'C': [1, 7, 4, 5, 2]})\n",
    "\n",
    "selected_df = select_rows(df)\n",
    "\n",
    "print(selected_df)\n"
   ]
  },
  {
   "cell_type": "code",
   "execution_count": 8,
   "id": "2907887e-a7a6-4094-b377-3616107b30cb",
   "metadata": {},
   "outputs": [
    {
     "name": "stdout",
     "output_type": "stream",
     "text": [
      "Mean: 30.0\n",
      "Median: 30.0\n",
      "Standard Deviation: 15.811388300841896\n"
     ]
    }
   ],
   "source": [
    "## Answer 9)\n",
    "import pandas as pd\n",
    "\n",
    "def calculate_statistics(df):\n",
    "    values_column = df['Values']\n",
    "    mean_value = values_column.mean()\n",
    "    median_value = values_column.median()\n",
    "    std_value = values_column.std()\n",
    "    return mean_value, median_value, std_value\n",
    "\n",
    "\n",
    "# Example usage\n",
    "df = pd.DataFrame({'Values': [10, 20, 30, 40, 50]})\n",
    "\n",
    "mean, median, std = calculate_statistics(df)\n",
    "\n",
    "print(\"Mean:\", mean)\n",
    "print(\"Median:\", median)\n",
    "print(\"Standard Deviation:\", std)"
   ]
  },
  {
   "cell_type": "code",
   "execution_count": 9,
   "id": "dec5361e-b564-4606-bcbf-5abf967bf46e",
   "metadata": {},
   "outputs": [
    {
     "name": "stdout",
     "output_type": "stream",
     "text": [
      "   Sales        Date  MovingAverage\n",
      "0     10  2022-01-01           10.0\n",
      "1     15  2022-01-02           12.5\n",
      "2     20  2022-01-03           15.0\n",
      "3     25  2022-01-04           17.5\n",
      "4     30  2022-01-05           20.0\n",
      "5     35  2022-01-06           22.5\n",
      "6     40  2022-01-07           25.0\n",
      "7     45  2022-01-08           30.0\n",
      "8     50  2022-01-09           35.0\n"
     ]
    }
   ],
   "source": [
    "## Answer 10)\n",
    "import pandas as pd\n",
    "\n",
    "def calculate_moving_average(df):\n",
    "    df['MovingAverage'] = df['Sales'].rolling(window=7, min_periods=1).mean()\n",
    "    return df\n",
    "\n",
    "\n",
    "# Example usage\n",
    "df = pd.DataFrame({'Sales': [10, 15, 20, 25, 30, 35, 40, 45, 50],\n",
    "                   'Date': ['2022-01-01', '2022-01-02', '2022-01-03', '2022-01-04',\n",
    "                            '2022-01-05', '2022-01-06', '2022-01-07', '2022-01-08',\n",
    "                            '2022-01-09']})\n",
    "\n",
    "df = calculate_moving_average(df)\n",
    "\n",
    "print(df)\n"
   ]
  },
  {
   "cell_type": "code",
   "execution_count": 10,
   "id": "0e20c57c-ed21-461f-9e5a-e6184ae9bd58",
   "metadata": {},
   "outputs": [
    {
     "name": "stdout",
     "output_type": "stream",
     "text": [
      "        Date    Weekday\n",
      "0 2023-01-01     Sunday\n",
      "1 2023-01-02     Monday\n",
      "2 2023-01-03    Tuesday\n",
      "3 2023-01-04  Wednesday\n",
      "4 2023-01-05   Thursday\n"
     ]
    }
   ],
   "source": [
    "## Answer 11)\n",
    "import pandas as pd\n",
    "\n",
    "def add_weekday_column(df):\n",
    "    df['Weekday'] = df['Date'].dt.day_name()\n",
    "    return df\n",
    "\n",
    "\n",
    "# Example usage\n",
    "df = pd.DataFrame({'Date': ['2023-01-01', '2023-01-02', '2023-01-03', '2023-01-04', '2023-01-05']})\n",
    "\n",
    "df['Date'] = pd.to_datetime(df['Date'])\n",
    "\n",
    "df = add_weekday_column(df)\n",
    "\n",
    "print(df)"
   ]
  },
  {
   "cell_type": "code",
   "execution_count": 11,
   "id": "0a1195d3-4799-438f-be96-cf92877f0d10",
   "metadata": {},
   "outputs": [
    {
     "name": "stdout",
     "output_type": "stream",
     "text": [
      "        Date\n",
      "0 2023-01-01\n",
      "1 2023-01-15\n"
     ]
    }
   ],
   "source": [
    "## Answer 12)\n",
    "import pandas as pd\n",
    "\n",
    "def select_rows_by_date_range(df):\n",
    "    mask = (df['Date'] >= '2023-01-01') & (df['Date'] <= '2023-01-31')\n",
    "    selected_rows = df[mask]\n",
    "    return selected_rows\n",
    "\n",
    "\n",
    "# Example usage\n",
    "df = pd.DataFrame({'Date': ['2023-01-01', '2023-01-15', '2023-02-01', '2023-02-15']})\n",
    "\n",
    "df['Date'] = pd.to_datetime(df['Date'])\n",
    "\n",
    "selected_df = select_rows_by_date_range(df)\n",
    "\n",
    "print(selected_df)\n"
   ]
  },
  {
   "cell_type": "markdown",
   "id": "eb1d9816-608f-447a-8a21-3a1d69c9f50b",
   "metadata": {},
   "source": [
    "## Answer 13)\n",
    "To use the basic functions of pandas, the first and foremost necessary library that needs to be imported is the pandas library itself. The pandas library provides data structures and functions for efficient data manipulation and analysis."
   ]
  },
  {
   "cell_type": "code",
   "execution_count": null,
   "id": "8bc798ba-280a-4601-aa98-cb2be0065f9c",
   "metadata": {},
   "outputs": [],
   "source": []
  }
 ],
 "metadata": {
  "kernelspec": {
   "display_name": "Python 3 (ipykernel)",
   "language": "python",
   "name": "python3"
  },
  "language_info": {
   "codemirror_mode": {
    "name": "ipython",
    "version": 3
   },
   "file_extension": ".py",
   "mimetype": "text/x-python",
   "name": "python",
   "nbconvert_exporter": "python",
   "pygments_lexer": "ipython3",
   "version": "3.10.8"
  }
 },
 "nbformat": 4,
 "nbformat_minor": 5
}
