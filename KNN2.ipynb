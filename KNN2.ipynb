{
 "cells": [
  {
   "cell_type": "code",
   "execution_count": null,
   "id": "fb6e1446-2a60-487c-b8cc-6bc782af6f2f",
   "metadata": {},
   "outputs": [],
   "source": [
    "# Answer 1)\n",
    "The main difference lies in the way distance is computed:\n",
    "Euclidean distance: Represents the straight-line distance between two points in space.\n",
    "Manhattan distance: Represents the sum of the absolute differences between corresponding coordinates of two points in space (L1 norm).\n",
    "The impact on performance depends on the dataset. Euclidean distance is sensitive to magnitudes and may be affected by outliers, while Manhattan distance is less sensitive to outliers and works well when features have different scales. The choice may affect how the algorithm considers the importance of different features."
   ]
  },
  {
   "cell_type": "code",
   "execution_count": null,
   "id": "7fa80a88-6f3b-4c5e-876f-62d4db8170c7",
   "metadata": {},
   "outputs": [],
   "source": [
    "# Answer 2)\n",
    "Techniques for choosing optimal k include cross-validation, grid search, or using rules of thumb based on the dataset size. Cross-validation, particularly k-fold cross-validation, helps assess the model's performance for different k values on different subsets of the data."
   ]
  },
  {
   "cell_type": "code",
   "execution_count": null,
   "id": "e4568604-4a65-40cf-8029-9750bb931c63",
   "metadata": {},
   "outputs": [],
   "source": [
    "# Answer 3)\n",
    "The choice of distance metric can significantly impact performance. Euclidean distance is common when features are on a similar scale, and the relationship between them is linear. Manhattan distance may be preferred when features have different scales or when the relationships are better captured by a piecewise linear path. The choice depends on the characteristics of the data."
   ]
  },
  {
   "cell_type": "code",
   "execution_count": null,
   "id": "63d0acbe-7c52-4286-82e0-ab4bb1743de0",
   "metadata": {},
   "outputs": [],
   "source": [
    "# Answer 4)\n",
    "Common hyperparameters include k (number of neighbors), the distance metric, and sometimes the weights assigned to neighbors. The choice of k affects model sensitivity, while the distance metric influences how the algorithm measures similarity. Tuning can be done through techniques like grid search or random search, evaluating performance metrics for different combinations of hyperparameters."
   ]
  },
  {
   "cell_type": "code",
   "execution_count": null,
   "id": "38d3e6eb-a734-4ea2-aee3-bfeb92789547",
   "metadata": {},
   "outputs": [],
   "source": [
    "# Answer 5)\n",
    "A larger training set generally improves the model's ability to generalize. However, an excessively large dataset may lead to increased computation time. Techniques to optimize the training set size include using cross-validation to evaluate performance at different dataset sizes and assessing the trade-off between computational cost and performance."
   ]
  },
  {
   "cell_type": "code",
   "execution_count": null,
   "id": "ca7a5065-9f7a-4781-83ab-79c13219a833",
   "metadata": {},
   "outputs": [],
   "source": [
    "# Answer 6)\n",
    "Drawbacks include sensitivity to irrelevant features, high computation cost for large datasets, and susceptibility to outliers. Overcoming these may involve feature selection or dimensionality reduction to address irrelevant features, using approximate nearest neighbors methods for large datasets, and employing robust distance metrics or outlier detection techniques to handle outliers. Additionally, proper scaling of features can mitigate sensitivity to irrelevant features."
   ]
  }
 ],
 "metadata": {
  "kernelspec": {
   "display_name": "Python 3 (ipykernel)",
   "language": "python",
   "name": "python3"
  },
  "language_info": {
   "codemirror_mode": {
    "name": "ipython",
    "version": 3
   },
   "file_extension": ".py",
   "mimetype": "text/x-python",
   "name": "python",
   "nbconvert_exporter": "python",
   "pygments_lexer": "ipython3",
   "version": "3.10.8"
  }
 },
 "nbformat": 4,
 "nbformat_minor": 5
}
