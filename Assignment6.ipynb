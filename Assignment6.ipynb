{
 "cells": [
  {
   "cell_type": "code",
   "execution_count": null,
   "id": "17074e7b-324b-469a-933f-5f48f1b424de",
   "metadata": {},
   "outputs": [],
   "source": [
    "#Answer 1)\n",
    "\n",
    "#In object-oriented programming, a class is a blueprint for creating objects. A class defines a set of attributes and methods that the objects of that class will have. An object, on the other hand, is an instance of a class. It is a concrete entity that can be created using the class blueprint, and it has its own set of values for the attributes defined in the class.\n",
    "class Person:\n",
    "    def __init__(self, name, age):\n",
    "        self.name = name\n",
    "        self.age = age\n",
    "person1 = Person(\"John\", 30)\n",
    "print(person1.name)   \n",
    "print(person1.age) \n",
    "# Here Person is class and person1 is object\n"
   ]
  },
  {
   "cell_type": "code",
   "execution_count": null,
   "id": "e928c789-ee67-40fb-acd5-21f73876bc87",
   "metadata": {},
   "outputs": [],
   "source": [
    "#Answer 2)\n",
    " Abstraction\n",
    " Encapsulation\n",
    " Inheritance\n",
    " Polymorphism"
   ]
  },
  {
   "cell_type": "code",
   "execution_count": null,
   "id": "526f4267-55f6-4b8c-ad11-e11752d7f52d",
   "metadata": {},
   "outputs": [],
   "source": [
    "# Answer 3)\n",
    "# The __init__ function is called every time an object is created from a class. The __init__ method lets the class initialize the object’s attributes and serves no other purpose. It is only used within classes.\n",
    "class Car:\n",
    "    def __init__(self, make, model, year):\n",
    "        self.make = make\n",
    "        self.model = model\n",
    "        self.year = year\n",
    "        self.mileage = 0\n",
    "    \n",
    "    def drive(self, miles):\n",
    "        self.mileage += miles\n",
    "\n",
    "car1 = Car(\"Honda\", \"Civic\", 2020)\n",
    "print(car1.make)   \n",
    "print(car1.model)   \n",
    "print(car1.year)    \n",
    "print(car1.mileage) \n",
    "\n",
    "car1.drive(100)\n",
    "print(car1.mileage) \n"
   ]
  },
  {
   "cell_type": "code",
   "execution_count": null,
   "id": "925ef405-bdfa-41ef-a2c4-3371ad1c25e0",
   "metadata": {},
   "outputs": [],
   "source": [
    "# Answer 4)\n",
    "# OOP targets to implement real-world entities in the form of objects, which are data fields with unique attributes and behavior. Holding unique data about a particular object in OOP is made simpler by the self parameter passed to every method defined in python."
   ]
  },
  {
   "cell_type": "code",
   "execution_count": null,
   "id": "780439d4-fc5e-42ac-a7c8-38ccc8afdbbc",
   "metadata": {},
   "outputs": [],
   "source": [
    "# Answer 5)\n",
    "#Inheritance is a mechanism in object-oriented programming where a new class is created by deriving properties and characteristics of an existing class.\n",
    "\n",
    "# There are 4 types of inheritance\n",
    "# 1)Single Inheritance\n",
    "# 2)Multiple Inheritance\n",
    "# 3)Hierarchical Inheritance\n",
    "# 4)Multi level Inheritance"
   ]
  },
  {
   "cell_type": "code",
   "execution_count": 2,
   "id": "5707de07-9c89-4b55-9c2d-8bf9f1626e2e",
   "metadata": {},
   "outputs": [
    {
     "name": "stdout",
     "output_type": "stream",
     "text": [
      "Buddy is moving\n",
      "Buddy is barking\n"
     ]
    }
   ],
   "source": [
    "# 1) Single Inheritance\n",
    "class Animal:\n",
    "    def __init__(self, name):\n",
    "        self.name = name\n",
    "    \n",
    "    def move(self):\n",
    "        print(f\"{self.name} is moving\")\n",
    "\n",
    "class Dog(Animal):\n",
    "    def bark(self):\n",
    "        print(f\"{self.name} is barking\")\n",
    "\n",
    "my_dog = Dog(\"Buddy\")\n",
    "my_dog.move()   \n",
    "my_dog.bark()   \n"
   ]
  },
  {
   "cell_type": "code",
   "execution_count": 3,
   "id": "a8aaf706-c52a-4c4e-9d32-4423fa9312fa",
   "metadata": {},
   "outputs": [
    {
     "name": "stdout",
     "output_type": "stream",
     "text": [
      "Buddy is moving\n",
      "Buddy is feeding milk\n",
      "Buddy is barking\n"
     ]
    }
   ],
   "source": [
    "# 2) Multiple Inheritance\n",
    "class Animal:\n",
    "    def __init__(self, name):\n",
    "        self.name = name\n",
    "    \n",
    "    def move(self):\n",
    "        print(f\"{self.name} is moving\")\n",
    "\n",
    "class Mammal:\n",
    "    def feed_milk(self):\n",
    "        print(f\"{self.name} is feeding milk\")\n",
    "\n",
    "class Dog(Animal, Mammal):\n",
    "    def bark(self):\n",
    "        print(f\"{self.name} is barking\")\n",
    "\n",
    "my_dog = Dog(\"Buddy\")\n",
    "my_dog.move()         \n",
    "my_dog.feed_milk()   \n",
    "my_dog.bark()         \n"
   ]
  },
  {
   "cell_type": "code",
   "execution_count": 6,
   "id": "3d58b721-fb49-4ca5-b4dc-12172e63919e",
   "metadata": {},
   "outputs": [
    {
     "name": "stdout",
     "output_type": "stream",
     "text": [
      "My Circle circle with radius 5 is being drawn\n",
      "My Rectangle rectangle with width 4 and height 6 is being drawn\n"
     ]
    }
   ],
   "source": [
    "# 3) Hierarchical Inheritance\n",
    "class Shape:\n",
    "    def __init__(self, name):\n",
    "        self.name = name\n",
    "    \n",
    "    def draw(self):\n",
    "        print(f\"{self.name} is being drawn\")\n",
    "\n",
    "class Circle(Shape):\n",
    "    def __init__(self, name):\n",
    "        super().__init__(name)\n",
    "        self.radius = 0\n",
    "    \n",
    "    def set_radius(self, radius):\n",
    "        self.radius = radius\n",
    "    \n",
    "    def draw(self):\n",
    "        print(f\"{self.name} circle with radius {self.radius} is being drawn\")\n",
    "\n",
    "class Rectangle(Shape):\n",
    "    def __init__(self, name):\n",
    "        super().__init__(name)\n",
    "        self.width = 0\n",
    "        self.height = 0\n",
    "    \n",
    "    def set_size(self, width, height):\n",
    "        self.width = width\n",
    "        self.height = height\n",
    "    \n",
    "    def draw(self):\n",
    "        print(f\"{self.name} rectangle with width {self.width} and height {self.height} is being drawn\")\n",
    "\n",
    "my_circle = Circle(\"My Circle\")\n",
    "my_circle.set_radius(5)\n",
    "my_circle.draw()        \n",
    "\n",
    "my_rectangle = Rectangle(\"My Rectangle\")\n",
    "my_rectangle.set_size(4, 6)\n",
    "my_rectangle.draw()    \n",
    "\n",
    "\n"
   ]
  },
  {
   "cell_type": "code",
   "execution_count": 7,
   "id": "895b77d1-cfe0-4bbe-a05a-18787bef8ed8",
   "metadata": {},
   "outputs": [
    {
     "name": "stdout",
     "output_type": "stream",
     "text": [
      "Buddy is moving\n",
      "Buddy is feeding milk\n",
      "Buddy is barking\n",
      "Buddy is barking loudly\n"
     ]
    }
   ],
   "source": [
    "# 4)Multi level Inheritance\n",
    "class Animal:\n",
    "    def __init__(self, name):\n",
    "        self.name = name\n",
    "    \n",
    "    def move(self):\n",
    "        print(f\"{self.name} is moving\")\n",
    "\n",
    "class Mammal(Animal):\n",
    "    def feed_milk(self):\n",
    "        print(f\"{self.name} is feeding milk\")\n",
    "\n",
    "class Dog(Mammal):\n",
    "    def bark(self):\n",
    "        print(f\"{self.name} is barking\")\n",
    "\n",
    "class GermanShepherd(Dog):\n",
    "    def __init__(self, name):\n",
    "        super().__init__(name)\n",
    "        self.color = \"brown\"\n",
    "    \n",
    "    def bark_loudly(self):\n",
    "        print(f\"{self.name} is barking loudly\")\n",
    "\n",
    "my_dog = GermanShepherd(\"Buddy\")\n",
    "my_dog.move()           \n",
    "my_dog.feed_milk()      \n",
    "my_dog.bark()           \n",
    "my_dog.bark_loudly()    "
   ]
  },
  {
   "cell_type": "code",
   "execution_count": null,
   "id": "010935a7-9fd8-4815-a9df-1899f1f2d046",
   "metadata": {},
   "outputs": [],
   "source": []
  }
 ],
 "metadata": {
  "kernelspec": {
   "display_name": "Python 3 (ipykernel)",
   "language": "python",
   "name": "python3"
  },
  "language_info": {
   "codemirror_mode": {
    "name": "ipython",
    "version": 3
   },
   "file_extension": ".py",
   "mimetype": "text/x-python",
   "name": "python",
   "nbconvert_exporter": "python",
   "pygments_lexer": "ipython3",
   "version": "3.10.8"
  }
 },
 "nbformat": 4,
 "nbformat_minor": 5
}
