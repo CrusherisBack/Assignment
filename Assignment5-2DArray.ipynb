{
 "cells": [
  {
   "cell_type": "code",
   "execution_count": 2,
   "id": "04ec8716-0afa-4d8b-89cc-37053c874e0e",
   "metadata": {},
   "outputs": [
    {
     "name": "stdout",
     "output_type": "stream",
     "text": [
      "[[1, 2], [3, 4]]\n"
     ]
    }
   ],
   "source": [
    "## Answer 1)\n",
    "\n",
    "def convert_1d_array_to_2d_array(original, m, n):\n",
    "  \"\"\"\n",
    "  Converts a 1D array into a 2D array.\n",
    "\n",
    "  Args:\n",
    "    original: The 1D array to be converted.\n",
    "    m: The number of rows in the resulting 2D array.\n",
    "    n: The number of columns in the resulting 2D array.\n",
    "\n",
    "  Returns:\n",
    "    The converted 2D array.\n",
    "  \"\"\"\n",
    "\n",
    "  if len(original) != m * n:\n",
    "    return []\n",
    "\n",
    "  array = []\n",
    "  for i in range(m):\n",
    "    row = original[i * n:(i + 1) * n]\n",
    "    array.append(row)\n",
    "\n",
    "  return array\n",
    "\n",
    "\n",
    "def main():\n",
    "  original = [1, 2, 3, 4]\n",
    "  m = 2\n",
    "  n = 2\n",
    "\n",
    "  array = convert_1d_array_to_2d_array(original, m, n)\n",
    "  print(array)\n",
    "\n",
    "\n",
    "if __name__ == \"__main__\":\n",
    "  main()\n"
   ]
  },
  {
   "cell_type": "code",
   "execution_count": 3,
   "id": "1de9cf6a-6721-4f5f-9a1f-b4b36235d988",
   "metadata": {},
   "outputs": [
    {
     "name": "stdout",
     "output_type": "stream",
     "text": [
      "2\n"
     ]
    }
   ],
   "source": [
    "## Answer 2)\n",
    "\n",
    "def arrange_coins(n):\n",
    "    k = 1\n",
    "    while (k * (k + 1)) // 2 <= n:\n",
    "        k += 1\n",
    "    return k - 1\n",
    "\n",
    "# Test example\n",
    "n = 5\n",
    "print(arrange_coins(n))  # Output: 2"
   ]
  },
  {
   "cell_type": "code",
   "execution_count": 4,
   "id": "3eeed7fc-d67f-4ba5-9e18-931567565322",
   "metadata": {},
   "outputs": [
    {
     "name": "stdout",
     "output_type": "stream",
     "text": [
      "[0, 1, 9, 16, 100]\n"
     ]
    }
   ],
   "source": [
    "## Answer 3)\n",
    "def sorted_squares(nums):\n",
    "    n = len(nums)\n",
    "    result = [0] * n\n",
    "    left = 0\n",
    "    right = n - 1\n",
    "    index = n - 1\n",
    "\n",
    "    while left <= right:\n",
    "        left_square = nums[left] * nums[left]\n",
    "        right_square = nums[right] * nums[right]\n",
    "\n",
    "        if left_square > right_square:\n",
    "            result[index] = left_square\n",
    "            left += 1\n",
    "        else:\n",
    "            result[index] = right_square\n",
    "            right -= 1\n",
    "        index -= 1\n",
    "\n",
    "    return result\n",
    "\n",
    "# Test example\n",
    "nums = [-4, -1, 0, 3, 10]\n",
    "print(sorted_squares(nums))  "
   ]
  },
  {
   "cell_type": "code",
   "execution_count": 5,
   "id": "bd304c92-ce33-49c2-a18b-87c5c2daaed6",
   "metadata": {},
   "outputs": [
    {
     "name": "stdout",
     "output_type": "stream",
     "text": [
      "[[1, 3], [4, 6]]\n"
     ]
    }
   ],
   "source": [
    "## Answer 4)\n",
    "\n",
    "def find_disjoint_nums(nums1, nums2):\n",
    "    set1 = set(nums1)\n",
    "    set2 = set(nums2)\n",
    "\n",
    "    diff1 = set1 - set2\n",
    "    diff2 = set2 - set1\n",
    "\n",
    "    answer = [list(diff1), list(diff2)]\n",
    "    return answer\n",
    "\n",
    "# Test example\n",
    "nums1 = [1, 2, 3]\n",
    "nums2 = [2, 4, 6]\n",
    "print(find_disjoint_nums(nums1, nums2)) "
   ]
  },
  {
   "cell_type": "code",
   "execution_count": 6,
   "id": "aa394985-2cce-460f-807a-c392cdc7857c",
   "metadata": {},
   "outputs": [
    {
     "name": "stdout",
     "output_type": "stream",
     "text": [
      "2\n"
     ]
    }
   ],
   "source": [
    "## Answer 5)\n",
    "def distance_value(arr1, arr2, d):\n",
    "    count = 0\n",
    "\n",
    "    for num1 in arr1:\n",
    "        found = False\n",
    "\n",
    "        for num2 in arr2:\n",
    "            if abs(num1 - num2) <= d:\n",
    "                found = True\n",
    "                break\n",
    "\n",
    "        if not found:\n",
    "            count += 1\n",
    "\n",
    "    return count\n",
    "\n",
    "# Test example\n",
    "arr1 = [4, 5, 8]\n",
    "arr2 = [10, 9, 1, 8]\n",
    "d = 2\n",
    "print(distance_value(arr1, arr2, d))  "
   ]
  },
  {
   "cell_type": "code",
   "execution_count": 7,
   "id": "4fa5a659-79ac-4515-9b72-125959bdc47a",
   "metadata": {},
   "outputs": [
    {
     "name": "stdout",
     "output_type": "stream",
     "text": [
      "[2, 3]\n"
     ]
    }
   ],
   "source": [
    "## Answer 6)\n",
    "def find_duplicates(nums):\n",
    "    result = []\n",
    "\n",
    "    for num in nums:\n",
    "        index = abs(num) - 1\n",
    "        if nums[index] < 0:\n",
    "            result.append(index + 1)\n",
    "        nums[index] = -nums[index]\n",
    "\n",
    "    return result\n",
    "\n",
    "# Test example\n",
    "nums = [4, 3, 2, 7, 8, 2, 3, 1]\n",
    "print(find_duplicates(nums))  "
   ]
  },
  {
   "cell_type": "code",
   "execution_count": 8,
   "id": "21a13f43-7dc3-4d82-a036-4b522849bc69",
   "metadata": {},
   "outputs": [
    {
     "name": "stdout",
     "output_type": "stream",
     "text": [
      "1\n"
     ]
    }
   ],
   "source": [
    "## Answer 7)\n",
    "def find_minimum(nums):\n",
    "    left = 0\n",
    "    right = len(nums) - 1\n",
    "\n",
    "    while left < right:\n",
    "        mid = left + (right - left) // 2\n",
    "\n",
    "        if nums[mid] > nums[right]:\n",
    "            left = mid + 1\n",
    "        else:\n",
    "            right = mid\n",
    "\n",
    "    return nums[left]\n",
    "\n",
    "# Test example\n",
    "nums = [3, 4, 5, 1, 2]\n",
    "print(find_minimum(nums))  "
   ]
  },
  {
   "cell_type": "code",
   "execution_count": 9,
   "id": "cd85d933-09f9-4182-9129-70e4c7fde2d4",
   "metadata": {},
   "outputs": [
    {
     "name": "stdout",
     "output_type": "stream",
     "text": [
      "[1, 3, 4]\n"
     ]
    }
   ],
   "source": [
    "## Answer 8)\n",
    "\n",
    "def find_original_array(changed):\n",
    "    original = []\n",
    "    counts = {}\n",
    "\n",
    "    for num in changed:\n",
    "        if num not in counts:\n",
    "            counts[num] = 0\n",
    "        counts[num] += 1\n",
    "\n",
    "    for num in sorted(changed):\n",
    "        if num in counts and counts[num] > 0:\n",
    "            if num / 2 in counts and counts[num / 2] > 0:\n",
    "                original.append(int(num / 2))\n",
    "                counts[num] -= 1\n",
    "                counts[num / 2] -= 1\n",
    "\n",
    "    return original if len(original) == len(changed) // 2 else []\n",
    "\n",
    "# Test example\n",
    "changed = [1, 3, 4, 2, 6, 8]\n",
    "print(find_original_array(changed))"
   ]
  }
 ],
 "metadata": {
  "kernelspec": {
   "display_name": "Python 3 (ipykernel)",
   "language": "python",
   "name": "python3"
  },
  "language_info": {
   "codemirror_mode": {
    "name": "ipython",
    "version": 3
   },
   "file_extension": ".py",
   "mimetype": "text/x-python",
   "name": "python",
   "nbconvert_exporter": "python",
   "pygments_lexer": "ipython3",
   "version": "3.10.8"
  }
 },
 "nbformat": 4,
 "nbformat_minor": 5
}
