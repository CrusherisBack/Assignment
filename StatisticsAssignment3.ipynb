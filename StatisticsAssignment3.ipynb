{
 "cells": [
  {
   "cell_type": "markdown",
   "id": "87647557-6f3f-4957-8505-e79824ccb5e2",
   "metadata": {},
   "source": [
    "## Answer 1)\n",
    "\n",
    "In statistics and probability theory, the Probability Density Function (PDF) is a function that describes the likelihood of a continuous random variable taking on a specific value or falling within a certain range of values. The PDF, denoted as f(x), provides the relative probability of the random variable being equal to a particular value, or having a value within a given interval.\n",
    "\n",
    "The PDF is defined such that the area under the curve over a certain interval represents the probability of the random variable falling within that interval. In other words, the integral of the PDF over a range of values gives the probability of the random variable taking on values within that range.\n",
    "\n",
    "The PDF must satisfy two properties:\n",
    "1. The PDF is non-negative for all values of the random variable.\n",
    "2. The total area under the PDF curve is equal to 1.\n",
    "\n",
    "The PDF can take different forms depending on the distribution of the random variable. For example, the normal distribution has a bell-shaped PDF, while the exponential distribution has a PDF that decays exponentially.\n",
    "\n",
    "It's worth noting that the PDF is only applicable to continuous random variables. For discrete random variables, the analogous concept is called the Probability Mass Function (PMF), which gives the probabilities directly rather than densities."
   ]
  },
  {
   "cell_type": "markdown",
   "id": "9ced9a5d-e715-41e2-8b1e-070c7d39500b",
   "metadata": {},
   "source": [
    "## Answer 2)\n",
    "There are several types of probability distributions in statistics and probability theory. Each distribution has its own set of characteristics and is suitable for modeling different types of random variables. Here are some commonly encountered probability distributions:\n",
    "\n",
    "1. Uniform Distribution: The uniform distribution assigns equal probability to all values within a specified interval.\n",
    "\n",
    "2. Normal Distribution: The normal distribution, also known as the Gaussian distribution, is a continuous distribution with a bell-shaped curve. It is widely used due to the central limit theorem and is characterized by its mean and standard deviation.\n",
    "\n",
    "3. Exponential Distribution: The exponential distribution models the time between events in a Poisson process. It is often used to model lifetimes, waiting times, and failure rates.\n",
    "\n",
    "4. Binomial Distribution: The binomial distribution describes the number of successes in a fixed number of independent Bernoulli trials, where each trial has the same probability of success.\n",
    "\n",
    "5. Poisson Distribution: The Poisson distribution models the number of events occurring in a fixed interval of time or space, given a known average rate of occurrence.\n",
    "\n",
    "6. Geometric Distribution: The geometric distribution represents the number of trials needed to achieve the first success in a sequence of independent Bernoulli trials.\n",
    "\n",
    "7. Bernoulli Distribution: The Bernoulli distribution represents a single trial with two possible outcomes, typically labeled as success and failure, with a fixed probability of success.\n",
    "\n",
    "8. Beta Distribution: The beta distribution is a continuous distribution defined on the interval [0, 1]. It is often used as a prior distribution in Bayesian statistics.\n",
    "\n",
    "9. Gamma Distribution: The gamma distribution is a continuous distribution that is often used to model waiting times, survival analysis, and various other applications.\n",
    "\n",
    "10. Chi-Square Distribution: The chi-square distribution arises in hypothesis testing and is often used to analyze the goodness of fit or test independence in categorical data.\n",
    "\n",
    "These are just a few examples of probability distributions, and there are many more distributions with different properties and applications. The choice of distribution depends on the characteristics of the random variable being modeled and the specific problem at hand."
   ]
  },
  {
   "cell_type": "code",
   "execution_count": 1,
   "id": "1e84f580-f61f-40bb-b029-7d49c5b1b1b2",
   "metadata": {},
   "outputs": [
    {
     "name": "stdout",
     "output_type": "stream",
     "text": [
      "The PDF at x=1.5 is 0.12951759566589174\n"
     ]
    }
   ],
   "source": [
    "## Answer 3)\n",
    "\n",
    "import math\n",
    "\n",
    "def normal_pdf(x, mean, std_dev):\n",
    "    \"\"\"\n",
    "    Calculate the probability density function (PDF) of a normal distribution at a given point.\n",
    "\n",
    "    Arguments:\n",
    "    x -- The point at which to evaluate the PDF.\n",
    "    mean -- The mean of the normal distribution.\n",
    "    std_dev -- The standard deviation of the normal distribution.\n",
    "\n",
    "    Returns:\n",
    "    The PDF value at the given point.\n",
    "    \"\"\"\n",
    "    coefficient = 1 / (std_dev * math.sqrt(2 * math.pi))\n",
    "    exponent = -((x - mean) ** 2) / (2 * std_dev ** 2)\n",
    "    pdf_value = coefficient * math.exp(exponent)\n",
    "    return pdf_value\n",
    "\n",
    "\n",
    "# Example usage\n",
    "mean = 0\n",
    "std_dev = 1\n",
    "x = 1.5\n",
    "\n",
    "pdf = normal_pdf(x, mean, std_dev)\n",
    "print(f\"The PDF at x={x} is {pdf}\")\n"
   ]
  },
  {
   "cell_type": "markdown",
   "id": "90d89620-aef3-4aca-8956-360da4bb5a6a",
   "metadata": {},
   "source": [
    "## Answer 4)\n",
    "\n",
    "The binomial distribution is a discrete probability distribution that models the number of successes in a fixed number of independent Bernoulli trials, where each trial has the same probability of success, denoted by \"p.\" The binomial distribution has the following properties:\n",
    "\n",
    "1. Fixed Number of Trials: The binomial distribution represents a fixed number, denoted by \"n,\" of independent trials or experiments.\n",
    "\n",
    "2. Independent Trials: Each trial is independent of the others. The outcome of one trial does not affect the outcome of another trial.\n",
    "\n",
    "3. Two Possible Outcomes: Each trial results in either a success or a failure, which are mutually exclusive and exhaustive.\n",
    "\n",
    "4. Constant Probability of Success: The probability of success, denoted by \"p,\" remains the same for each trial.\n",
    "\n",
    "5. Discrete Distribution: The binomial distribution is a discrete distribution, as it deals with a count of the number of successes.\n",
    "\n",
    "Examples of events where the binomial distribution can be applied include:\n",
    "\n",
    "1. Coin Flipping: Suppose you flip a fair coin 10 times and want to calculate the probability of getting exactly 7 heads. Each coin flip can be considered a Bernoulli trial with a success (head) or failure (tail). The binomial distribution can be used to model the number of heads in 10 coin flips.\n",
    "\n",
    "2. Quality Control: Consider a manufacturing process where a certain proportion of items produced are defective. You randomly select 100 items and want to determine the probability of finding exactly 5 defective items. Each item can be considered a trial, with success being a defective item and failure being a non-defective item. The binomial distribution can be used to model the number of defective items in the sample.\n",
    "\n",
    "In both examples, the binomial distribution helps analyze the probability of obtaining a specific number of successes (heads or defective items) in a fixed number of trials (coin flips or item selections) with a constant probability of success (probability of getting a head or probability of finding a defective item)."
   ]
  },
  {
   "cell_type": "code",
   "execution_count": 2,
   "id": "cca553ac-ec92-4b80-93f2-082769164d5e",
   "metadata": {},
   "outputs": [
    {
     "data": {
      "image/png": "[encoded data removed]",
      "text/plain": [
       "<Figure size 640x480 with 1 Axes>"
      ]
     },
     "metadata": {},
     "output_type": "display_data"
    }
   ],
   "source": [
    "## Answer 5)\n",
    "\n",
    "import numpy as np\n",
    "import matplotlib.pyplot as plt\n",
    "\n",
    "# Set the parameters\n",
    "sample_size = 1000\n",
    "probability_success = 0.4\n",
    "\n",
    "# Generate the random sample from the binomial distribution\n",
    "sample = np.random.binomial(1, probability_success, sample_size)\n",
    "\n",
    "# Plot the histogram\n",
    "plt.hist(sample, bins=2, edgecolor='black')\n",
    "plt.xlabel('Number of Successes')\n",
    "plt.ylabel('Frequency')\n",
    "plt.title('Histogram of Binomial Distribution')\n",
    "plt.xticks([0, 1])\n",
    "plt.yticks(np.arange(0, sample_size+1, 100))\n",
    "plt.show()"
   ]
  },
  {
   "cell_type": "code",
   "execution_count": 3,
   "id": "96850060-5db7-4a3c-b28b-430b4eee1062",
   "metadata": {},
   "outputs": [
    {
     "name": "stdout",
     "output_type": "stream",
     "text": [
      "The CDF at k=3 is 0.7575761331330659\n"
     ]
    }
   ],
   "source": [
    "## Answer 6)\n",
    "\n",
    "import math\n",
    "\n",
    "def poisson_cdf(k, mean):\n",
    "    \"\"\"\n",
    "    Calculate the cumulative distribution function (CDF) of a Poisson distribution at a given point.\n",
    "\n",
    "    Arguments:\n",
    "    k -- The point at which to evaluate the CDF.\n",
    "    mean -- The mean of the Poisson distribution.\n",
    "\n",
    "    Returns:\n",
    "    The CDF value at the given point.\n",
    "    \"\"\"\n",
    "    cdf_value = 0\n",
    "    for i in range(k + 1):\n",
    "        cdf_value += (math.exp(-mean) * (mean ** i)) / math.factorial(i)\n",
    "    return cdf_value\n",
    "\n",
    "\n",
    "# Example usage\n",
    "mean = 2.5\n",
    "k = 3\n",
    "\n",
    "cdf = poisson_cdf(k, mean)\n",
    "print(f\"The CDF at k={k} is {cdf}\")\n"
   ]
  },
  {
   "cell_type": "markdown",
   "id": "f42a403b-e942-45e1-ae7a-9c60cfa03130",
   "metadata": {},
   "source": [
    "## Answer 7)\n",
    "\n",
    "The Binomial and Poisson distributions are both probability distributions used to model discrete random variables, but they differ in terms of the underlying assumptions and the types of events they are suitable for modeling. Here are the key differences between the Binomial and Poisson distributions:\n",
    "\n",
    "1. Number of Trials:\n",
    "   - Binomial Distribution: The Binomial distribution models the number of successes in a fixed number of independent trials or experiments, denoted by \"n.\"\n",
    "   - Poisson Distribution: The Poisson distribution models the number of events occurring in a fixed interval of time or space, without specifying the number of trials or experiments.\n",
    "\n",
    "2. Assumptions:\n",
    "   - Binomial Distribution: The Binomial distribution assumes that each trial is independent, and the probability of success, denoted by \"p,\" remains constant across all trials.\n",
    "   - Poisson Distribution: The Poisson distribution assumes that events occur randomly and independently of each other, and the average rate of occurrence, denoted by \"λ\" (lambda), remains constant over the interval.\n",
    "\n",
    "3. Probability Parameters:\n",
    "   - Binomial Distribution: The Binomial distribution is characterized by two parameters: the number of trials (n) and the probability of success (p).\n",
    "   - Poisson Distribution: The Poisson distribution is characterized by a single parameter: the average rate of occurrence (λ).\n",
    "\n",
    "4. Distribution Shape:\n",
    "   - Binomial Distribution: The Binomial distribution typically exhibits a symmetric or skewed shape, depending on the values of n and p. As the number of trials increases, and the probability of success approaches 0.5, the distribution becomes more symmetric and bell-shaped, resembling a normal distribution due to the Central Limit Theorem.\n",
    "   - Poisson Distribution: The Poisson distribution often exhibits a right-skewed shape, especially for smaller values of λ. As λ increases, the distribution becomes more symmetric and bell-shaped, resembling a normal distribution.\n",
    "\n",
    "5. Events Modeled:\n",
    "   - Binomial Distribution: The Binomial distribution is suitable for modeling events with two possible outcomes (e.g., success/failure, heads/tails, yes/no), where the number of trials and the probability of success are known or specified.\n",
    "   - Poisson Distribution: The Poisson distribution is suitable for modeling events that occur randomly over a fixed interval of time or space, such as the number of phone calls received in an hour, the number of accidents at an intersection in a day, or the number of emails received per day.\n",
    "\n",
    "In summary, the Binomial distribution models the number of successes in a fixed number of trials with a constant probability of success, while the Poisson distribution models the number of events occurring randomly over a fixed interval with a constant average rate of occurrence. The choice between these distributions depends on the nature of the events being modeled and the specific assumptions that hold for the data."
   ]
  },
  {
   "cell_type": "code",
   "execution_count": 4,
   "id": "e41b7483-50dc-45fd-a547-9f716d2a2a7e",
   "metadata": {},
   "outputs": [
    {
     "name": "stdout",
     "output_type": "stream",
     "text": [
      "Sample Mean: 4.933\n",
      "Sample Variance: 4.9505110000000005\n"
     ]
    }
   ],
   "source": [
    "## Answer 8)\n",
    "import numpy as np\n",
    "\n",
    "# Set the parameters\n",
    "sample_size = 1000\n",
    "mean = 5\n",
    "\n",
    "# Generate the random sample from the Poisson distribution\n",
    "sample = np.random.poisson(mean, sample_size)\n",
    "\n",
    "# Calculate the sample mean and variance\n",
    "sample_mean = np.mean(sample)\n",
    "sample_variance = np.var(sample)\n",
    "\n",
    "# Print the results\n",
    "print(f\"Sample Mean: {sample_mean}\")\n",
    "print(f\"Sample Variance: {sample_variance}\")\n"
   ]
  },
  {
   "cell_type": "markdown",
   "id": "501998e4-2686-4b94-8af5-0db117f228d7",
   "metadata": {},
   "source": [
    "## Answer 9)\n",
    "In both the Binomial and Poisson distributions, the mean and variance are related, but the nature of their relationship differs due to the underlying assumptions of the distributions.\n",
    "\n",
    "For the Binomial distribution:\n",
    "- Mean: The mean of a Binomial distribution is given by the formula `mean = n * p`, where 'n' is the number of trials and 'p' is the probability of success in each trial.\n",
    "- Variance: The variance of a Binomial distribution is given by the formula `variance = n * p * (1 - p)`.\n",
    "\n",
    "In the Binomial distribution, the mean and variance are directly related. The variance is determined by both the number of trials (n) and the probability of success (p). As the number of trials or the probability of success increases, the spread or variability of the distribution increases, resulting in a larger variance.\n",
    "\n",
    "For the Poisson distribution:\n",
    "- Mean: The mean of a Poisson distribution is denoted by the parameter 'λ' (lambda), which represents the average rate of occurrence of events in a fixed interval of time or space.\n",
    "- Variance: The variance of a Poisson distribution is also equal to 'λ' (lambda), which means the variance is equal to the mean.\n",
    "\n",
    "In the Poisson distribution, the mean and variance are equal. This property is a unique characteristic of the Poisson distribution. It indicates that the spread or variability of the distribution is solely determined by the average rate of occurrence (λ), and it does not depend on any other factors.\n",
    "\n",
    "To summarize:\n",
    "- In the Binomial distribution, the variance depends on both the number of trials and the probability of success. The variance increases as the number of trials or the probability of success deviates from 0.5.\n",
    "- In the Poisson distribution, the variance is solely determined by the mean, which is equal to the average rate of occurrence. The variance is always equal to the mean.\n",
    "\n",
    "In general, when the mean and variance are equal (as in the Poisson distribution), the distribution is said to be \"equidispersed\" or \"without overdispersion.\" In contrast, when the variance is larger than the mean (as in the Binomial distribution), the distribution is said to be \"overdispersed.\""
   ]
  },
  {
   "cell_type": "markdown",
   "id": "d21f0970-6600-49e6-b81a-c492e58616e5",
   "metadata": {},
   "source": [
    "## Answer 10)\n",
    "\n",
    "In a normal distribution, the least frequent data points occur in the tails of the distribution, far away from the mean. The normal distribution is symmetric, so the least frequent data points appear in the extreme left and right tails.\n",
    "\n",
    "In a standard normal distribution (mean = 0, standard deviation = 1), the data points become less frequent as they move farther away from the mean in both the positive and negative directions. As you move away from the mean, the probability density decreases, resulting in fewer data points in the tails of the distribution.\n",
    "\n",
    "The exact location of the least frequent data points in a normal distribution depends on the specific parameters of the distribution, such as the mean and standard deviation. In a normal distribution, approximately 68% of the data falls within one standard deviation of the mean, about 95% falls within two standard deviations, and approximately 99.7% falls within three standard deviations. The remaining percentage of data falls in the tails of the distribution, with the least frequent data points occurring at the far ends of the tails."
   ]
  }
 ],
 "metadata": {
  "kernelspec": {
   "display_name": "Python 3 (ipykernel)",
   "language": "python",
   "name": "python3"
  },
  "language_info": {
   "codemirror_mode": {
    "name": "ipython",
    "version": 3
   },
   "file_extension": ".py",
   "mimetype": "text/x-python",
   "name": "python",
   "nbconvert_exporter": "python",
   "pygments_lexer": "ipython3",
   "version": "3.10.8"
  }
 },
 "nbformat": 4,
 "nbformat_minor": 5
}
