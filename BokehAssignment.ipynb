{
 "cells": [
  {
   "cell_type": "code",
   "execution_count": null,
   "id": "30b23aba-d614-46d6-8a2f-0d8b2a16affe",
   "metadata": {},
   "outputs": [],
   "source": [
    "## Answer 1)\n",
    "\n",
    "from bokeh.plotting import figure, show\n",
    "from bokeh.io import output_notebook\n",
    "\n",
    "# Prepare the data\n",
    "x = [1, 2, 3, 4, 5]\n",
    "y = [2, 4, 6, 8, 10]\n",
    "\n",
    "# Create a figure object\n",
    "p = figure()\n",
    "\n",
    "# Add glyphs to the figure\n",
    "p.circle(x, y, size=10, color='red')\n",
    "\n",
    "# Customize the plot\n",
    "p.xaxis.axis_label = 'X-axis'\n",
    "p.yaxis.axis_label = 'Y-axis'\n",
    "p.plot_width = 800\n",
    "p.plot_height = 400\n",
    "\n",
    "# Show the plot\n",
    "output_notebook()\n",
    "show(p)"
   ]
  },
  {
   "cell_type": "code",
   "execution_count": 8,
   "id": "3cbf9d20-0faf-4752-83ba-ec318de5b992",
   "metadata": {},
   "outputs": [],
   "source": [
    "## Answer 2)\n",
    "from bokeh.plotting import figure, show\n",
    "\n",
    "# Prepare the data\n",
    "x = [1, 2, 3, 4, 5]\n",
    "y = [2, 4, 6, 8, 10]\n",
    "\n",
    "# Create a figure object\n",
    "p = figure()\n",
    "\n",
    "# Add glyphs to the figure\n",
    "p.circle(x, y, size=10, color='red')  # Add circle glyphs\n",
    "\n",
    "# Show the plot\n",
    "show(p)"
   ]
  },
  {
   "cell_type": "markdown",
   "id": "6196f1ed-6353-42c7-a5f0-789faa6dbad4",
   "metadata": {},
   "source": [
    "## Answer 3)\n",
    "\n",
    "In Bokeh, you can customize the appearance of a plot by modifying various attributes of the plot, including axes, titles, legends, colors, line widths, and more. Here are some common ways to customize the appearance of a Bokeh plot:\n",
    "\n",
    "1. Axes:\n",
    "   - To set the labels of the x-axis and y-axis, you can use `plot.xaxis.axis_label` and `plot.yaxis.axis_label`, respectively.\n",
    "   - To customize other properties of the axes, such as tick labels, tick sizes, or axis limits, you can access and modify the corresponding attributes, such as `plot.xaxis`, `plot.yaxis`, `plot.x_range`, `plot.y_range`, etc.\n",
    "\n",
    "2. Title:\n",
    "   - To set the title of the plot, you can use `plot.title.text`.\n",
    "   - You can also modify other properties of the title, such as font size, alignment, and color by accessing the `plot.title` attribute.\n",
    "\n",
    "3. Legend:\n",
    "   - To add a legend to the plot, you can specify the `legend_label` parameter in the glyph methods when adding data. For example, `p.circle(x, y, legend_label='Data')`.\n",
    "   - To customize the appearance of the legend, you can access the `plot.legend` attribute and modify its properties, such as position, font size, and background color.\n",
    "\n",
    "4. Colors, Line Widths, and Other Attributes:\n",
    "   - You can control the colors of the glyphs using the `color` parameter in the glyph methods, or by accessing and modifying the `fill_color` and `line_color` attributes.\n",
    "   - Line widths can be adjusted using the `line_width` attribute.\n",
    "   - Other attributes, such as transparency (`alpha`), line dash patterns (`line_dash`), and markers (`marker`), can be customized similarly.\n"
   ]
  },
  {
   "cell_type": "code",
   "execution_count": null,
   "id": "f5deefad-18f0-4f5f-9481-5f50484c3622",
   "metadata": {},
   "outputs": [],
   "source": [
    "## Answer 4)\n",
    "\n",
    "from bokeh.plotting import curdoc\n",
    "from bokeh.models import ColumnDataSource\n",
    "from bokeh.plotting import figure\n",
    "from bokeh.layouts import row\n",
    "\n",
    "# Define the update function\n",
    "def update_plot():\n",
    "    # Update the data source\n",
    "    new_data = dict(x=[1, 2, 3], y=[4, 5, 6])\n",
    "    source.data = new_data\n",
    "\n",
    "# Create the figure and data source\n",
    "source = ColumnDataSource(data=dict(x=[1, 2, 3], y=[4, 5, 6]))\n",
    "plot = figure(plot_width=400, plot_height=300, tools='pan,box_zoom')\n",
    "\n",
    "# Add glyphs to the plot\n",
    "plot.circle('x', 'y', size=10, color='red', source=source)\n",
    "\n",
    "# Register the update function as a callback\n",
    "curdoc().add_periodic_callback(update_plot, 1000)  # Update every 1 second\n",
    "\n",
    "# Add the plot to the document\n",
    "curdoc().add_root(row(plot))\n"
   ]
  },
  {
   "cell_type": "markdown",
   "id": "3be30657-9d00-4376-94d1-7cfba4bd672b",
   "metadata": {},
   "source": [
    "## Answer 5)\n",
    "\n",
    "Create a Bokeh plot and save it as an HTML file.\n",
    "Set up your Flask or Django application.\n",
    "Create a template file (HTML file) that will render the Bokeh plot.\n",
    "Run your Flask or Django application.\n",
    "\n",
    "Access the plot in your web browser by visiting the appropriate route or URL:\n",
    "\n",
    "For Flask, visit http://localhost:5000/ (or the appropriate host and port).\n",
    "For Django, visit http://localhost:8000/ (or the appropriate host and port)."
   ]
  },
  {
   "cell_type": "code",
   "execution_count": null,
   "id": "2f00ab19-db98-4fd8-a95d-7ca0326f61e8",
   "metadata": {},
   "outputs": [],
   "source": []
  }
 ],
 "metadata": {
  "kernelspec": {
   "display_name": "Python 3 (ipykernel)",
   "language": "python",
   "name": "python3"
  },
  "language_info": {
   "codemirror_mode": {
    "name": "ipython",
    "version": 3
   },
   "file_extension": ".py",
   "mimetype": "text/x-python",
   "name": "python",
   "nbconvert_exporter": "python",
   "pygments_lexer": "ipython3",
   "version": "3.10.8"
  }
 },
 "nbformat": 4,
 "nbformat_minor": 5
}
