{
 "cells": [
  {
   "cell_type": "code",
   "execution_count": 1,
   "id": "e4a3cc99-93f4-4d1a-970b-74c5c9dbe4bf",
   "metadata": {},
   "outputs": [
    {
     "name": "stdout",
     "output_type": "stream",
     "text": [
      "[1, 2]\n"
     ]
    }
   ],
   "source": [
    "## Answer 1)\n",
    "def twoSum(numbers, target):\n",
    "    left = 0\n",
    "    right = len(numbers) - 1\n",
    "\n",
    "    while left < right:\n",
    "        current_sum = numbers[left] + numbers[right]\n",
    "\n",
    "        if current_sum == target:\n",
    "            return [left + 1, right + 1]\n",
    "        elif current_sum < target:\n",
    "            left += 1\n",
    "        else:\n",
    "            right -= 1\n",
    "\n",
    "    return []\n",
    "\n",
    "\n",
    "# Example usage\n",
    "numbers = [2, 7, 11, 15]\n",
    "target = 9\n",
    "result = twoSum(numbers, target)\n",
    "print(result)"
   ]
  },
  {
   "cell_type": "code",
   "execution_count": 2,
   "id": "a118bb38-3294-4561-8f15-916ee9387a2a",
   "metadata": {},
   "outputs": [
    {
     "name": "stdout",
     "output_type": "stream",
     "text": [
      "[3, 4]\n"
     ]
    }
   ],
   "source": [
    "## Answer 2)\n",
    "\n",
    "def searchRange(nums, target):\n",
    "    start = -1\n",
    "    end = -1\n",
    "\n",
    "    # Find leftmost occurrence\n",
    "    left = 0\n",
    "    right = len(nums) - 1\n",
    "\n",
    "    while left <= right:\n",
    "        mid = (left + right) // 2\n",
    "\n",
    "        if nums[mid] == target:\n",
    "            start = mid\n",
    "            right = mid - 1\n",
    "        elif nums[mid] < target:\n",
    "            left = mid + 1\n",
    "        else:\n",
    "            right = mid - 1\n",
    "\n",
    "    # Find rightmost occurrence\n",
    "    left = 0\n",
    "    right = len(nums) - 1\n",
    "\n",
    "    while left <= right:\n",
    "        mid = (left + right) // 2\n",
    "\n",
    "        if nums[mid] == target:\n",
    "            end = mid\n",
    "            left = mid + 1\n",
    "        elif nums[mid] < target:\n",
    "            left = mid + 1\n",
    "        else:\n",
    "            right = mid - 1\n",
    "\n",
    "    return [start, end]\n",
    "\n",
    "\n",
    "# Example usage\n",
    "nums = [5, 7, 7, 8, 8, 10]\n",
    "target = 8\n",
    "result = searchRange(nums, target)\n",
    "print(result)\n"
   ]
  },
  {
   "cell_type": "code",
   "execution_count": 3,
   "id": "7f0b7a4c-570c-406b-897c-c8c73e484a9c",
   "metadata": {},
   "outputs": [
    {
     "name": "stdout",
     "output_type": "stream",
     "text": [
      "2\n"
     ]
    }
   ],
   "source": [
    "## Answer 3)\n",
    "\n",
    "def findPeakElement(nums):\n",
    "    left = 0\n",
    "    right = len(nums) - 1\n",
    "\n",
    "    while left < right:\n",
    "        mid = (left + right) // 2\n",
    "\n",
    "        if nums[mid] < nums[mid + 1]:\n",
    "            left = mid + 1\n",
    "        else:\n",
    "            right = mid\n",
    "\n",
    "    return left\n",
    "\n",
    "\n",
    "# Example usage\n",
    "nums = [1, 2, 3, 1]\n",
    "result = findPeakElement(nums)\n",
    "print(result)\n"
   ]
  },
  {
   "cell_type": "code",
   "execution_count": 4,
   "id": "c22e10a7-8a43-41a1-bdc6-a3552de33c46",
   "metadata": {},
   "outputs": [
    {
     "name": "stdout",
     "output_type": "stream",
     "text": [
      "2\n",
      "4\n"
     ]
    }
   ],
   "source": [
    "## Answer 4)\n",
    "\n",
    "def searchInsert(nums, target):\n",
    "    left = 0\n",
    "    right = len(nums) - 1\n",
    "\n",
    "    while left <= right:\n",
    "        mid = (left + right) // 2\n",
    "\n",
    "        if nums[mid] == target:\n",
    "            return mid\n",
    "        elif nums[mid] < target:\n",
    "            left = mid + 1\n",
    "        else:\n",
    "            right = mid - 1\n",
    "\n",
    "    return left\n",
    "\n",
    "\n",
    "# Example usage\n",
    "nums = [1, 3, 5, 6]\n",
    "target = 5\n",
    "result = searchInsert(nums, target)\n",
    "print(result)\n",
    "\n",
    "target = 7\n",
    "result = searchInsert(nums, target)\n",
    "print(result)\n"
   ]
  },
  {
   "cell_type": "code",
   "execution_count": 5,
   "id": "e63a4e1a-50a4-4e3c-841b-9b6cff5ce4cd",
   "metadata": {},
   "outputs": [
    {
     "name": "stdout",
     "output_type": "stream",
     "text": [
      "4\n"
     ]
    }
   ],
   "source": [
    "## Answer 5)\n",
    "\n",
    "def majorityElement(nums):\n",
    "    candidate = None\n",
    "    count = 0\n",
    "\n",
    "    for num in nums:\n",
    "        if count == 0:\n",
    "            candidate = num\n",
    "            count = 1\n",
    "        elif num == candidate:\n",
    "            count += 1\n",
    "        else:\n",
    "            count -= 1\n",
    "\n",
    "    count = 0\n",
    "    for num in nums:\n",
    "        if num == candidate:\n",
    "            count += 1\n",
    "\n",
    "    if count > len(nums) // 2:\n",
    "        return candidate\n",
    "    else:\n",
    "        return None\n",
    "\n",
    "\n",
    "# Example usage\n",
    "nums = [3, 3, 4, 2, 4, 4, 2, 4, 4]\n",
    "result = majorityElement(nums)\n",
    "print(result)\n"
   ]
  },
  {
   "cell_type": "code",
   "execution_count": 6,
   "id": "82ea1065-614c-4c9d-9a3c-3046f36626bd",
   "metadata": {},
   "outputs": [
    {
     "name": "stdout",
     "output_type": "stream",
     "text": [
      "4\n"
     ]
    }
   ],
   "source": [
    "## Answer 6)\n",
    "\n",
    "def isBadVersion(version):\n",
    "    # Simulated implementation of isBadVersion\n",
    "    bad_versions = [False, False, False, True, True]  # Simulated bad versions\n",
    "\n",
    "    return bad_versions[version - 1]\n",
    "\n",
    "def firstBadVersion(n):\n",
    "    left = 1\n",
    "    right = n\n",
    "\n",
    "    while left < right:\n",
    "        mid = (left + right) // 2\n",
    "\n",
    "        if isBadVersion(mid):\n",
    "            right = mid\n",
    "        else:\n",
    "            left = mid + 1\n",
    "\n",
    "    return left\n",
    "\n",
    "\n",
    "# Example usage\n",
    "n = 5\n",
    "result = firstBadVersion(n)\n",
    "print(result)\n"
   ]
  },
  {
   "cell_type": "code",
   "execution_count": 7,
   "id": "e8d95a75-0c64-4cae-95d7-8c5d2d523c0a",
   "metadata": {},
   "outputs": [
    {
     "name": "stdout",
     "output_type": "stream",
     "text": [
      "3\n"
     ]
    }
   ],
   "source": [
    "## Answer 7)\n",
    "\n",
    "def mergeSortAndCount(arr, start, end):\n",
    "    if start >= end:\n",
    "        return 0\n",
    "\n",
    "    mid = (start + end) // 2\n",
    "    count = 0\n",
    "\n",
    "    count += mergeSortAndCount(arr, start, mid)\n",
    "    count += mergeSortAndCount(arr, mid + 1, end)\n",
    "\n",
    "    merged = []\n",
    "    i = start\n",
    "    j = mid + 1\n",
    "\n",
    "    while i <= mid and j <= end:\n",
    "        if arr[i] > arr[j]:\n",
    "            count += (mid - i + 1)\n",
    "            merged.append(arr[j])\n",
    "            j += 1\n",
    "        else:\n",
    "            merged.append(arr[i])\n",
    "            i += 1\n",
    "\n",
    "    while i <= mid:\n",
    "        merged.append(arr[i])\n",
    "        i += 1\n",
    "\n",
    "    while j <= end:\n",
    "        merged.append(arr[j])\n",
    "        j += 1\n",
    "\n",
    "    arr[start:end+1] = merged\n",
    "\n",
    "    return count\n",
    "\n",
    "def countInversions(arr):\n",
    "    return mergeSortAndCount(arr, 0, len(arr) - 1)\n",
    "\n",
    "\n",
    "# Example usage\n",
    "arr = [2, 4, 1, 3, 5]\n",
    "result = countInversions(arr)\n",
    "print(result)\n"
   ]
  },
  {
   "cell_type": "code",
   "execution_count": 8,
   "id": "fa9f2d29-f7e9-48eb-842b-a53b496e120c",
   "metadata": {},
   "outputs": [
    {
     "name": "stdout",
     "output_type": "stream",
     "text": [
      "20\n",
      "80\n"
     ]
    }
   ],
   "source": [
    "## Answer 8)\n",
    "\n",
    "def findCommonElements(ar1, ar2, ar3):\n",
    "    p1 = p2 = p3 = 0\n",
    "\n",
    "    while p1 < len(ar1) and p2 < len(ar2) and p3 < len(ar3):\n",
    "        if ar1[p1] == ar2[p2] == ar3[p3]:\n",
    "            print(ar1[p1])\n",
    "            p1 += 1\n",
    "            p2 += 1\n",
    "            p3 += 1\n",
    "        elif ar1[p1] <= ar2[p2] and ar1[p1] <= ar3[p3]:\n",
    "            p1 += 1\n",
    "        elif ar2[p2] <= ar1[p1] and ar2[p2] <= ar3[p3]:\n",
    "            p2 += 1\n",
    "        else:\n",
    "            p3 += 1\n",
    "\n",
    "\n",
    "# Example usage\n",
    "ar1 = [1, 5, 10, 20, 40, 80]\n",
    "ar2 = [6, 7, 20, 80, 100]\n",
    "ar3 = [3, 4, 15, 20, 30, 70, 80, 120]\n",
    "\n",
    "findCommonElements(ar1, ar2, ar3)\n"
   ]
  }
 ],
 "metadata": {
  "kernelspec": {
   "display_name": "Python 3 (ipykernel)",
   "language": "python",
   "name": "python3"
  },
  "language_info": {
   "codemirror_mode": {
    "name": "ipython",
    "version": 3
   },
   "file_extension": ".py",
   "mimetype": "text/x-python",
   "name": "python",
   "nbconvert_exporter": "python",
   "pygments_lexer": "ipython3",
   "version": "3.10.8"
  }
 },
 "nbformat": 4,
 "nbformat_minor": 5
}
