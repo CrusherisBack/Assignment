{
 "cells": [
  {
   "cell_type": "code",
   "execution_count": 2,
   "id": "36bdbeb2-0faf-4f24-a047-8246da77fc57",
   "metadata": {},
   "outputs": [
    {
     "name": "stdout",
     "output_type": "stream",
     "text": [
      "0     4\n",
      "1     8\n",
      "2    15\n",
      "3    16\n",
      "4    23\n",
      "5    42\n",
      "dtype: int64\n"
     ]
    }
   ],
   "source": [
    "## Answer 1)\n",
    "import pandas as pd\n",
    "data = [4, 8, 15, 16, 23, 42]\n",
    "series = pd.Series(data)\n",
    "print(series)"
   ]
  },
  {
   "cell_type": "code",
   "execution_count": 3,
   "id": "88a1bbd5-0873-42b0-b4ab-01a29773b9ae",
   "metadata": {},
   "outputs": [
    {
     "name": "stdout",
     "output_type": "stream",
     "text": [
      "0     1\n",
      "1     2\n",
      "2     3\n",
      "3     4\n",
      "4     5\n",
      "5     6\n",
      "6     7\n",
      "7     8\n",
      "8     9\n",
      "9    10\n",
      "dtype: int64\n"
     ]
    }
   ],
   "source": [
    "## Answer 2)\n",
    "import pandas as pd\n",
    "data = [1, 2, 3, 4, 5, 6, 7, 8, 9, 10]\n",
    "series = pd.Series(data)\n",
    "print(series)"
   ]
  },
  {
   "cell_type": "code",
   "execution_count": 4,
   "id": "48fcf27b-b333-4e12-9a5d-d4dae8cc27ae",
   "metadata": {},
   "outputs": [
    {
     "name": "stdout",
     "output_type": "stream",
     "text": [
      "     Name  Age  Gender\n",
      "0   Alice   25  Female\n",
      "1     Bob   30    Male\n",
      "2  Claire   27  Female\n"
     ]
    }
   ],
   "source": [
    "## Answer 3)\n",
    "import pandas as pd\n",
    "names = [\"Alice\", \"Bob\", \"Claire\"]\n",
    "ages = [25, 30, 27]\n",
    "genders = [\"Female\", \"Male\", \"Female\"]\n",
    "df = pd.DataFrame({\"Name\": names, \"Age\": ages, \"Gender\": genders})\n",
    "print(df)\n"
   ]
  },
  {
   "cell_type": "markdown",
   "id": "d1121bfd-8f9a-4330-b350-3267c54123e0",
   "metadata": {},
   "source": [
    "## Answer 4)\n",
    "A DataFrame in Pandas is a two-dimensional data structure that can store data of different types. It is a collection of Series objects, each of which represents a column in the DataFrame. The rows of a DataFrame are indexed, and each row can contain a different set of values."
   ]
  },
  {
   "cell_type": "markdown",
   "id": "1564ae12-dceb-407e-9626-bdd8e44c12dd",
   "metadata": {},
   "source": [
    "## Answer 5)\n",
    "head() and tail() - These functions return the first few or last few rows of the DataFrame, respectively. This can be useful for getting a quick overview of the data.\n",
    "describe() - This function returns a summary of the statistical distribution of the data in the DataFrame. This can be useful for understanding the data and identifying any outliers.\n",
    "sort_values() - This function sorts the DataFrame by the values in a particular column. This can be useful for filtering the data or for making comparisons.\n",
    "filter() - This function returns a filtered version of the DataFrame that only includes rows that match a certain criteria. This can be useful for isolating specific data points or for removing unwanted data.\n",
    "apply() - This function applies a function to each row or column in the DataFrame. This can be useful for transforming the data or for calculating new values."
   ]
  },
  {
   "cell_type": "markdown",
   "id": "e182d84e-8bc6-46c7-993f-017d7db6116f",
   "metadata": {},
   "source": [
    "## Answer 6)\n",
    "Series and DataFrame are both mutable in nature, while Panel is not. This means that the values in a Series or DataFrame can be changed after the object is created. However, the size of a Series or DataFrame cannot be changed.\n",
    "\n",
    "Panel is a three-dimensional data structure, while Series and DataFrame are two-dimensional. This means that Panel can store more complex data than Series or DataFrame. However, Panel is not mutable, so the values in a Panel cannot be changed after the object is created."
   ]
  },
  {
   "cell_type": "code",
   "execution_count": 5,
   "id": "52a30b54-650a-4e99-9d38-b7ac6e0a573c",
   "metadata": {},
   "outputs": [
    {
     "name": "stdout",
     "output_type": "stream",
     "text": [
      "     Name  Age  Gender\n",
      "0   Alice   25  Female\n",
      "1     Bob   30    Male\n",
      "2  Claire   27  Female\n"
     ]
    }
   ],
   "source": [
    "## Answer 7)\n",
    "import pandas as pd\n",
    "\n",
    "# Create three Series\n",
    "name_series = pd.Series([\"Alice\", \"Bob\", \"Claire\"])\n",
    "age_series = pd.Series([25, 30, 27])\n",
    "gender_series = pd.Series([\"Female\", \"Male\", \"Female\"])\n",
    "\n",
    "# Create a DataFrame from the three Series\n",
    "df = pd.DataFrame({\"Name\": name_series, \"Age\": age_series, \"Gender\": gender_series})\n",
    "\n",
    "# Print the DataFrame\n",
    "print(df)"
   ]
  },
  {
   "cell_type": "code",
   "execution_count": null,
   "id": "75ed0cc8-b437-4750-affc-05abc8f487d8",
   "metadata": {},
   "outputs": [],
   "source": []
  }
 ],
 "metadata": {
  "kernelspec": {
   "display_name": "Python 3 (ipykernel)",
   "language": "python",
   "name": "python3"
  },
  "language_info": {
   "codemirror_mode": {
    "name": "ipython",
    "version": 3
   },
   "file_extension": ".py",
   "mimetype": "text/x-python",
   "name": "python",
   "nbconvert_exporter": "python",
   "pygments_lexer": "ipython3",
   "version": "3.10.8"
  }
 },
 "nbformat": 4,
 "nbformat_minor": 5
}
