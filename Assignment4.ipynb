{
 "cells": [
  {
   "cell_type": "code",
   "execution_count": 5,
   "id": "95bd6306-05a0-49c6-88c6-b7017a840d6b",
   "metadata": {},
   "outputs": [],
   "source": [
    "# Answer 1)\n",
    "#The def keyword is used to create a function in python\n",
    "def get_odd_numbers():\n",
    "    odds = []\n",
    "    for i in range(1, 26):\n",
    "        if i % 2 != 0:\n",
    "            odds.append(i)\n",
    "    return odds"
   ]
  },
  {
   "cell_type": "code",
   "execution_count": 6,
   "id": "f09e6f7f-00e6-4b2d-a3ad-f82f76af82b4",
   "metadata": {},
   "outputs": [
    {
     "name": "stdout",
     "output_type": "stream",
     "text": [
      "3\n",
      "5\n",
      "6\n",
      "pw\n",
      "skills\n"
     ]
    }
   ],
   "source": [
    "#Answer 2)\n",
    "#In Python, *args and **kwargs are special syntax used in function definitions to pass a variable number of arguments to a function.\n",
    "#*args is used to pass a variable number of non-keyword arguments to a function. It allows the function to accept any number of positional arguments by packing them into a tuple. \n",
    "#Example:\n",
    "def my_function(*args):\n",
    "    for arg in args:\n",
    "        print(arg)\n",
    "my_function(3,5,6)\n",
    "my_function(\"pw\", \"skills\")\n",
    "\n",
    "    "
   ]
  },
  {
   "cell_type": "code",
   "execution_count": 8,
   "id": "2afaaabe-81e3-46fb-bb7f-baa3648167a9",
   "metadata": {},
   "outputs": [
    {
     "name": "stdout",
     "output_type": "stream",
     "text": [
      "name yoyo\n",
      "age 19\n",
      "city Ahmedabad\n"
     ]
    }
   ],
   "source": [
    "# Example for **kwargs\n",
    "def my_function(**kwargs):\n",
    "    for key, value in kwargs.items():\n",
    "        print(key, value)\n",
    "my_function(name=\"yoyo\", age=19, city=\"Ahmedabad\")\n"
   ]
  },
  {
   "cell_type": "code",
   "execution_count": 9,
   "id": "b53162c2-aff3-4d4a-8b10-01f18bf52dde",
   "metadata": {},
   "outputs": [
    {
     "name": "stdout",
     "output_type": "stream",
     "text": [
      "2\n",
      "4\n",
      "6\n",
      "8\n",
      "10\n"
     ]
    }
   ],
   "source": [
    "# Answer 3)\n",
    "#Iterator in Python is an object that is used to iterate over iterable objects like lists, tuples, dicts, and sets. The iterator object is initialized using the iter() method. It uses the next() method for iteration.\n",
    "# Create an iterator object\n",
    "my_list = [2, 4, 6, 8, 10, 12, 14, 16, 18, 20]\n",
    "my_iter = iter(my_list)\n",
    "\n",
    "# Iterate over the first five elements using next() method\n",
    "for i in range(5):\n",
    "    print(next(my_iter))\n"
   ]
  },
  {
   "cell_type": "code",
   "execution_count": 10,
   "id": "4d6df651-b237-4cb8-9b33-8e874ab2f44b",
   "metadata": {},
   "outputs": [
    {
     "name": "stdout",
     "output_type": "stream",
     "text": [
      "0\n",
      "1\n",
      "2\n"
     ]
    }
   ],
   "source": [
    "# Answer 4)\n",
    "# A generator function is a special kind of function in Python that generates a series of values and returns them one at a time instead of returning a list of values all at once. It uses the yield keyword instead of return to return the values.\n",
    "# The yield keyword is used to return a value from the generator function and pause the execution of the function. When the function is called again, it resumes the execution from where it left off and continues until the next yield statement is encountered.\n",
    "def my_generator(n):\n",
    "\n",
    "    # initialize counter\n",
    "    value = 0\n",
    "\n",
    "    # loop until counter is less than n\n",
    "    while value < n:\n",
    "\n",
    "        # produce the current value of the counter\n",
    "        yield value\n",
    "\n",
    "        # increment the counter\n",
    "        value += 1\n",
    "\n",
    "# iterate over the generator object produced by my_generator\n",
    "for value in my_generator(3):\n",
    "\n",
    "    # print each value produced by generator\n",
    "    print(value)"
   ]
  },
  {
   "cell_type": "code",
   "execution_count": 18,
   "id": "196ad52b-c5b5-40cd-aa39-458b90a36d74",
   "metadata": {},
   "outputs": [
    {
     "name": "stdout",
     "output_type": "stream",
     "text": [
      "2\n",
      "3\n",
      "5\n",
      "7\n",
      "11\n",
      "13\n",
      "17\n",
      "19\n",
      "23\n",
      "29\n",
      "31\n",
      "37\n",
      "41\n",
      "43\n",
      "47\n",
      "53\n",
      "59\n",
      "61\n",
      "67\n",
      "71\n"
     ]
    }
   ],
   "source": [
    "# Answer 5)\n",
    "def prime_generator():\n",
    "    yield 2\n",
    "    primes = [2]\n",
    "    for num in range(3, 1000):\n",
    "        is_prime = True\n",
    "        for prime in primes:\n",
    "            if num % prime == 0:\n",
    "                is_prime = False\n",
    "                break\n",
    "        if is_prime:\n",
    "            primes.append(num)\n",
    "            yield num\n",
    "\n",
    "gen = prime_generator()\n",
    "for i in range(20):\n",
    "    print(next(gen))\n"
   ]
  },
  {
   "cell_type": "code",
   "execution_count": 11,
   "id": "98d1f597-ade6-47de-835d-2aa5f52c2b3d",
   "metadata": {},
   "outputs": [
    {
     "name": "stdout",
     "output_type": "stream",
     "text": [
      "0 1 1 2 3 5 8 13 21 34 "
     ]
    }
   ],
   "source": [
    "# Answer 6)\n",
    "a, b = 0, 1\n",
    "count = 0\n",
    "\n",
    "while count < 10:\n",
    "    print(a, end=' ')\n",
    "    c = a + b\n",
    "    a = b\n",
    "    b = c\n",
    "    count += 1\n"
   ]
  },
  {
   "cell_type": "code",
   "execution_count": 12,
   "id": "842b3a7e-2fe5-4db3-8fa4-f9fead6c86f2",
   "metadata": {},
   "outputs": [
    {
     "name": "stdout",
     "output_type": "stream",
     "text": [
      "['p', 'w', 's', 'k', 'i', 'l', 'l', 's']\n"
     ]
    }
   ],
   "source": [
    "# Answer 7)\n",
    "string = \"pwskills\"\n",
    "result = [char for char in string if char in \"pwskills\"]\n",
    "print(result)\n"
   ]
  },
  {
   "cell_type": "code",
   "execution_count": 13,
   "id": "6ab0b327-77e8-4674-be25-3f0a0c6025eb",
   "metadata": {},
   "outputs": [
    {
     "name": "stdin",
     "output_type": "stream",
     "text": [
      "Enter a number:  151\n"
     ]
    },
    {
     "name": "stdout",
     "output_type": "stream",
     "text": [
      "The number is a palindrome!\n"
     ]
    }
   ],
   "source": [
    "# Answer 8)\n",
    "num = int(input(\"Enter a number: \"))\n",
    "temp = num\n",
    "rev = 0\n",
    "\n",
    "while num > 0:\n",
    "    digit = num % 10\n",
    "    rev = rev * 10 + digit\n",
    "    num = num // 10\n",
    "\n",
    "if temp == rev:\n",
    "    print(\"The number is a palindrome!\")\n",
    "else:\n",
    "    print(\"The number is not a palindrome.\")\n"
   ]
  },
  {
   "cell_type": "code",
   "execution_count": 17,
   "id": "49292364-3e41-4865-b0c4-422b6c8aecff",
   "metadata": {},
   "outputs": [
    {
     "name": "stdout",
     "output_type": "stream",
     "text": [
      "[1, 2, 3, 4, 5, 6, 7, 8, 9, 10, 11, 12, 13, 14, 15, 16, 17, 18, 19, 20, 21, 22, 23, 24, 25, 26, 27, 28, 29, 30, 31, 32, 33, 34, 35, 36, 37, 38, 39, 40, 41, 42, 43, 44, 45, 46, 47, 48, 49, 50, 51, 52, 53, 54, 55, 56, 57, 58, 59, 60, 61, 62, 63, 64, 65, 66, 67, 68, 69, 70, 71, 72, 73, 74, 75, 76, 77, 78, 79, 80, 81, 82, 83, 84, 85, 86, 87, 88, 89, 90, 91, 92, 93, 94, 95, 96, 97, 98, 99, 100]\n",
      "[1, 3, 5, 7, 9, 11, 13, 15, 17, 19, 21, 23, 25, 27, 29, 31, 33, 35, 37, 39, 41, 43, 45, 47, 49, 51, 53, 55, 57, 59, 61, 63, 65, 67, 69, 71, 73, 75, 77, 79, 81, 83, 85, 87, 89, 91, 93, 95, 97, 99]\n"
     ]
    }
   ],
   "source": [
    "# Answer 9)\n",
    "numbers = [num for num in range(1, 101)]\n",
    "print(numbers)\n",
    "odd_numbers = [num for num in numbers if num % 2 != 0]\n",
    "print(odd_numbers)\n"
   ]
  },
  {
   "cell_type": "code",
   "execution_count": null,
   "id": "76146840-5a77-4ec4-af24-e62f24941bbb",
   "metadata": {},
   "outputs": [],
   "source": []
  }
 ],
 "metadata": {
  "kernelspec": {
   "display_name": "Python 3 (ipykernel)",
   "language": "python",
   "name": "python3"
  },
  "language_info": {
   "codemirror_mode": {
    "name": "ipython",
    "version": 3
   },
   "file_extension": ".py",
   "mimetype": "text/x-python",
   "name": "python",
   "nbconvert_exporter": "python",
   "pygments_lexer": "ipython3",
   "version": "3.10.8"
  }
 },
 "nbformat": 4,
 "nbformat_minor": 5
}
