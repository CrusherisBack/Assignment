{
 "cells": [
  {
   "cell_type": "code",
   "execution_count": 1,
   "id": "4aa00c58-0902-4621-b52d-06d0e7421e09",
   "metadata": {},
   "outputs": [
    {
     "name": "stdin",
     "output_type": "stream",
     "text": [
      "Enter a string:  Batman\n"
     ]
    },
    {
     "name": "stdout",
     "output_type": "stream",
     "text": [
      "Reversed string: namtaB\n"
     ]
    }
   ],
   "source": [
    "## Answer 1)\n",
    "\n",
    "def reverse_string(string):\n",
    "    reversed_string = ''\n",
    "    for char in string:\n",
    "        reversed_string = char + reversed_string\n",
    "    return reversed_string\n",
    "\n",
    "input_string = input(\"Enter a string: \")\n",
    "reversed_string = reverse_string(input_string)\n",
    "print(\"Reversed string:\", reversed_string)"
   ]
  },
  {
   "cell_type": "code",
   "execution_count": 2,
   "id": "0edebbc9-6b98-4a4a-b008-d441e8287f00",
   "metadata": {},
   "outputs": [
    {
     "name": "stdin",
     "output_type": "stream",
     "text": [
      "Enter a string:  121\n"
     ]
    },
    {
     "name": "stdout",
     "output_type": "stream",
     "text": [
      "The string is a palindrome.\n"
     ]
    }
   ],
   "source": [
    "## Answer 2)\n",
    "\n",
    "def is_palindrome(string):\n",
    "    reversed_string = reverse_string(string)\n",
    "    return string == reversed_string\n",
    "\n",
    "input_string = input(\"Enter a string: \")\n",
    "if is_palindrome(input_string):\n",
    "    print(\"The string is a palindrome.\")\n",
    "else:\n",
    "    print(\"The string is not a palindrome.\")"
   ]
  },
  {
   "cell_type": "code",
   "execution_count": 4,
   "id": "16b401c4-a7ae-44aa-8e8a-d09afe45cbe9",
   "metadata": {},
   "outputs": [
    {
     "name": "stdin",
     "output_type": "stream",
     "text": [
      "Enter a list of numbers:  1 2 3 4 5 6 7 8\n"
     ]
    },
    {
     "name": "stdout",
     "output_type": "stream",
     "text": [
      "Largest element: 8\n"
     ]
    }
   ],
   "source": [
    "## Answer 3)\n",
    "\n",
    "def find_largest_element(lst):\n",
    "    if not lst:\n",
    "        return None\n",
    "    largest = lst[0]\n",
    "    for num in lst:\n",
    "        if num > largest:\n",
    "            largest = num\n",
    "    return largest\n",
    "\n",
    "input_list = [int(x) for x in input(\"Enter a list of numbers: \").split()]\n",
    "largest_element = find_largest_element(input_list)\n",
    "print(\"Largest element:\", largest_element)"
   ]
  },
  {
   "cell_type": "code",
   "execution_count": 5,
   "id": "b8963c49-1d46-443d-84b5-4bd2d619ae8e",
   "metadata": {},
   "outputs": [
    {
     "name": "stdin",
     "output_type": "stream",
     "text": [
      "Enter a list of numbers:  36 575 6 84 4\n"
     ]
    },
    {
     "name": "stdout",
     "output_type": "stream",
     "text": [
      "Occurrences: {36: 1, 575: 1, 6: 1, 84: 1, 4: 1}\n"
     ]
    }
   ],
   "source": [
    "## Answer 4)\n",
    "\n",
    "def count_occurrences(lst):\n",
    "    occurrences = {}\n",
    "    for item in lst:\n",
    "        if item in occurrences:\n",
    "            occurrences[item] += 1\n",
    "        else:\n",
    "            occurrences[item] = 1\n",
    "    return occurrences\n",
    "\n",
    "input_list = [int(x) for x in input(\"Enter a list of numbers: \").split()]\n",
    "occurrences = count_occurrences(input_list)\n",
    "print(\"Occurrences:\", occurrences)"
   ]
  },
  {
   "cell_type": "code",
   "execution_count": 6,
   "id": "9908150c-a81e-4422-9a65-27564996d9ff",
   "metadata": {},
   "outputs": [
    {
     "name": "stdin",
     "output_type": "stream",
     "text": [
      "Enter a list of numbers:  35 373 84 93\n"
     ]
    },
    {
     "name": "stdout",
     "output_type": "stream",
     "text": [
      "Second largest number: 93\n"
     ]
    }
   ],
   "source": [
    "## Answer 5)\n",
    "\n",
    "def find_second_largest(lst):\n",
    "    if len(lst) < 2:\n",
    "        return None\n",
    "    largest = max(lst[0], lst[1])\n",
    "    second_largest = min(lst[0], lst[1])\n",
    "    for i in range(2, len(lst)):\n",
    "        if lst[i] > largest:\n",
    "            second_largest = largest\n",
    "            largest = lst[i]\n",
    "        elif lst[i] > second_largest:\n",
    "            second_largest = lst[i]\n",
    "    return second_largest\n",
    "\n",
    "input_list = [int(x) for x in input(\"Enter a list of numbers: \").split()]\n",
    "second_largest = find_second_largest(input_list)\n",
    "print(\"Second largest number:\", second_largest)"
   ]
  },
  {
   "cell_type": "code",
   "execution_count": 7,
   "id": "f1597108-346a-4dbf-bff0-acfd9841b382",
   "metadata": {},
   "outputs": [
    {
     "name": "stdin",
     "output_type": "stream",
     "text": [
      "Enter a list of numbers:  26 37 83 92\n"
     ]
    },
    {
     "name": "stdout",
     "output_type": "stream",
     "text": [
      "List with duplicates removed: [26, 83, 92, 37]\n"
     ]
    }
   ],
   "source": [
    "## Answer 6)\n",
    "\n",
    "def remove_duplicates(lst):\n",
    "    return list(set(lst))\n",
    "\n",
    "input_list = [int(x) for x in input(\"Enter a list of numbers: \").split()]\n",
    "new_list = remove_duplicates(input_list)\n",
    "print(\"List with duplicates removed:\", new_list)"
   ]
  },
  {
   "cell_type": "code",
   "execution_count": 8,
   "id": "60607798-aa40-4b9b-9cd5-051ae2b1befc",
   "metadata": {},
   "outputs": [
    {
     "name": "stdin",
     "output_type": "stream",
     "text": [
      "Enter a number:  12\n"
     ]
    },
    {
     "name": "stdout",
     "output_type": "stream",
     "text": [
      "Factorial: 479001600\n"
     ]
    }
   ],
   "source": [
    "## Answer 7) \n",
    "def factorial(n):\n",
    "    if n == 0:\n",
    "        return 1\n",
    "    else:\n",
    "        return n * factorial(n - 1)\n",
    "\n",
    "num = int(input(\"Enter a number: \"))\n",
    "result = factorial(num)\n",
    "print(\"Factorial:\", result)\n"
   ]
  },
  {
   "cell_type": "code",
   "execution_count": 10,
   "id": "6a72c726-5956-45ca-953c-717d794eaee9",
   "metadata": {},
   "outputs": [
    {
     "name": "stdin",
     "output_type": "stream",
     "text": [
      "Enter a number:  3\n"
     ]
    },
    {
     "name": "stdout",
     "output_type": "stream",
     "text": [
      "The number is prime.\n"
     ]
    }
   ],
   "source": [
    "## Answer 8)\n",
    "def is_prime(n):\n",
    "    if n <= 1:\n",
    "        return False\n",
    "    for i in range(2, int(n ** 0.5) + 1):\n",
    "        if n % i == 0:\n",
    "            return False\n",
    "    return True\n",
    "\n",
    "num = int(input(\"Enter a number: \"))\n",
    "if is_prime(num):\n",
    "    print(\"The number is prime.\")\n",
    "else:\n",
    "    print(\"The number is not prime.\")"
   ]
  },
  {
   "cell_type": "code",
   "execution_count": 11,
   "id": "98c42df2-4e4b-4dd9-bf2e-e3e2b75199c6",
   "metadata": {},
   "outputs": [
    {
     "name": "stdin",
     "output_type": "stream",
     "text": [
      "Enter a list of numbers:  12 6 28 20 42 28\n"
     ]
    },
    {
     "name": "stdout",
     "output_type": "stream",
     "text": [
      "Sorted list: [6, 12, 20, 28, 28, 42]\n"
     ]
    }
   ],
   "source": [
    "## Answer 9)\n",
    "\n",
    "def sort_list(lst):\n",
    "    return sorted(lst)\n",
    "\n",
    "input_list = [int(x) for x in input(\"Enter a list of numbers: \").split()]\n",
    "sorted_list = sort_list(input_list)\n",
    "print(\"Sorted list:\", sorted_list)"
   ]
  },
  {
   "cell_type": "code",
   "execution_count": 12,
   "id": "01d198ca-3844-4f32-b6ee-9ed0fc136d12",
   "metadata": {},
   "outputs": [
    {
     "name": "stdin",
     "output_type": "stream",
     "text": [
      "Enter a list of numbers:  20 929 29 10 202\n"
     ]
    },
    {
     "name": "stdout",
     "output_type": "stream",
     "text": [
      "Sum of numbers: 1190\n"
     ]
    }
   ],
   "source": [
    "## Answer 10)\n",
    "\n",
    "def calculate_sum(lst):\n",
    "    return sum(lst)\n",
    "\n",
    "input_list = [int(x) for x in input(\"Enter a list of numbers: \").split()]\n",
    "total_sum = calculate_sum(input_list)\n",
    "print(\"Sum of numbers:\", total_sum)"
   ]
  },
  {
   "cell_type": "code",
   "execution_count": 13,
   "id": "b29cba0e-63bc-4815-827c-8411d8f4aae8",
   "metadata": {},
   "outputs": [
    {
     "name": "stdin",
     "output_type": "stream",
     "text": [
      "Enter the first list of numbers:  1 2 3 4 3 2\n",
      "Enter the second list of numbers:  2 4 57\n"
     ]
    },
    {
     "name": "stdout",
     "output_type": "stream",
     "text": [
      "Common elements: [2, 4]\n"
     ]
    }
   ],
   "source": [
    "## Answer 11)\n",
    "\n",
    "def find_common_elements(lst1, lst2):\n",
    "    return list(set(lst1) & set(lst2))\n",
    "\n",
    "input_list1 = [int(x) for x in input(\"Enter the first list of numbers: \").split()]\n",
    "input_list2 = [int(x) for x in input(\"Enter the second list of numbers: \").split()]\n",
    "common_elements = find_common_elements(input_list1, input_list2)\n",
    "print(\"Common elements:\", common_elements)"
   ]
  },
  {
   "cell_type": "code",
   "execution_count": 14,
   "id": "74a012af-0e0e-4b1e-b9a6-8d5dbb019e78",
   "metadata": {},
   "outputs": [
    {
     "name": "stdin",
     "output_type": "stream",
     "text": [
      "Enter the first string:  Batman\n",
      "Enter the second string:  Superman\n"
     ]
    },
    {
     "name": "stdout",
     "output_type": "stream",
     "text": [
      "The strings are not anagrams.\n"
     ]
    }
   ],
   "source": [
    "## Answer 12)\n",
    "\n",
    "def is_anagram(str1, str2):\n",
    "    return sorted(str1) == sorted(str2)\n",
    "\n",
    "input_str1 = input(\"Enter the first string: \")\n",
    "input_str2 = input(\"Enter the second string: \")\n",
    "if is_anagram(input_str1, input_str2):\n",
    "    print(\"The strings are anagrams.\")\n",
    "else:\n",
    "    print(\"The strings are not anagrams.\")"
   ]
  },
  {
   "cell_type": "code",
   "execution_count": 1,
   "id": "a99e48bc-6727-43d2-9cd2-2af6fd4750a9",
   "metadata": {},
   "outputs": [
    {
     "name": "stdin",
     "output_type": "stream",
     "text": [
      "Enter a string:  12  34\n"
     ]
    },
    {
     "name": "stdout",
     "output_type": "stream",
     "text": [
      "Permutations: ['12  34', '12  43', '12 3 4', '12 34 ', '12 4 3', '12 43 ', '12  34', '12  43', '12 3 4', '12 34 ', '12 4 3', '12 43 ', '123  4', '123 4 ', '123  4', '123 4 ', '1234  ', '1234  ', '124  3', '124 3 ', '124  3', '124 3 ', '1243  ', '1243  ', '1 2 34', '1 2 43', '1 23 4', '1 234 ', '1 24 3', '1 243 ', '1  234', '1  243', '1  324', '1  342', '1  423', '1  432', '1 32 4', '1 324 ', '1 3 24', '1 3 42', '1 342 ', '1 34 2', '1 42 3', '1 423 ', '1 4 23', '1 4 32', '1 432 ', '1 43 2', '1 2 34', '1 2 43', '1 23 4', '1 234 ', '1 24 3', '1 243 ', '1  234', '1  243', '1  324', '1  342', '1  423', '1  432', '1 32 4', '1 324 ', '1 3 24', '1 3 42', '1 342 ', '1 34 2', '1 42 3', '1 423 ', '1 4 23', '1 4 32', '1 432 ', '1 43 2', '132  4', '132 4 ', '132  4', '132 4 ', '1324  ', '1324  ', '13 2 4', '13 24 ', '13  24', '13  42', '13 42 ', '13 4 2', '13 2 4', '13 24 ', '13  24', '13  42', '13 42 ', '13 4 2', '1342  ', '1342  ', '134 2 ', '134  2', '134 2 ', '134  2', '142  3', '142 3 ', '142  3', '142 3 ', '1423  ', '1423  ', '14 2 3', '14 23 ', '14  23', '14  32', '14 32 ', '14 3 2', '14 2 3', '14 23 ', '14  23', '14  32', '14 32 ', '14 3 2', '1432  ', '1432  ', '143 2 ', '143  2', '143 2 ', '143  2', '21  34', '21  43', '21 3 4', '21 34 ', '21 4 3', '21 43 ', '21  34', '21  43', '21 3 4', '21 34 ', '21 4 3', '21 43 ', '213  4', '213 4 ', '213  4', '213 4 ', '2134  ', '2134  ', '214  3', '214 3 ', '214  3', '214 3 ', '2143  ', '2143  ', '2 1 34', '2 1 43', '2 13 4', '2 134 ', '2 14 3', '2 143 ', '2  134', '2  143', '2  314', '2  341', '2  413', '2  431', '2 31 4', '2 314 ', '2 3 14', '2 3 41', '2 341 ', '2 34 1', '2 41 3', '2 413 ', '2 4 13', '2 4 31', '2 431 ', '2 43 1', '2 1 34', '2 1 43', '2 13 4', '2 134 ', '2 14 3', '2 143 ', '2  134', '2  143', '2  314', '2  341', '2  413', '2  431', '2 31 4', '2 314 ', '2 3 14', '2 3 41', '2 341 ', '2 34 1', '2 41 3', '2 413 ', '2 4 13', '2 4 31', '2 431 ', '2 43 1', '231  4', '231 4 ', '231  4', '231 4 ', '2314  ', '2314  ', '23 1 4', '23 14 ', '23  14', '23  41', '23 41 ', '23 4 1', '23 1 4', '23 14 ', '23  14', '23  41', '23 41 ', '23 4 1', '2341  ', '2341  ', '234 1 ', '234  1', '234 1 ', '234  1', '241  3', '241 3 ', '241  3', '241 3 ', '2413  ', '2413  ', '24 1 3', '24 13 ', '24  13', '24  31', '24 31 ', '24 3 1', '24 1 3', '24 13 ', '24  13', '24  31', '24 31 ', '24 3 1', '2431  ', '2431  ', '243 1 ', '243  1', '243 1 ', '243  1', ' 12 34', ' 12 43', ' 123 4', ' 1234 ', ' 124 3', ' 1243 ', ' 1 234', ' 1 243', ' 1 324', ' 1 342', ' 1 423', ' 1 432', ' 132 4', ' 1324 ', ' 13 24', ' 13 42', ' 1342 ', ' 134 2', ' 142 3', ' 1423 ', ' 14 23', ' 14 32', ' 1432 ', ' 143 2', ' 21 34', ' 21 43', ' 213 4', ' 2134 ', ' 214 3', ' 2143 ', ' 2 134', ' 2 143', ' 2 314', ' 2 341', ' 2 413', ' 2 431', ' 231 4', ' 2314 ', ' 23 14', ' 23 41', ' 2341 ', ' 234 1', ' 241 3', ' 2413 ', ' 24 13', ' 24 31', ' 2431 ', ' 243 1', '  1234', '  1243', '  1324', '  1342', '  1423', '  1432', '  2134', '  2143', '  2314', '  2341', '  2413', '  2431', '  3124', '  3142', '  3214', '  3241', '  3412', '  3421', '  4123', '  4132', '  4213', '  4231', '  4312', '  4321', ' 312 4', ' 3124 ', ' 31 24', ' 31 42', ' 3142 ', ' 314 2', ' 321 4', ' 3214 ', ' 32 14', ' 32 41', ' 3241 ', ' 324 1', ' 3 124', ' 3 142', ' 3 214', ' 3 241', ' 3 412', ' 3 421', ' 3412 ', ' 341 2', ' 3421 ', ' 342 1', ' 34 12', ' 34 21', ' 412 3', ' 4123 ', ' 41 23', ' 41 32', ' 4132 ', ' 413 2', ' 421 3', ' 4213 ', ' 42 13', ' 42 31', ' 4231 ', ' 423 1', ' 4 123', ' 4 132', ' 4 213', ' 4 231', ' 4 312', ' 4 321', ' 4312 ', ' 431 2', ' 4321 ', ' 432 1', ' 43 12', ' 43 21', ' 12 34', ' 12 43', ' 123 4', ' 1234 ', ' 124 3', ' 1243 ', ' 1 234', ' 1 243', ' 1 324', ' 1 342', ' 1 423', ' 1 432', ' 132 4', ' 1324 ', ' 13 24', ' 13 42', ' 1342 ', ' 134 2', ' 142 3', ' 1423 ', ' 14 23', ' 14 32', ' 1432 ', ' 143 2', ' 21 34', ' 21 43', ' 213 4', ' 2134 ', ' 214 3', ' 2143 ', ' 2 134', ' 2 143', ' 2 314', ' 2 341', ' 2 413', ' 2 431', ' 231 4', ' 2314 ', ' 23 14', ' 23 41', ' 2341 ', ' 234 1', ' 241 3', ' 2413 ', ' 24 13', ' 24 31', ' 2431 ', ' 243 1', '  1234', '  1243', '  1324', '  1342', '  1423', '  1432', '  2134', '  2143', '  2314', '  2341', '  2413', '  2431', '  3124', '  3142', '  3214', '  3241', '  3412', '  3421', '  4123', '  4132', '  4213', '  4231', '  4312', '  4321', ' 312 4', ' 3124 ', ' 31 24', ' 31 42', ' 3142 ', ' 314 2', ' 321 4', ' 3214 ', ' 32 14', ' 32 41', ' 3241 ', ' 324 1', ' 3 124', ' 3 142', ' 3 214', ' 3 241', ' 3 412', ' 3 421', ' 3412 ', ' 341 2', ' 3421 ', ' 342 1', ' 34 12', ' 34 21', ' 412 3', ' 4123 ', ' 41 23', ' 41 32', ' 4132 ', ' 413 2', ' 421 3', ' 4213 ', ' 42 13', ' 42 31', ' 4231 ', ' 423 1', ' 4 123', ' 4 132', ' 4 213', ' 4 231', ' 4 312', ' 4 321', ' 4312 ', ' 431 2', ' 4321 ', ' 432 1', ' 43 12', ' 43 21', '312  4', '312 4 ', '312  4', '312 4 ', '3124  ', '3124  ', '31 2 4', '31 24 ', '31  24', '31  42', '31 42 ', '31 4 2', '31 2 4', '31 24 ', '31  24', '31  42', '31 42 ', '31 4 2', '3142  ', '3142  ', '314 2 ', '314  2', '314 2 ', '314  2', '321  4', '321 4 ', '321  4', '321 4 ', '3214  ', '3214  ', '32 1 4', '32 14 ', '32  14', '32  41', '32 41 ', '32 4 1', '32 1 4', '32 14 ', '32  14', '32  41', '32 41 ', '32 4 1', '3241  ', '3241  ', '324 1 ', '324  1', '324 1 ', '324  1', '3 12 4', '3 124 ', '3 1 24', '3 1 42', '3 142 ', '3 14 2', '3 21 4', '3 214 ', '3 2 14', '3 2 41', '3 241 ', '3 24 1', '3  124', '3  142', '3  214', '3  241', '3  412', '3  421', '3 412 ', '3 41 2', '3 421 ', '3 42 1', '3 4 12', '3 4 21', '3 12 4', '3 124 ', '3 1 24', '3 1 42', '3 142 ', '3 14 2', '3 21 4', '3 214 ', '3 2 14', '3 2 41', '3 241 ', '3 24 1', '3  124', '3  142', '3  214', '3  241', '3  412', '3  421', '3 412 ', '3 41 2', '3 421 ', '3 42 1', '3 4 12', '3 4 21', '3412  ', '3412  ', '341 2 ', '341  2', '341 2 ', '341  2', '3421  ', '3421  ', '342 1 ', '342  1', '342 1 ', '342  1', '34 12 ', '34 1 2', '34 21 ', '34 2 1', '34  12', '34  21', '34 12 ', '34 1 2', '34 21 ', '34 2 1', '34  12', '34  21', '412  3', '412 3 ', '412  3', '412 3 ', '4123  ', '4123  ', '41 2 3', '41 23 ', '41  23', '41  32', '41 32 ', '41 3 2', '41 2 3', '41 23 ', '41  23', '41  32', '41 32 ', '41 3 2', '4132  ', '4132  ', '413 2 ', '413  2', '413 2 ', '413  2', '421  3', '421 3 ', '421  3', '421 3 ', '4213  ', '4213  ', '42 1 3', '42 13 ', '42  13', '42  31', '42 31 ', '42 3 1', '42 1 3', '42 13 ', '42  13', '42  31', '42 31 ', '42 3 1', '4231  ', '4231  ', '423 1 ', '423  1', '423 1 ', '423  1', '4 12 3', '4 123 ', '4 1 23', '4 1 32', '4 132 ', '4 13 2', '4 21 3', '4 213 ', '4 2 13', '4 2 31', '4 231 ', '4 23 1', '4  123', '4  132', '4  213', '4  231', '4  312', '4  321', '4 312 ', '4 31 2', '4 321 ', '4 32 1', '4 3 12', '4 3 21', '4 12 3', '4 123 ', '4 1 23', '4 1 32', '4 132 ', '4 13 2', '4 21 3', '4 213 ', '4 2 13', '4 2 31', '4 231 ', '4 23 1', '4  123', '4  132', '4  213', '4  231', '4  312', '4  321', '4 312 ', '4 31 2', '4 321 ', '4 32 1', '4 3 12', '4 3 21', '4312  ', '4312  ', '431 2 ', '431  2', '431 2 ', '431  2', '4321  ', '4321  ', '432 1 ', '432  1', '432 1 ', '432  1', '43 12 ', '43 1 2', '43 21 ', '43 2 1', '43  12', '43  21', '43 12 ', '43 1 2', '43 21 ', '43 2 1', '43  12', '43  21']\n"
     ]
    }
   ],
   "source": [
    "## Answer 13)\n",
    "\n",
    "from itertools import permutations\n",
    "\n",
    "def generate_permutations(string):\n",
    "    return [''.join(p) for p in permutations(string)]\n",
    "\n",
    "input_string = input(\"Enter a string: \")\n",
    "permutations = generate_permutations(input_string)\n",
    "print(\"Permutations:\", permutations)"
   ]
  },
  {
   "cell_type": "code",
   "execution_count": 6,
   "id": "980d4c4b-a165-44f9-a236-0656b571375e",
   "metadata": {},
   "outputs": [
    {
     "name": "stdin",
     "output_type": "stream",
     "text": [
      "Enter the number of Fibonacci terms:  1\n"
     ]
    },
    {
     "name": "stdout",
     "output_type": "stream",
     "text": [
      "Fibonacci sequence: [0, 1]\n"
     ]
    }
   ],
   "source": [
    "## Answer 14)\n",
    "def fibonacci(n):\n",
    "    sequence = [0, 1]\n",
    "    while len(sequence) < n:\n",
    "        next_number = sequence[-1] + sequence[-2]\n",
    "        sequence.append(next_number)\n",
    "    return sequence\n",
    "\n",
    "num_terms = int(input(\"Enter the number of Fibonacci terms: \"))\n",
    "fib_sequence = fibonacci(num_terms)\n",
    "print(\"Fibonacci sequence:\", fib_sequence)\n"
   ]
  },
  {
   "cell_type": "code",
   "execution_count": 7,
   "id": "0c4c04e2-e27f-4e57-a595-efb8ed126597",
   "metadata": {},
   "outputs": [
    {
     "name": "stdin",
     "output_type": "stream",
     "text": [
      "Enter a list of numbers:  12 3 5 6 7 66 \n"
     ]
    },
    {
     "name": "stdout",
     "output_type": "stream",
     "text": [
      "Median: 6.5\n"
     ]
    }
   ],
   "source": [
    "## Answer 15)\n",
    "\n",
    "def find_median(lst):\n",
    "    sorted_lst = sorted(lst)\n",
    "    n = len(sorted_lst)\n",
    "    if n % 2 == 0:\n",
    "        mid = n // 2\n",
    "        return (sorted_lst[mid - 1] + sorted_lst[mid]) / 2\n",
    "    else:\n",
    "        return sorted_lst[n // 2]\n",
    "\n",
    "input_list = [int(x) for x in input(\"Enter a list of numbers: \").split()]\n",
    "median = find_median(input_list)\n",
    "print(\"Median:\", median)"
   ]
  },
  {
   "cell_type": "code",
   "execution_count": 8,
   "id": "6f8903c2-be31-4618-a7ec-d08f2035ab69",
   "metadata": {},
   "outputs": [
    {
     "name": "stdin",
     "output_type": "stream",
     "text": [
      "Enter a list of numbers:  272 72 119 101\n"
     ]
    },
    {
     "name": "stdout",
     "output_type": "stream",
     "text": [
      "The list is not sorted.\n"
     ]
    }
   ],
   "source": [
    "## Answer 16)\n",
    "\n",
    "def is_sorted(lst):\n",
    "    return all(lst[i] <= lst[i+1] for i in range(len(lst) - 1))\n",
    "\n",
    "input_list = [int(x) for x in input(\"Enter a list of numbers: \").split()]\n",
    "if is_sorted(input_list):\n",
    "    print(\"The list is sorted.\")\n",
    "else:\n",
    "    print(\"The list is not sorted.\")"
   ]
  },
  {
   "cell_type": "code",
   "execution_count": 9,
   "id": "ecf5ecff-6e4f-4d4a-a530-ca6c7bbdfd3c",
   "metadata": {},
   "outputs": [
    {
     "name": "stdin",
     "output_type": "stream",
     "text": [
      "Enter the first list of numbers:  29 202 101 \n",
      "Enter the second list of numbers:  37 29 101\n"
     ]
    },
    {
     "name": "stdout",
     "output_type": "stream",
     "text": [
      "Intersection: [101, 29]\n"
     ]
    }
   ],
   "source": [
    "## Answer 17)\n",
    "def find_intersection(lst1, lst2):\n",
    "    return list(set(lst1) & set(lst2))\n",
    "\n",
    "input_list1 = [int(x) for x in input(\"Enter the first list of numbers: \").split()]\n",
    "input_list2 = [int(x) for x in input(\"Enter the second list of numbers: \").split()]\n",
    "intersection = find_intersection(input_list1, input_list2)\n",
    "print(\"Intersection:\", intersection)\n"
   ]
  },
  {
   "cell_type": "code",
   "execution_count": 10,
   "id": "2f6f3f44-384c-4e76-943d-87b5842f048b",
   "metadata": {},
   "outputs": [
    {
     "name": "stdin",
     "output_type": "stream",
     "text": [
      "Enter a list of numbers:  338 2929 292\n"
     ]
    },
    {
     "name": "stdout",
     "output_type": "stream",
     "text": [
      "Maximum subarray sum: 3559\n"
     ]
    }
   ],
   "source": [
    "## Answer 18)\n",
    "\n",
    "def max_subarray_sum(lst):\n",
    "    max_sum = current_sum = lst[0]\n",
    "    for num in lst[1:]:\n",
    "        current_sum = max(num, current_sum + num)\n",
    "        max_sum = max(max_sum, current_sum)\n",
    "    return max_sum\n",
    "\n",
    "input_list = [int(x) for x in input(\"Enter a list of numbers: \").split()]\n",
    "max_sum = max_subarray_sum(input_list)\n",
    "print(\"Maximum subarray sum:\", max_sum)\n"
   ]
  },
  {
   "cell_type": "code",
   "execution_count": 11,
   "id": "3ef36b5e-a2e5-40e6-ac1f-63536a224b36",
   "metadata": {},
   "outputs": [
    {
     "name": "stdin",
     "output_type": "stream",
     "text": [
      "Enter a string:  Batman\n"
     ]
    },
    {
     "name": "stdout",
     "output_type": "stream",
     "text": [
      "String without vowels: Btmn\n"
     ]
    }
   ],
   "source": [
    "## Answer 19)\n",
    "\n",
    "def remove_vowels(string):\n",
    "    vowels = 'aeiouAEIOU'\n",
    "    return ''.join(char for char in string if char not in vowels)\n",
    "\n",
    "input_string = input(\"Enter a string: \")\n",
    "string_without_vowels = remove_vowels(input_string)\n",
    "print(\"String without vowels:\", string_without_vowels)\n"
   ]
  },
  {
   "cell_type": "code",
   "execution_count": 12,
   "id": "c15f9f10-2fe8-492c-92d8-a46e2c1d1f1f",
   "metadata": {},
   "outputs": [
    {
     "name": "stdin",
     "output_type": "stream",
     "text": [
      "Enter a sentence:  Hello I am batman\n"
     ]
    },
    {
     "name": "stdout",
     "output_type": "stream",
     "text": [
      "Reversed sentence: batman am I Hello\n"
     ]
    }
   ],
   "source": [
    "## Answer 20)\n",
    "def reverse_words(sentence):\n",
    "    words = sentence.split()\n",
    "    return ' '.join(reversed(words))\n",
    "\n",
    "input_sentence = input(\"Enter a sentence: \")\n",
    "reversed_sentence = reverse_words(input_sentence)\n",
    "print(\"Reversed sentence:\", reversed_sentence)\n"
   ]
  },
  {
   "cell_type": "code",
   "execution_count": 1,
   "id": "6e8c43bf-f094-4bdc-bedc-5f6c13404ac0",
   "metadata": {},
   "outputs": [
    {
     "name": "stdin",
     "output_type": "stream",
     "text": [
      "Enter the first string:  Batman\n",
      "Enter the second string:  Superman\n"
     ]
    },
    {
     "name": "stdout",
     "output_type": "stream",
     "text": [
      "The strings are not anagrams.\n"
     ]
    }
   ],
   "source": [
    "## Answer 21)\n",
    "\n",
    "def is_anagram(str1, str2):\n",
    "    return sorted(str1) == sorted(str2)\n",
    "\n",
    "input_str1 = input(\"Enter the first string: \")\n",
    "input_str2 = input(\"Enter the second string: \")\n",
    "if is_anagram(input_str1, input_str2):\n",
    "    print(\"The strings are anagrams.\")\n",
    "else:\n",
    "    print(\"The strings are not anagrams.\")"
   ]
  },
  {
   "cell_type": "code",
   "execution_count": 2,
   "id": "a4d1a10f-45c6-4e90-9ae1-2c6c8cdd08af",
   "metadata": {},
   "outputs": [
    {
     "name": "stdin",
     "output_type": "stream",
     "text": [
      "Enter a string:  Batman\n"
     ]
    },
    {
     "name": "stdout",
     "output_type": "stream",
     "text": [
      "First non-repeating character: B\n"
     ]
    }
   ],
   "source": [
    "## Answer 22)\n",
    "\n",
    "from collections import Counter\n",
    "\n",
    "def find_first_non_repeating_char(string):\n",
    "    char_count = Counter(string)\n",
    "    for char in string:\n",
    "        if char_count[char] == 1:\n",
    "            return char\n",
    "    return None\n",
    "\n",
    "input_string = input(\"Enter a string: \")\n",
    "non_repeating_char = find_first_non_repeating_char(input_string)\n",
    "if non_repeating_char:\n",
    "    print(\"First non-repeating character:\", non_repeating_char)\n",
    "else:\n",
    "    print(\"No non-repeating character found.\")"
   ]
  },
  {
   "cell_type": "code",
   "execution_count": 3,
   "id": "0f1c134c-1806-4f72-a99b-bbc8b9ed705c",
   "metadata": {},
   "outputs": [
    {
     "name": "stdin",
     "output_type": "stream",
     "text": [
      "Enter a number:  12\n"
     ]
    },
    {
     "name": "stdout",
     "output_type": "stream",
     "text": [
      "Prime factors: [2, 2, 3]\n"
     ]
    }
   ],
   "source": [
    "## Answer 23)\n",
    "\n",
    "def find_prime_factors(n):\n",
    "    factors = []\n",
    "    i = 2\n",
    "    while i * i <= n:\n",
    "        if n % i:\n",
    "            i += 1\n",
    "        else:\n",
    "            n //= i\n",
    "            factors.append(i)\n",
    "    if n > 1:\n",
    "        factors.append(n)\n",
    "    return factors\n",
    "\n",
    "num = int(input(\"Enter a number: \"))\n",
    "prime_factors = find_prime_factors(num)\n",
    "print(\"Prime factors:\", prime_factors)"
   ]
  },
  {
   "cell_type": "code",
   "execution_count": 4,
   "id": "5fa8057b-72f4-4b5a-8045-389e06660060",
   "metadata": {},
   "outputs": [
    {
     "name": "stdin",
     "output_type": "stream",
     "text": [
      "Enter a number:  24\n"
     ]
    },
    {
     "name": "stdout",
     "output_type": "stream",
     "text": [
      "The number is not a power of two.\n"
     ]
    }
   ],
   "source": [
    "## Answer 24)\n",
    "\n",
    "def is_power_of_two(n):\n",
    "    if n <= 0:\n",
    "        return False\n",
    "    return (n & (n - 1)) == 0\n",
    "\n",
    "num = int(input(\"Enter a number: \"))\n",
    "if is_power_of_two(num):\n",
    "    print(\"The number is a power of two.\")\n",
    "else:\n",
    "    print(\"The number is not a power of two.\")"
   ]
  },
  {
   "cell_type": "code",
   "execution_count": 5,
   "id": "92009e51-1861-4efa-9394-29037bf576a6",
   "metadata": {},
   "outputs": [
    {
     "name": "stdin",
     "output_type": "stream",
     "text": [
      "Enter the first sorted list of numbers:  1 2 3 4 5 7\n",
      "Enter the second sorted list of numbers:  3 5 8 9\n"
     ]
    },
    {
     "name": "stdout",
     "output_type": "stream",
     "text": [
      "Merged and sorted list: [1, 2, 3, 3, 4, 5, 5, 7, 8, 9]\n"
     ]
    }
   ],
   "source": [
    "## Answer 25)\n",
    "\n",
    "def merge_sorted_lists(lst1, lst2):\n",
    "    merged_list = []\n",
    "    i, j = 0, 0\n",
    "    while i < len(lst1) and j < len(lst2):\n",
    "        if lst1[i] <= lst2[j]:\n",
    "            merged_list.append(lst1[i])\n",
    "            i += 1\n",
    "        else:\n",
    "            merged_list.append(lst2[j])\n",
    "            j += 1\n",
    "    merged_list.extend(lst1[i:])\n",
    "    merged_list.extend(lst2[j:])\n",
    "    return merged_list\n",
    "\n",
    "input_list1 = [int(x) for x in input(\"Enter the first sorted list of numbers: \").split()]\n",
    "input_list2 = [int(x) for x in input(\"Enter the second sorted list of numbers: \").split()]\n",
    "merged_list = merge_sorted_lists(input_list1, input_list2)\n",
    "print(\"Merged and sorted list:\", merged_list)"
   ]
  },
  {
   "cell_type": "code",
   "execution_count": 6,
   "id": "d37453fd-28bf-407f-9a0b-df7a522b6b50",
   "metadata": {},
   "outputs": [
    {
     "name": "stdin",
     "output_type": "stream",
     "text": [
      "Enter a list of numbers:  13 272 82 29\n"
     ]
    },
    {
     "name": "stdout",
     "output_type": "stream",
     "text": [
      "Mode(s): [13, 272, 82, 29]\n"
     ]
    }
   ],
   "source": [
    "## Answer 26)\n",
    "\n",
    "from collections import Counter\n",
    "\n",
    "def find_mode(lst):\n",
    "    counts = Counter(lst)\n",
    "    max_count = max(counts.values())\n",
    "    modes = [num for num, count in counts.items() if count == max_count]\n",
    "    return modes\n",
    "\n",
    "input_list = [int(x) for x in input(\"Enter a list of numbers: \").split()]\n",
    "modes = find_mode(input_list)\n",
    "print(\"Mode(s):\", modes)"
   ]
  },
  {
   "cell_type": "code",
   "execution_count": 8,
   "id": "e3c603b3-2553-4bfd-8a9a-6780192e1ced",
   "metadata": {},
   "outputs": [
    {
     "name": "stdin",
     "output_type": "stream",
     "text": [
      "Enter the first number:  36\n",
      "Enter the second number:  38\n"
     ]
    },
    {
     "name": "stdout",
     "output_type": "stream",
     "text": [
      "Greatest Common Divisor (GCD): 2\n"
     ]
    }
   ],
   "source": [
    "## Answer 27)\n",
    "\n",
    "def gcd(a, b):\n",
    "    while b:\n",
    "        a, b = b, a % b\n",
    "    return a\n",
    "\n",
    "num1 = int(input(\"Enter the first number: \"))\n",
    "num2 = int(input(\"Enter the second number: \"))\n",
    "result = gcd(num1, num2)\n",
    "print(\"Greatest Common Divisor (GCD):\", result)"
   ]
  },
  {
   "cell_type": "code",
   "execution_count": 9,
   "id": "70f5ec6b-777f-4151-b549-f7abc6e2ea69",
   "metadata": {},
   "outputs": [
    {
     "name": "stdin",
     "output_type": "stream",
     "text": [
      "Enter a number:  25\n"
     ]
    },
    {
     "name": "stdout",
     "output_type": "stream",
     "text": [
      "Square root: 5.0\n"
     ]
    }
   ],
   "source": [
    "## Answer 28)\n",
    "\n",
    "def square_root(n):\n",
    "    if n < 0:\n",
    "        return None\n",
    "    if n == 0:\n",
    "        return 0\n",
    "    x = n\n",
    "    y = (x + 1) // 2\n",
    "    while y < x:\n",
    "        x = y\n",
    "        y = (x + n // x) // 2\n",
    "    return x\n",
    "\n",
    "num = float(input(\"Enter a number: \"))\n",
    "result = square_root(num)\n",
    "if result is None:\n",
    "    print(\"Cannot calculate square root of a negative number.\")\n",
    "else:\n",
    "    print(\"Square root:\", result)"
   ]
  },
  {
   "cell_type": "code",
   "execution_count": 10,
   "id": "8dc4fae6-d23d-4fb0-96dc-28262c3e6475",
   "metadata": {},
   "outputs": [
    {
     "name": "stdin",
     "output_type": "stream",
     "text": [
      "Enter a string:  Batman\n"
     ]
    },
    {
     "name": "stdout",
     "output_type": "stream",
     "text": [
      "The string is not a valid palindrome.\n"
     ]
    }
   ],
   "source": [
    "## Answer 29)\n",
    "\n",
    "import re\n",
    "\n",
    "def is_valid_palindrome(string):\n",
    "    cleaned_string = re.sub(r'[^a-zA-Z0-9]', '', string)\n",
    "    cleaned_string = cleaned_string.lower()\n",
    "    return cleaned_string == cleaned_string[::-1]\n",
    "\n",
    "input_string = input(\"Enter a string: \")\n",
    "if is_valid_palindrome(input_string):\n",
    "    print(\"The string is a valid palindrome.\")\n",
    "else:\n",
    "    print(\"The string is not a valid palindrome.\")"
   ]
  },
  {
   "cell_type": "code",
   "execution_count": 11,
   "id": "eed3e7b2-358c-44d2-a7b7-0ecf917ae60a",
   "metadata": {},
   "outputs": [
    {
     "name": "stdin",
     "output_type": "stream",
     "text": [
      "Enter a rotated sorted list of numbers:  25 46 78 93\n"
     ]
    },
    {
     "name": "stdout",
     "output_type": "stream",
     "text": [
      "Minimum element: 25\n"
     ]
    }
   ],
   "source": [
    "## Answer 30)\n",
    "\n",
    "def find_min_rotated(lst):\n",
    "    left = 0\n",
    "    right = len(lst) - 1\n",
    "    while left < right:\n",
    "        mid = (left + right) // 2\n",
    "        if lst[mid] > lst[right]:\n",
    "            left = mid + 1\n",
    "        else:\n",
    "            right = mid\n",
    "    return lst[left]\n",
    "\n",
    "input_list = [int(x) for x in input(\"Enter a rotated sorted list of numbers: \").split()]\n",
    "min_element = find_min_rotated(input_list)\n",
    "print(\"Minimum element:\", min_element)"
   ]
  },
  {
   "cell_type": "code",
   "execution_count": 12,
   "id": "9ccab77e-492a-450d-b4bd-6e1ff6cd7bc1",
   "metadata": {},
   "outputs": [
    {
     "name": "stdin",
     "output_type": "stream",
     "text": [
      "Enter a list of numbers:  14 15 37 29\n"
     ]
    },
    {
     "name": "stdout",
     "output_type": "stream",
     "text": [
      "Sum of even numbers: 14\n"
     ]
    }
   ],
   "source": [
    "## Answer 31)\n",
    "\n",
    "def calculate_sum_even_numbers(lst):\n",
    "    return sum(num for num in lst if num % 2 == 0)\n",
    "\n",
    "input_list = [int(x) for x in input(\"Enter a list of numbers: \").split()]\n",
    "sum_even_numbers = calculate_sum_even_numbers(input_list)\n",
    "print(\"Sum of even numbers:\", sum_even_numbers)"
   ]
  },
  {
   "cell_type": "code",
   "execution_count": 13,
   "id": "72f70071-4a19-415b-9f48-24a79803275d",
   "metadata": {},
   "outputs": [
    {
     "name": "stdin",
     "output_type": "stream",
     "text": [
      "Enter the base number:  24\n",
      "Enter the exponent:  4\n"
     ]
    },
    {
     "name": "stdout",
     "output_type": "stream",
     "text": [
      "Result: 331776.0\n"
     ]
    }
   ],
   "source": [
    "## Answer 32)\n",
    "\n",
    "def power(base, exponent):\n",
    "    if exponent == 0:\n",
    "        return 1\n",
    "    else:\n",
    "        return base * power(base, exponent - 1)\n",
    "\n",
    "base = float(input(\"Enter the base number: \"))\n",
    "exponent = int(input(\"Enter the exponent: \"))\n",
    "result = power(base, exponent)\n",
    "print(\"Result:\", result)"
   ]
  },
  {
   "cell_type": "code",
   "execution_count": 14,
   "id": "92ec3ddd-79eb-4e28-b566-fedec441ae29",
   "metadata": {},
   "outputs": [
    {
     "name": "stdin",
     "output_type": "stream",
     "text": [
      "Enter a list of numbers:  47 28 191 47\n"
     ]
    },
    {
     "name": "stdout",
     "output_type": "stream",
     "text": [
      "List with duplicates removed: [47, 28, 191]\n"
     ]
    }
   ],
   "source": [
    "## Answer 33)\n",
    "\n",
    "def remove_duplicates_preserve_order(lst):\n",
    "    seen = set()\n",
    "    new_list = []\n",
    "    for item in lst:\n",
    "        if item not in seen:\n",
    "            new_list.append(item)\n",
    "            seen.add(item)\n",
    "    return new_list\n",
    "\n",
    "input_list = [int(x) for x in input(\"Enter a list of numbers: \").split()]\n",
    "new_list = remove_duplicates_preserve_order(input_list)\n",
    "print(\"List with duplicates removed:\", new_list)"
   ]
  },
  {
   "cell_type": "code",
   "execution_count": 15,
   "id": "b5ccf723-5524-4d1b-a03f-c9c7fbc546a0",
   "metadata": {},
   "outputs": [
    {
     "name": "stdin",
     "output_type": "stream",
     "text": [
      "Enter a list of strings (space-separated):  Batman\n"
     ]
    },
    {
     "name": "stdout",
     "output_type": "stream",
     "text": [
      "Longest common prefix: Batman\n"
     ]
    }
   ],
   "source": [
    "## Answer 34)\n",
    "\n",
    "def find_longest_common_prefix(strings):\n",
    "    if not strings:\n",
    "        return \"\"\n",
    "    shortest_string = min(strings, key=len)\n",
    "    for i, char in enumerate(shortest_string):\n",
    "        for string in strings:\n",
    "            if string[i] != char:\n",
    "                return shortest_string[:i]\n",
    "    return shortest_string\n",
    "\n",
    "input_strings = input(\"Enter a list of strings (space-separated): \").split()\n",
    "common_prefix = find_longest_common_prefix(input_strings)\n",
    "print(\"Longest common prefix:\", common_prefix)"
   ]
  },
  {
   "cell_type": "code",
   "execution_count": 16,
   "id": "ab7041d1-f262-4a4d-92de-845363e13868",
   "metadata": {},
   "outputs": [
    {
     "name": "stdin",
     "output_type": "stream",
     "text": [
      "Enter a number:  35\n"
     ]
    },
    {
     "name": "stdout",
     "output_type": "stream",
     "text": [
      "The number is not a perfect square.\n"
     ]
    }
   ],
   "source": [
    "## Answer 35)\n",
    "def is_perfect_square(n):\n",
    "    if n < 0:\n",
    "        return False\n",
    "    root = int(n ** 0.5)\n",
    "    return root * root == n\n",
    "\n",
    "num = int(input(\"Enter a number: \"))\n",
    "if is_perfect_square(num):\n",
    "    print(\"The number is a perfect square.\")\n",
    "else:\n",
    "    print(\"The number is not a perfect square.\")"
   ]
  },
  {
   "cell_type": "code",
   "execution_count": 17,
   "id": "cd16ac62-834b-4efe-b6af-2ba9b8b82d6a",
   "metadata": {},
   "outputs": [
    {
     "name": "stdin",
     "output_type": "stream",
     "text": [
      "Enter a list of numbers:  35 57 9 24\n"
     ]
    },
    {
     "name": "stdout",
     "output_type": "stream",
     "text": [
      "Product of numbers: 430920\n"
     ]
    }
   ],
   "source": [
    "## Answer 36)\n",
    "\n",
    "def calculate_product(lst):\n",
    "    if not lst:\n",
    "        return 1\n",
    "    product = 1\n",
    "    for num in lst:\n",
    "        product *= num\n",
    "    return product\n",
    "\n",
    "input_list = [int(x) for x in input(\"Enter a list of numbers: \").split()]\n",
    "product = calculate_product(input_list)\n",
    "print(\"Product of numbers:\", product)"
   ]
  },
  {
   "cell_type": "code",
   "execution_count": 18,
   "id": "8ff46bee-25c6-4315-9542-77e7fab0d427",
   "metadata": {},
   "outputs": [
    {
     "name": "stdin",
     "output_type": "stream",
     "text": [
      "Enter a sentence:  I am a Batman\n"
     ]
    },
    {
     "name": "stdout",
     "output_type": "stream",
     "text": [
      "Reversed sentence: Batman a am I\n"
     ]
    }
   ],
   "source": [
    "## Answer 37)\n",
    "\n",
    "def reverse_words_preserve_order(sentence):\n",
    "    words = sentence.split()\n",
    "    return ' '.join(words[::-1])\n",
    "\n",
    "input_sentence = input(\"Enter a sentence: \")\n",
    "reversed_sentence = reverse_words_preserve_order(input_sentence)\n",
    "print(\"Reversed sentence:\", reversed_sentence)"
   ]
  },
  {
   "cell_type": "code",
   "execution_count": 19,
   "id": "98fc005b-22b9-44f0-941b-2913d91103ad",
   "metadata": {},
   "outputs": [
    {
     "name": "stdin",
     "output_type": "stream",
     "text": [
      "Enter a list of consecutive numbers (with one missing):  24 45 65\n"
     ]
    },
    {
     "name": "stdout",
     "output_type": "stream",
     "text": [
      "Missing number: -124\n"
     ]
    }
   ],
   "source": [
    "## Answer 38)\n",
    "def find_missing_number(lst):\n",
    "    n = len(lst) + 1\n",
    "    total_sum = n * (n + 1) // 2\n",
    "    return total_sum - sum(lst)\n",
    "\n",
    "input_list = [int(x) for x in input(\"Enter a list of consecutive numbers (with one missing): \").split()]\n",
    "missing_number = find_missing_number(input_list)\n",
    "print(\"Missing number:\", missing_number)"
   ]
  },
  {
   "cell_type": "code",
   "execution_count": 21,
   "id": "1543d1f5-ee59-4c91-857b-52905e2c7919",
   "metadata": {},
   "outputs": [
    {
     "name": "stdin",
     "output_type": "stream",
     "text": [
      "Enter a number:  24\n"
     ]
    },
    {
     "name": "stdout",
     "output_type": "stream",
     "text": [
      "Sum of digits: 6\n"
     ]
    }
   ],
   "source": [
    "## Answer 39)\n",
    "def sum_of_digits(n):\n",
    "    return sum(int(digit) for digit in str(n))\n",
    "\n",
    "num = int(input(\"Enter a number: \"))\n",
    "digit_sum = sum_of_digits(num)\n",
    "print(\"Sum of digits:\", digit_sum)"
   ]
  },
  {
   "cell_type": "code",
   "execution_count": 22,
   "id": "424dc9a3-6151-4621-89ec-0036ba2a68fc",
   "metadata": {},
   "outputs": [
    {
     "name": "stdin",
     "output_type": "stream",
     "text": [
      "Enter a string:  Batman\n"
     ]
    },
    {
     "name": "stdout",
     "output_type": "stream",
     "text": [
      "The string is not a valid palindrome.\n"
     ]
    }
   ],
   "source": [
    "## Answer 40)\n",
    "\n",
    "def is_valid_palindrome_case_sensitive(string):\n",
    "    return string == string[::-1]\n",
    "\n",
    "input_string = input(\"Enter a string: \")\n",
    "if is_valid_palindrome_case_sensitive(input_string):\n",
    "    print(\"The string is a valid palindrome.\")\n",
    "else:\n",
    "    print(\"The string is not a valid palindrome.\")"
   ]
  },
  {
   "cell_type": "code",
   "execution_count": 24,
   "id": "5706c5f7-86ed-4f76-8b22-d854d5ff6068",
   "metadata": {},
   "outputs": [
    {
     "name": "stdin",
     "output_type": "stream",
     "text": [
      "Enter a list of numbers:  25 46 78 39\n"
     ]
    },
    {
     "name": "stdout",
     "output_type": "stream",
     "text": [
      "Smallest missing positive integer: 1\n"
     ]
    }
   ],
   "source": [
    "## Answer 41)\n",
    "\n",
    "def find_smallest_missing_positive(lst):\n",
    "    n = len(lst)\n",
    "    contains_one = False\n",
    "\n",
    "    # Mark numbers <= 0 and > n as non-relevant\n",
    "    for i in range(n):\n",
    "        if lst[i] == 1:\n",
    "            contains_one = True\n",
    "        elif lst[i] <= 0 or lst[i] > n:\n",
    "            lst[i] = 1\n",
    "\n",
    "    # If 1 is not present, it is the smallest missing positive integer\n",
    "    if not contains_one:\n",
    "        return 1\n",
    "\n",
    "    # Use the list indices to mark presence of numbers\n",
    "    for i in range(n):\n",
    "        index = abs(lst[i]) - 1\n",
    "        if lst[index] > 0:\n",
    "            lst[index] = -lst[index]\n",
    "\n",
    "    # Find the first positive index (+1) indicating missing number\n",
    "    for i in range(n):\n",
    "        if lst[i] > 0:\n",
    "            return i + 1\n",
    "\n",
    "    # If all indices are marked, the missing number is n + 1\n",
    "    return n + 1\n",
    "\n",
    "input_list = [int(x) for x in input(\"Enter a list of numbers: \").split()]\n",
    "smallest_missing = find_smallest_missing_positive(input_list)\n",
    "print(\"Smallest missing positive integer:\", smallest_missing)"
   ]
  },
  {
   "cell_type": "code",
   "execution_count": 25,
   "id": "89b1fcc5-f378-4971-8b54-2fe8071116aa",
   "metadata": {},
   "outputs": [
    {
     "name": "stdin",
     "output_type": "stream",
     "text": [
      "Enter a string:  I am a batman\n"
     ]
    },
    {
     "name": "stdout",
     "output_type": "stream",
     "text": [
      "Longest palindrome substring:  a \n"
     ]
    }
   ],
   "source": [
    "## Answer 42)\n",
    "def find_longest_palindrome_substring(string):\n",
    "    n = len(string)\n",
    "    max_length = 0\n",
    "    start = 0\n",
    "\n",
    "    # Helper function to expand around the center\n",
    "    def expand_around_center(left, right):\n",
    "        nonlocal max_length, start\n",
    "        while left >= 0 and right < n and string[left] == string[right]:\n",
    "            left -= 1\n",
    "            right += 1\n",
    "        if right - left - 1 > max_length:\n",
    "            max_length = right - left - 1\n",
    "            start = left + 1\n",
    "\n",
    "    # Iterate through each character as potential center\n",
    "    for i in range(n):\n",
    "        expand_around_center(i, i)     # For odd-length palindromes\n",
    "        expand_around_center(i, i + 1) # For even-length palindromes\n",
    "\n",
    "    return string[start:start + max_length]\n",
    "\n",
    "input_string = input(\"Enter a string: \")\n",
    "longest_palindrome = find_longest_palindrome_substring(input_string)\n",
    "print(\"Longest palindrome substring:\", longest_palindrome)"
   ]
  },
  {
   "cell_type": "code",
   "execution_count": 26,
   "id": "ab5d6a1e-29fa-4b6f-8d6d-30571ed503de",
   "metadata": {},
   "outputs": [
    {
     "name": "stdin",
     "output_type": "stream",
     "text": [
      "Enter a list of numbers:  7 28 29 63\n",
      "Enter the element to count:  28\n"
     ]
    },
    {
     "name": "stdout",
     "output_type": "stream",
     "text": [
      "Occurrences of element: 1\n"
     ]
    }
   ],
   "source": [
    "## Answer 43)\n",
    "\n",
    "def count_occurrences(lst, element):\n",
    "    return lst.count(element)\n",
    "\n",
    "input_list = [int(x) for x in input(\"Enter a list of numbers: \").split()]\n",
    "target_element = int(input(\"Enter the element to count: \"))\n",
    "occurrences = count_occurrences(input_list, target_element)\n",
    "print(\"Occurrences of element:\", occurrences)\n"
   ]
  },
  {
   "cell_type": "code",
   "execution_count": 27,
   "id": "6a5e2901-5455-4530-95d2-f8ff8cb418c5",
   "metadata": {},
   "outputs": [
    {
     "name": "stdin",
     "output_type": "stream",
     "text": [
      "Enter a number:  42\n"
     ]
    },
    {
     "name": "stdout",
     "output_type": "stream",
     "text": [
      "The number is not a perfect number.\n"
     ]
    }
   ],
   "source": [
    "## Answer 44)\n",
    "\n",
    "def is_perfect_number(num):\n",
    "    if num <= 0:\n",
    "        return False\n",
    "    divisor_sum = sum(i for i in range(1, num) if num % i == 0)\n",
    "    return divisor_sum == num\n",
    "\n",
    "num = int(input(\"Enter a number: \"))\n",
    "if is_perfect_number(num):\n",
    "    print(\"The number is a perfect number.\")\n",
    "else:\n",
    "    print(\"The number is not a perfect number.\")"
   ]
  },
  {
   "cell_type": "code",
   "execution_count": 28,
   "id": "e97b5cf5-d9da-40a6-b08a-166b8a004224",
   "metadata": {},
   "outputs": [
    {
     "name": "stdin",
     "output_type": "stream",
     "text": [
      "Enter a string:  Batman\n"
     ]
    },
    {
     "name": "stdout",
     "output_type": "stream",
     "text": [
      "String without duplicates: mnBta\n"
     ]
    }
   ],
   "source": [
    "## Answer 45)\n",
    "\n",
    "def remove_duplicates(string):\n",
    "    return ''.join(set(string))\n",
    "\n",
    "input_string = input(\"Enter a string: \")\n",
    "string_without_duplicates = remove_duplicates(input_string)\n",
    "print(\"String without duplicates:\", string_without_duplicates)"
   ]
  },
  {
   "cell_type": "code",
   "execution_count": 29,
   "id": "ffb6d800-3cad-4e31-8178-123ce7fad273",
   "metadata": {},
   "outputs": [
    {
     "name": "stdin",
     "output_type": "stream",
     "text": [
      "Enter a list of numbers:  25 38 39 20\n"
     ]
    },
    {
     "name": "stdout",
     "output_type": "stream",
     "text": [
      "First missing positive integer: 1\n"
     ]
    }
   ],
   "source": [
    "## Answer 46)\n",
    "\n",
    "def find_first_missing_positive(nums):\n",
    "    n = len(nums)\n",
    "\n",
    "    # Move each positive integer to its corresponding index (if possible)\n",
    "    for i in range(n):\n",
    "        while 1 <= nums[i] <= n and nums[i] != nums[nums[i] - 1]:\n",
    "            nums[nums[i] - 1], nums[i] = nums[i], nums[nums[i] - 1]\n",
    "\n",
    "    # Find the first index without the correct positive integer\n",
    "    for i in range(n):\n",
    "        if nums[i] != i + 1:\n",
    "            return i + 1\n",
    "\n",
    "    # If all indices have the correct positive integers, return n + 1\n",
    "    return n + 1\n",
    "\n",
    "input_list = [int(x) for x in input(\"Enter a list of numbers: \").split()]\n",
    "missing_positive = find_first_missing_positive(input_list)\n",
    "print(\"First missing positive integer:\", missing_positive)"
   ]
  }
 ],
 "metadata": {
  "kernelspec": {
   "display_name": "Python 3 (ipykernel)",
   "language": "python",
   "name": "python3"
  },
  "language_info": {
   "codemirror_mode": {
    "name": "ipython",
    "version": 3
   },
   "file_extension": ".py",
   "mimetype": "text/x-python",
   "name": "python",
   "nbconvert_exporter": "python",
   "pygments_lexer": "ipython3",
   "version": "3.10.8"
  }
 },
 "nbformat": 4,
 "nbformat_minor": 5
}
