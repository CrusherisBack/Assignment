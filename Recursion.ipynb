{
 "cells": [
  {
   "cell_type": "code",
   "execution_count": 1,
   "id": "38129967-c9cc-4876-a0d9-1178933ed2d2",
   "metadata": {},
   "outputs": [
    {
     "name": "stdout",
     "output_type": "stream",
     "text": [
      "231\n"
     ]
    }
   ],
   "source": [
    "## Answer 1)\n",
    "\n",
    "def minimumDeleteSum(s1, s2):\n",
    "    m, n = len(s1), len(s2)\n",
    "    dp = [[0] * (n + 1) for _ in range(m + 1)]\n",
    "\n",
    "    for i in range(1, m + 1):\n",
    "        dp[i][0] = dp[i-1][0] + ord(s1[i-1])\n",
    "\n",
    "    for j in range(1, n + 1):\n",
    "        dp[0][j] = dp[0][j-1] + ord(s2[j-1])\n",
    "\n",
    "    for i in range(1, m + 1):\n",
    "        for j in range(1, n + 1):\n",
    "            if s1[i-1] == s2[j-1]:\n",
    "                dp[i][j] = dp[i-1][j-1]\n",
    "            else:\n",
    "                dp[i][j] = min(dp[i-1][j] + ord(s1[i-1]), dp[i][j-1] + ord(s2[j-1]))\n",
    "\n",
    "    return dp[m][n]\n",
    "\n",
    "\n",
    "# Example usage\n",
    "s1 = \"sea\"\n",
    "s2 = \"eat\"\n",
    "result = minimumDeleteSum(s1, s2)\n",
    "print(result)\n"
   ]
  },
  {
   "cell_type": "code",
   "execution_count": 2,
   "id": "4cbc13ae-8e10-4750-9a28-014a0bdac1f6",
   "metadata": {},
   "outputs": [
    {
     "name": "stdout",
     "output_type": "stream",
     "text": [
      "True\n"
     ]
    }
   ],
   "source": [
    "## Answer 2)\n",
    "\n",
    "def checkValidString(s):\n",
    "    stack = []\n",
    "\n",
    "    for ch in s:\n",
    "        if ch in '(*':\n",
    "            stack.append(ch)\n",
    "        elif ch == ')':\n",
    "            if stack and stack[-1] == '(':\n",
    "                stack.pop()\n",
    "            elif stack and stack[-1] == '*':\n",
    "                stack.pop()\n",
    "            else:\n",
    "                return False\n",
    "\n",
    "    while stack:\n",
    "        if stack[-1] == '(':\n",
    "            return False\n",
    "        stack.pop()\n",
    "\n",
    "    return True\n",
    "\n",
    "\n",
    "# Example usage\n",
    "s = \"()\"\n",
    "result = checkValidString(s)\n",
    "print(result)"
   ]
  },
  {
   "cell_type": "code",
   "execution_count": 3,
   "id": "c1e84fbb-9091-46d4-8c5b-66f7d591f290",
   "metadata": {},
   "outputs": [
    {
     "name": "stdout",
     "output_type": "stream",
     "text": [
      "2\n"
     ]
    }
   ],
   "source": [
    "## Answer 3)\n",
    "\n",
    "def minSteps(word1, word2):\n",
    "    m, n = len(word1), len(word2)\n",
    "    dp = [[0] * (n + 1) for _ in range(m + 1)]\n",
    "\n",
    "    for i in range(1, m + 1):\n",
    "        dp[i][0] = i\n",
    "\n",
    "    for j in range(1, n + 1):\n",
    "        dp[0][j] = j\n",
    "\n",
    "    for i in range(1, m + 1):\n",
    "        for j in range(1, n + 1):\n",
    "            if word1[i-1] == word2[j-1]:\n",
    "                dp[i][j] = dp[i-1][j-1]\n",
    "            else:\n",
    "                dp[i][j] = min(dp[i-1][j] + 1, dp[i][j-1] + 1, dp[i-1][j-1] + 2)\n",
    "\n",
    "    return dp[m][n]\n",
    "\n",
    "\n",
    "# Example usage\n",
    "word1 = \"sea\"\n",
    "word2 = \"eat\"\n",
    "result = minSteps(word1, word2)\n",
    "print(result)\n"
   ]
  },
  {
   "cell_type": "code",
   "execution_count": null,
   "id": "5ad93d62-b33d-4747-b682-cca714a3fbf7",
   "metadata": {},
   "outputs": [],
   "source": [
    "## Answer 4)\n",
    "\n",
    "class TreeNode:\n",
    "    def __init__(self, val=0, left=None, right=None):\n",
    "        self.val = val\n",
    "        self.left = left\n",
    "        self.right = right\n",
    "\n",
    "def buildTreeUtil(s, start, end):\n",
    "    if start > end:\n",
    "        return None\n",
    "\n",
    "    index = s.find(\"(\", start, end)\n",
    "    val = int(s[start:index]) if index != -1 else int(s[start:end])\n",
    "\n",
    "    if index == -1:\n",
    "        return TreeNode(val)\n",
    "\n",
    "    subtreeEnd = findClosingParenthesis(s, index)\n",
    "\n",
    "    root = TreeNode(val)\n",
    "    root.left = buildTreeUtil(s, index + 1, subtreeEnd - 1)\n",
    "    root.right = buildTreeUtil(s, subtreeEnd + 2, end - 1)\n",
    "\n",
    "    return root\n",
    "\n",
    "def findClosingParenthesis(s, start):\n",
    "    count = 0\n",
    "    for i in range(start, len(s)):\n",
    "        if s[i] == \"(\":\n",
    "            count += 1\n",
    "        elif s[i] == \")\":\n",
    "            count -= 1\n",
    "        if count == 0:\n",
    "            return i\n",
    "    return -1\n",
    "\n",
    "def buildTree(s):\n",
    "    return buildTreeUtil(s, 0, len(s))\n",
    "\n",
    "def printTree(node):\n",
    "    if node is None:\n",
    "        return\n",
    "    print(node.val, end=\" \")\n",
    "    printTree(node.left)\n",
    "    printTree(node.right)\n",
    "\n",
    "# Example usage\n",
    "s = \"4(2(3)(1))(6(5))\"\n",
    "root = buildTree(s)\n",
    "printTree(root)\n"
   ]
  },
  {
   "cell_type": "code",
   "execution_count": 9,
   "id": "3a156540-1c57-434e-8255-01114ca757d2",
   "metadata": {},
   "outputs": [
    {
     "name": "stdout",
     "output_type": "stream",
     "text": [
      "6\n",
      "['a', '2', 'b', '2', 'c', '3']\n"
     ]
    }
   ],
   "source": [
    "## Answer 5)\n",
    "\n",
    "def compress(chars):\n",
    "    write = 0\n",
    "    count = 1\n",
    "\n",
    "    for read in range(1, len(chars) + 1):\n",
    "        if read < len(chars) and chars[read] == chars[read - 1]:\n",
    "            count += 1\n",
    "        else:\n",
    "            chars[write] = chars[read - 1]\n",
    "            write += 1\n",
    "            if count > 1:\n",
    "                for digit in str(count):\n",
    "                    chars[write] = digit\n",
    "                    write += 1\n",
    "            count = 1\n",
    "\n",
    "    return write\n",
    "\n",
    "\n",
    "# Example usage\n",
    "chars = [\"a\", \"a\", \"b\", \"b\", \"c\", \"c\", \"c\"]\n",
    "result = compress(chars)\n",
    "print(result)\n",
    "print(chars[:result])"
   ]
  },
  {
   "cell_type": "code",
   "execution_count": 10,
   "id": "2beb4082-b1b6-4482-b85a-9602bb11cd02",
   "metadata": {},
   "outputs": [
    {
     "name": "stdout",
     "output_type": "stream",
     "text": [
      "[0, 6]\n"
     ]
    }
   ],
   "source": [
    "## Answer 6)\n",
    "\n",
    "from collections import Counter\n",
    "\n",
    "def findAnagrams(s, p):\n",
    "    p_count = Counter(p)\n",
    "    window_count = Counter()\n",
    "\n",
    "    left = right = 0\n",
    "    result = []\n",
    "\n",
    "    while right < len(s):\n",
    "        window_count[s[right]] += 1\n",
    "\n",
    "        if right - left + 1 == len(p):\n",
    "            if p_count == window_count:\n",
    "                result.append(left)\n",
    "\n",
    "            window_count[s[left]] -= 1\n",
    "            if window_count[s[left]] == 0:\n",
    "                del window_count[s[left]]\n",
    "            left += 1\n",
    "\n",
    "        right += 1\n",
    "\n",
    "    return result\n",
    "\n",
    "\n",
    "# Example usage\n",
    "s = \"cbaebabacd\"\n",
    "p = \"abc\"\n",
    "result = findAnagrams(s, p)\n",
    "print(result)\n"
   ]
  },
  {
   "cell_type": "code",
   "execution_count": 11,
   "id": "5d906f5e-7c84-403d-ad22-1cc28f651045",
   "metadata": {},
   "outputs": [
    {
     "name": "stdout",
     "output_type": "stream",
     "text": [
      "cbcbaaa\n"
     ]
    }
   ],
   "source": [
    "## Answer 7)\n",
    "\n",
    "def decodeString(s):\n",
    "    stack = []\n",
    "    \n",
    "    for char in s:\n",
    "        if char == ']':\n",
    "            substring = ''\n",
    "            \n",
    "            while stack[-1] != '[':\n",
    "                substring = stack.pop() + substring\n",
    "                \n",
    "            stack.pop()  # Pop the '[' character\n",
    "            \n",
    "            count = ''\n",
    "            while stack and stack[-1].isdigit():\n",
    "                count = stack.pop() + count\n",
    "            \n",
    "            substring = substring * int(count)\n",
    "            \n",
    "            for ch in substring:\n",
    "                stack.append(ch)\n",
    "        else:\n",
    "            stack.append(char)\n",
    "    \n",
    "    decoded_string = ''\n",
    "    while stack:\n",
    "        decoded_string = stack.pop() + decoded_string\n",
    "    \n",
    "    return decoded_string[::-1]\n",
    "\n",
    "\n",
    "# Example usage\n",
    "s = \"3[a]2[bc]\"\n",
    "result = decodeString(s)\n",
    "print(result)\n"
   ]
  },
  {
   "cell_type": "code",
   "execution_count": 12,
   "id": "08a8f534-9910-46c3-9555-f66c86f7ba13",
   "metadata": {},
   "outputs": [
    {
     "name": "stdout",
     "output_type": "stream",
     "text": [
      "True\n"
     ]
    }
   ],
   "source": [
    "## Answer 8)\n",
    "\n",
    "def buddyStrings(s, goal):\n",
    "    if len(s) != len(goal):\n",
    "        return False\n",
    "\n",
    "    diff_s = []\n",
    "    diff_goal = []\n",
    "\n",
    "    for i in range(len(s)):\n",
    "        if s[i] != goal[i]:\n",
    "            diff_s.append(i)\n",
    "            diff_goal.append(goal[i])\n",
    "\n",
    "        if len(diff_s) > 2:\n",
    "            return False\n",
    "\n",
    "    if len(diff_s) != 2:\n",
    "        return False\n",
    "\n",
    "    if s[diff_s[0]] == goal[diff_s[1]] and s[diff_s[1]] == goal[diff_s[0]]:\n",
    "        return True\n",
    "\n",
    "    return False\n",
    "\n",
    "\n",
    "# Example usage\n",
    "s = \"ab\"\n",
    "goal = \"ba\"\n",
    "result = buddyStrings(s, goal)\n",
    "print(result)\n"
   ]
  }
 ],
 "metadata": {
  "kernelspec": {
   "display_name": "Python 3 (ipykernel)",
   "language": "python",
   "name": "python3"
  },
  "language_info": {
   "codemirror_mode": {
    "name": "ipython",
    "version": 3
   },
   "file_extension": ".py",
   "mimetype": "text/x-python",
   "name": "python",
   "nbconvert_exporter": "python",
   "pygments_lexer": "ipython3",
   "version": "3.10.8"
  }
 },
 "nbformat": 4,
 "nbformat_minor": 5
}
