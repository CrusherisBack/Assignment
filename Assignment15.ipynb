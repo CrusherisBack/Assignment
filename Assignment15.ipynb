{
 "cells": [
  {
   "cell_type": "code",
   "execution_count": null,
   "id": "d09cb591-805e-44aa-99a8-7fbd469a5177",
   "metadata": {},
   "outputs": [],
   "source": [
    "# Answer 1\n",
    "A database is a structured collection of data that is organized in a way that allows for efficient storage, retrieval, and management of data. Databases are commonly used in software applications to store and retrieve data, and they are an essential part of modern technology systems.\n",
    "\n",
    "The main differences between SQL and NoSQL databases are:\n",
    "\n",
    "SQL databases are relational databases based on tables, while NoSQL databases are non-relational and can be structured in various ways.\n",
    "SQL databases use SQL as their primary query language, while NoSQL databases use various query languages or APIs.\n",
    "SQL databases are better suited for complex queries and transactions, while NoSQL databases are better suited for handling large amounts of unstructured data and providing fast data access."
   ]
  },
  {
   "cell_type": "code",
   "execution_count": null,
   "id": "667e4a90-c9c5-48ad-a85a-61ae62b50f56",
   "metadata": {},
   "outputs": [],
   "source": [
    "# Answer 2\n",
    "DDL stands for Data Definition Language, which is a subset of SQL (Structured Query Language) that is used to define, modify, and manage the structure of a database. In other words, DDL is used to create and manage the schema of a database, including tables, views, indexes, and other database objects.\n",
    "\n",
    "CREATE: Used to create a new database object, such as a table or view.\n",
    "Example:\n",
    "CREATE TABLE employees (\n",
    "    id INT PRIMARY KEY,\n",
    "    name VARCHAR(50),\n",
    "    salary DECIMAL(10,2)\n",
    ");\n",
    "\n",
    "ALTER: Used to modify the structure of an existing database object, such as a table or view.\n",
    "Example:\n",
    "ALTER TABLE employees\n",
    "ADD COLUMN department VARCHAR(50);\n",
    "\n",
    "DROP: Used to delete an existing database object, such as a table or view.\n",
    "Example:\n",
    "DROP TABLE employees;\n",
    "\n",
    "TRUNCATE: Used to remove all the data from an existing table.\n",
    "Example:\n",
    "TRUNCATE TABLE employees;"
   ]
  },
  {
   "cell_type": "code",
   "execution_count": null,
   "id": "cccb9d43-6c74-4e04-bd96-9e0746b93f59",
   "metadata": {},
   "outputs": [],
   "source": [
    "# Answer 3)\n",
    "DML stands for Data Manipulation Language, which is a subset of SQL (Structured Query Language) that is used to manipulate and process data in a database. DML statements are used to insert, update, delete, and retrieve data from a database, and they are often used in conjunction with DDL (Data Definition Language) statements to manage the structure and content of a database.\n",
    "\n",
    "Insert: The INSERT statement is used to insert new records into a table. For example, the following SQL statement inserts a new record into the \"employees\" table\n",
    "Example:\n",
    "INSERT INTO employees (id, name, salary)\n",
    "VALUES (1, 'John Doe', 50000);\n",
    "\n",
    "Update: The UPDATE statement is used to update existing records in a table. For example, the following SQL statement updates the salary of the employee with an ID of 1\n",
    "Example:\n",
    "UPDATE employees\n",
    "SET salary = 55000\n",
    "WHERE id = 1;\n",
    "\n",
    "Delete: The DELETE statement is used to delete records from a table. For example, the following SQL statement deletes the employee with an ID of 1 from the \"employees\" table\n",
    "Example:\n",
    "DELETE FROM employees\n",
    "WHERE id = 1;\n"
   ]
  },
  {
   "cell_type": "code",
   "execution_count": null,
   "id": "e0b27461-bcb0-4cdc-9bf6-b62c789b5ed2",
   "metadata": {},
   "outputs": [],
   "source": [
    "#Answer 4)\n",
    "DQL stands for Data Query Language, which is a subset of SQL (Structured Query Language) used to retrieve and manipulate data from a database. DQL statements are used to query the data stored in the database, and they allow you to retrieve data based on certain conditions, perform calculations, and filter data based on various criteria.\n",
    "\n",
    "Select: The most commonly used DQL statement is the SELECT statement, which is used to retrieve data from one or more tables in a database. Here is an example of a SELECT statement that retrieves all records from the \"employees\" table\n",
    "Example:\n",
    "SELECT * FROM employees;"
   ]
  },
  {
   "cell_type": "code",
   "execution_count": null,
   "id": "50455934-bd82-4d71-8e4a-cae3415c3c20",
   "metadata": {},
   "outputs": [],
   "source": [
    "# Answer 5)\n",
    "Primary key: A primary key is a column or set of columns in a table that uniquely identifies each row in the table. It is used to enforce data integrity and ensure that each row in the table can be uniquely identified. Primary keys are typically used as the basis for creating relationships between tables. The primary key constraint ensures that the value of the primary key is unique and not null for each row in the table.\n",
    "\n",
    "Foreign Key: A foreign key is a column or set of columns in a table that refers to the primary key of another table. It is used to establish a relationship between two tables. The foreign key constraint ensures that the values in the foreign key column match the values in the primary key column of the referenced table, or are null. This ensures that the data in the table is consistent with the data in the referenced table."
   ]
  },
  {
   "cell_type": "code",
   "execution_count": null,
   "id": "a7043bf7-cf11-4190-8920-549650879dda",
   "metadata": {},
   "outputs": [],
   "source": [
    "\n",
    "# Answer 6)\n",
    "To connect mysql to python:\n",
    "import mysql.connector\n",
    "\n",
    "# Connect to the database\n",
    "mydb = mysql.connector.connect(\n",
    "  host=\"localhost\",\n",
    "  user=\"abc\",\n",
    "  password=\"Password\",\n",
    "  database=\"yourdatabase\"\n",
    ")\n",
    "\n",
    "# Create a cursor object\n",
    "mycursor = mydb.cursor()\n",
    "\n",
    "# Execute a SQL query\n",
    "mycursor.execute(\"SELECT * FROM yourtable\")\n",
    "\n",
    "# Fetch the results\n",
    "myresult = mycursor.fetchall()\n",
    "\n",
    "# Print the results\n",
    "for x in myresult:\n",
    "  print(x)\n",
    "\n",
    "\n",
    "Cursor method: The cursor() method creates a cursor object, which is used to execute SQL statements. \n",
    "Execute method: The execute() method is used to execute SQL statements on the database"
   ]
  },
  {
   "cell_type": "code",
   "execution_count": null,
   "id": "c3ff86eb-d06d-432c-9268-359976d087c7",
   "metadata": {},
   "outputs": [],
   "source": [
    "#Answer 7)\n",
    "The order of execution of SQL clauses in an SQL query is as follows:\n",
    "\n",
    "FROM clause: This clause specifies the table or tables from which the data will be retrieved.\n",
    "\n",
    "WHERE clause: This clause is used to filter the data based on specified conditions.\n",
    "\n",
    "GROUP BY clause: This clause is used to group the data based on specified columns.\n",
    "\n",
    "HAVING clause: This clause is used to filter the groups based on specified conditions.\n",
    "\n",
    "SELECT clause: This clause is used to specify the columns that will be included in the result set.\n",
    "\n",
    "ORDER BY clause: This clause is used to sort the result set based on specified columns.\n",
    "\n",
    "LIMIT clause: This clause is used to limit the number of rows returned by the query."
   ]
  }
 ],
 "metadata": {
  "kernelspec": {
   "display_name": "Python 3 (ipykernel)",
   "language": "python",
   "name": "python3"
  },
  "language_info": {
   "codemirror_mode": {
    "name": "ipython",
    "version": 3
   },
   "file_extension": ".py",
   "mimetype": "text/x-python",
   "name": "python",
   "nbconvert_exporter": "python",
   "pygments_lexer": "ipython3",
   "version": "3.10.8"
  }
 },
 "nbformat": 4,
 "nbformat_minor": 5
}
