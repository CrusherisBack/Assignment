{
 "cells": [
  {
   "cell_type": "code",
   "execution_count": null,
   "id": "f1510b11-6815-4608-a075-fd852cffb2cf",
   "metadata": {},
   "outputs": [],
   "source": [
    "Answer 1)\n",
    "In Python, the open() function is used to open a file. It takes two arguments: the first argument is the file name or file path, and the second argument is the mode in which the file should be opened. The open() function returns a file object that can be used to read, write, or manipulate the contents of the file.\n",
    "\n",
    "Here are the different modes of opening a file in Python:\n",
    "\n",
    "\"r\": Read mode. This is the default mode if no mode is specified. In this mode, the file is opened for reading, and an error is raised if the file does not exist.\n",
    "\n",
    "\"w\": Write mode. In this mode, the file is opened for writing. If the file does not exist, a new file is created. If the file already exists, its contents are truncated.\n",
    "\n",
    "\"a\": Append mode. In this mode, the file is opened for writing, but the new data is added to the end of the file instead of overwriting the existing data.\n",
    "\n",
    "\"x\": Exclusive creation mode. In this mode, the file is opened for exclusive creation, which means that an error is raised if the file already exists.\n",
    "\n",
    "\"b\": Binary mode. This mode is used to open a file in binary mode, which is useful when working with non-text files, such as images or audio.\n",
    "\n",
    "\"t\": Text mode. This is the default mode if no mode is specified. In this mode, the file is opened in text mode, which is used to read and write text files."
   ]
  },
  {
   "cell_type": "code",
   "execution_count": null,
   "id": "ebfe3dbe-035c-45b8-9b53-1d2056095b38",
   "metadata": {},
   "outputs": [],
   "source": [
    "Answer 2)\n",
    "The close() function in Python is used to close an open file object. It is important to close a file after it has been opened for several reasons:\n",
    "\n",
    "Resource management: When a file is opened in Python, the operating system assigns certain resources to it, such as memory and file handles. If the file is not closed properly, these resources may remain in use even after the program has finished running, leading to resource leaks.\n",
    "\n",
    "Data integrity: When data is written to a file, it is usually stored in a buffer before being written to the actual file on the disk. If the file is not closed properly, this buffer may not be flushed to the disk, leading to data corruption or loss.\n",
    "\n",
    "Other programs: If a file is left open by one program, other programs may not be able to access it until the first program has closed it."
   ]
  },
  {
   "cell_type": "code",
   "execution_count": 1,
   "id": "45d6e150-911a-40a1-ae8b-f96ca8eb8d0a",
   "metadata": {},
   "outputs": [
    {
     "name": "stdout",
     "output_type": "stream",
     "text": [
      "I want to become a Data Scientist\n"
     ]
    }
   ],
   "source": [
    "# Answer 3)\n",
    "# open file in write mode\n",
    "file = open(\"example.txt\", \"w\")\n",
    "\n",
    "# write to file\n",
    "file.write(\"I want to become a Data Scientist\")\n",
    "\n",
    "# close file\n",
    "file.close()\n",
    "\n",
    "# open file in read mode\n",
    "file = open(\"example.txt\", \"r\")\n",
    "\n",
    "# read contents of file\n",
    "content = file.read()\n",
    "\n",
    "# print contents of file\n",
    "print(content)\n",
    "\n",
    "# close file\n",
    "file.close()\n"
   ]
  },
  {
   "cell_type": "code",
   "execution_count": 2,
   "id": "37331f0e-9212-4388-8edf-eac0d7bd9665",
   "metadata": {},
   "outputs": [
    {
     "name": "stdout",
     "output_type": "stream",
     "text": [
      "I want to become a Data Scientist\n"
     ]
    }
   ],
   "source": [
    "# Answer 4)\n",
    "# read(): This method reads the entire contents of a file and returns them as a single string. It takes an optional argument specifying the maximum number of bytes to read from the file. If no argument is specified, the entire file is read.\n",
    "# open file in read mode\n",
    "file = open(\"example.txt\", \"r\")\n",
    "\n",
    "# read contents of file\n",
    "content = file.read()\n",
    "\n",
    "# print contents of file\n",
    "print(content)\n",
    "\n",
    "# close file\n",
    "file.close()\n"
   ]
  },
  {
   "cell_type": "code",
   "execution_count": 3,
   "id": "f456987e-815f-4abb-8c31-51c8bb2defef",
   "metadata": {},
   "outputs": [
    {
     "name": "stdout",
     "output_type": "stream",
     "text": [
      "I want to become a Data Scientist\n"
     ]
    }
   ],
   "source": [
    "# readline(): This method reads a single line from a file and returns it as a string. Each time readline() is called, it reads the next line of the file. When the end of the file is reached, readline() returns an empty string.\n",
    "# open file in read mode\n",
    "file = open(\"example.txt\", \"r\")\n",
    "\n",
    "# read first line of file\n",
    "line = file.readline()\n",
    "\n",
    "# print first line of file\n",
    "print(line)\n",
    "\n",
    "# close file\n",
    "file.close()\n"
   ]
  },
  {
   "cell_type": "code",
   "execution_count": 4,
   "id": "e24e62c3-c94c-47f0-97e2-1867525d1838",
   "metadata": {},
   "outputs": [
    {
     "name": "stdout",
     "output_type": "stream",
     "text": [
      "I want to become a Data Scientist\n"
     ]
    }
   ],
   "source": [
    "# readlines(): This method reads all the lines of a file and returns them as a list of strings. Each string in the list corresponds to a single line of the file.\n",
    "# open file in read mode\n",
    "file = open(\"example.txt\", \"r\")\n",
    "\n",
    "# read all lines of file\n",
    "lines = file.readlines()\n",
    "\n",
    "# print all lines of file\n",
    "for line in lines:\n",
    "    print(line)\n",
    "\n",
    "# close file\n",
    "file.close()\n"
   ]
  },
  {
   "cell_type": "code",
   "execution_count": null,
   "id": "f3936a7e-85b2-4a51-b13c-4670d7786adf",
   "metadata": {},
   "outputs": [],
   "source": [
    "Answer 5)\n",
    "The with statement in Python is used to create a context in which a file or resource is opened and used, and then automatically closed when the block of code is exited. When with is used with open(), it ensures that the file is properly closed even if an exception is raised or an error occurs during the execution of the code."
   ]
  },
  {
   "cell_type": "code",
   "execution_count": 7,
   "id": "32cd5af6-f81f-4e74-9e71-7b8b03c755ec",
   "metadata": {},
   "outputs": [],
   "source": [
    "# Answer 6)\n",
    "# The write() function is used to write a single string to a file. It takes a string argument that contains the data to be written to the file. If the file is not already opened in write mode, it will be opened in write mode automatically.\n",
    "# open file in write mode\n",
    "file = open(\"example.txt\", \"w\")\n",
    "\n",
    "# write string to file\n",
    "file.write(\"This is an example sentence.\")\n",
    "\n",
    "# close file\n",
    "file.close()\n"
   ]
  },
  {
   "cell_type": "code",
   "execution_count": 8,
   "id": "d8c794ca-53b7-4dff-9ac9-9a7ba40f6eac",
   "metadata": {},
   "outputs": [],
   "source": [
    "# The writelines() function is used to write a list of strings to a file. Each string in the list corresponds to a single line in the file. If the file is not already opened in write mode, it will be opened in write mode automatically.\n",
    "# open file in write mode\n",
    "file = open(\"example.txt\", \"w\")\n",
    "\n",
    "# write list of strings to file\n",
    "lines = [\"This is line 1.\", \"This is line 2.\", \"This is line 3.\"]\n",
    "file.writelines(lines)\n",
    "\n",
    "# close file\n",
    "file.close()\n"
   ]
  },
  {
   "cell_type": "code",
   "execution_count": null,
   "id": "a4f511ee-2a15-4d82-a140-cab3e75c7d85",
   "metadata": {},
   "outputs": [],
   "source": []
  }
 ],
 "metadata": {
  "kernelspec": {
   "display_name": "Python 3 (ipykernel)",
   "language": "python",
   "name": "python3"
  },
  "language_info": {
   "codemirror_mode": {
    "name": "ipython",
    "version": 3
   },
   "file_extension": ".py",
   "mimetype": "text/x-python",
   "name": "python",
   "nbconvert_exporter": "python",
   "pygments_lexer": "ipython3",
   "version": "3.10.8"
  }
 },
 "nbformat": 4,
 "nbformat_minor": 5
}
