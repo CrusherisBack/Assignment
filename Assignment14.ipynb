{
 "cells": [
  {
   "cell_type": "code",
   "execution_count": null,
   "id": "50bcf3cd-7664-47df-bc27-9d9b1aa9fc56",
   "metadata": {},
   "outputs": [],
   "source": [
    "Answer 1)\n",
    "Multithreading in Python refers to the process of running multiple threads of execution within a single Python process. A thread is a lightweight unit of execution that can be scheduled independently by the operating system, allowing multiple threads to run concurrently.\n",
    "Multithreading is used in Python for a variety of reasons, including:\n",
    "a) Improving performance\n",
    "b) Handling asynchronous tasks\n",
    "c) GUI programming\n",
    "d) Parallel computing\n",
    "The module used to handle threads in python is import Threading"
   ]
  },
  {
   "cell_type": "code",
   "execution_count": null,
   "id": "bb2a2ca2-2803-4a5c-93e3-48813a723d94",
   "metadata": {},
   "outputs": [],
   "source": [
    "Answer 2)\n",
    "Threads are used to perform concurrent processing, allowing multiple tasks to be executed simultaneously. The threading module provides a high-level interface for creating, starting, stopping, and communicating between threads in a Python program.\n",
    "a) activeCount(): The active_count() function is a method of the threading module in Python, which is used to get the number of currently active Thread objects in the program.\n",
    "b) currentThread(): The currentThread() function is a method of the threading module in Python, which is used to get a reference to the Thread object that represents the currently executing thread\n",
    "c) enumerate(): The enumerate() function is a built-in function in Python that is used to iterate over a sequence (such as a list or a tuple) and return a tuple for each element in the sequence that contains the index of the element and the value of the element."
   ]
  },
  {
   "cell_type": "code",
   "execution_count": null,
   "id": "ff167c5e-bcb8-4d74-9939-8f077c7f9867",
   "metadata": {},
   "outputs": [],
   "source": [
    "Answer 3)\n",
    "a) run(): This method is called when a thread is started using the start() method. It defines the code that the thread will execute. You should override this method in a subclass of Thread and define your thread's code in it.\n",
    "\n",
    "b) start(): This method starts the thread by calling the run() method. It returns immediately and the thread runs in the background. You can only call this method once on a given thread object, otherwise a RuntimeError will be raised.\n",
    "\n",
    "c) join(): This method waits for the thread to finish. It blocks the calling thread until the thread being joined completes execution. You can also specify a timeout argument, which will cause the join operation to return after a certain amount of time, even if the thread being joined hasn't finished yet.\n",
    "\n",
    "d) is_alive(): This method returns a Boolean value indicating whether the thread is currently executing. It returns True if the thread is still running and False if it has completed execution."
   ]
  },
  {
   "cell_type": "code",
   "execution_count": 1,
   "id": "95872f83-2557-4e5a-9515-0e31e215d111",
   "metadata": {},
   "outputs": [
    {
     "name": "stdout",
     "output_type": "stream",
     "text": [
      "1 squared is 1\n",
      "2 squared is 4\n",
      "3 squared is 9\n",
      "4 squared is 16\n",
      "5 squared is 25\n",
      "6 squared is 36\n",
      "7 squared is 49\n",
      "8 squared is 64\n",
      "9 squared is 81\n",
      "10 squared is 100\n",
      "1 cubed is 1\n",
      "2 cubed is 8\n",
      "3 cubed is 27\n",
      "4 cubed is 64\n",
      "5 cubed is 125\n",
      "6 cubed is 216\n",
      "7 cubed is 343\n",
      "8 cubed is 512\n",
      "9 cubed is 729\n",
      "10 cubed is 1000\n"
     ]
    }
   ],
   "source": [
    "# Answer 4)\n",
    "import threading\n",
    "\n",
    "# Define a function to print squares of numbers\n",
    "def print_squares():\n",
    "    for i in range(1, 11):\n",
    "        print(f\"{i} squared is {i**2}\")\n",
    "\n",
    "# Define a function to print cubes of numbers\n",
    "def print_cubes():\n",
    "    for i in range(1, 11):\n",
    "        print(f\"{i} cubed is {i**3}\")\n",
    "\n",
    "# Create two threads\n",
    "t1 = threading.Thread(target=print_squares)\n",
    "t2 = threading.Thread(target=print_cubes)\n",
    "\n",
    "# Start the threads\n",
    "t1.start()\n",
    "t2.start()\n",
    "\n",
    "# Wait for the threads to finish\n",
    "t1.join()\n",
    "t2.join()\n"
   ]
  },
  {
   "cell_type": "code",
   "execution_count": null,
   "id": "77d3f2cc-060b-4061-a08f-69a1cbeb599f",
   "metadata": {},
   "outputs": [],
   "source": [
    "Answer 5)\n",
    "Advantages of Multithreading\n",
    "a) Improved Performance\n",
    "b) Efficient use of resources\n",
    "c) Simplified programming\n",
    "d) Responsiveness\n",
    "Disadvantages of Multithreading\n",
    "a) Increased Compelxity\n",
    "b) Synchronization\n",
    "c) Limited Scalability\n",
    "d) Non deterministic behaviour"
   ]
  },
  {
   "cell_type": "code",
   "execution_count": null,
   "id": "2f5eb88c-4e6a-4434-955f-72218724f392",
   "metadata": {},
   "outputs": [],
   "source": [
    "Answer 6)\n",
    "A deadlock occurs when two or more threads are waiting for each other to release resources, so none of them can proceed. This situation can arise when a thread holds a resource (such as a lock) and needs another resource held by another thread to proceed, while that thread needs the resource held by the first thread to proceed. This results in a circular dependency where neither thread can release its resource, leading to a deadlock.\n",
    "\n",
    "A race condition, on the other hand, occurs when the behavior of a program depends on the relative timing of events that are not under the program's control. In other words, the outcome of the program depends on which thread gets to execute a particular section of code first. This can lead to unpredictable and inconsistent behavior of the program, making it difficult to debug and maintain."
   ]
  }
 ],
 "metadata": {
  "kernelspec": {
   "display_name": "Python 3 (ipykernel)",
   "language": "python",
   "name": "python3"
  },
  "language_info": {
   "codemirror_mode": {
    "name": "ipython",
    "version": 3
   },
   "file_extension": ".py",
   "mimetype": "text/x-python",
   "name": "python",
   "nbconvert_exporter": "python",
   "pygments_lexer": "ipython3",
   "version": "3.10.8"
  }
 },
 "nbformat": 4,
 "nbformat_minor": 5
}
