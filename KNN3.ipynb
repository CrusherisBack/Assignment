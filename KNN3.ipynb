{
 "cells": [
  {
   "cell_type": "code",
   "execution_count": 1,
   "id": "3d476a96-aa0d-458e-a8a0-5a3cd0419e4d",
   "metadata": {},
   "outputs": [
    {
     "name": "stdout",
     "output_type": "stream",
     "text": [
      "Accuracy: 1.0\n"
     ]
    }
   ],
   "source": [
    "# Answer 1)\n",
    "from sklearn.datasets import load_iris\n",
    "from sklearn.model_selection import train_test_split\n",
    "from sklearn.neighbors import KNeighborsClassifier\n",
    "from sklearn.metrics import accuracy_score\n",
    "\n",
    "# Load the iris dataset\n",
    "iris = load_iris()\n",
    "X, y = iris.data, iris.target\n",
    "\n",
    "# Split the dataset into training and testing sets\n",
    "X_train, X_test, y_train, y_test = train_test_split(X, y, test_size=0.2, random_state=42)\n",
    "\n",
    "# Create KNN classifier and fit the model\n",
    "knn_classifier = KNeighborsClassifier(n_neighbors=3)\n",
    "knn_classifier.fit(X_train, y_train)\n",
    "\n",
    "# Make predictions and evaluate accuracy\n",
    "predictions = knn_classifier.predict(X_test)\n",
    "accuracy = accuracy_score(y_test, predictions)\n",
    "print(\"Accuracy:\", accuracy)\n"
   ]
  },
  {
   "cell_type": "code",
   "execution_count": null,
   "id": "b741de31-ffb9-4de4-8fa1-5c2f4359f329",
   "metadata": {},
   "outputs": [],
   "source": [
    "# Answer 2)\n",
    "\n",
    "from sklearn.datasets import load_boston\n",
    "from sklearn.model_selection import train_test_split\n",
    "from sklearn.neighbors import KNeighborsRegressor\n",
    "from sklearn.metrics import mean_squared_error\n",
    "\n",
    "# Load the boston dataset\n",
    "boston = load_boston()\n",
    "X, y = boston.data, boston.target\n",
    "\n",
    "# Split the dataset into training and testing sets\n",
    "X_train, X_test, y_train, y_test = train_test_split(X, y, test_size=0.2, random_state=42)\n",
    "\n",
    "# Create KNN regressor and fit the model\n",
    "knn_regressor = KNeighborsRegressor(n_neighbors=3)\n",
    "knn_regressor.fit(X_train, y_train)\n",
    "\n",
    "# Make predictions and evaluate mean squared error\n",
    "predictions = knn_regressor.predict(X_test)\n",
    "mse = mean_squared_error(y_test, predictions)\n",
    "print(\"Mean Squared Error:\", mse)\n"
   ]
  },
  {
   "cell_type": "code",
   "execution_count": 3,
   "id": "2fbcfedd-d3df-4949-a2b7-83bb7c92af4f",
   "metadata": {},
   "outputs": [
    {
     "name": "stdout",
     "output_type": "stream",
     "text": [
      "Optimal K: 6\n"
     ]
    }
   ],
   "source": [
    "# Answer 3)\n",
    "\n",
    "from sklearn.model_selection import cross_val_score\n",
    "\n",
    "# Iterate over different values of K and find the one with the highest cross-validation score\n",
    "k_values = list(range(1, 21))\n",
    "cv_scores = []\n",
    "\n",
    "for k in k_values:\n",
    "    knn_classifier = KNeighborsClassifier(n_neighbors=k)\n",
    "    scores = cross_val_score(knn_classifier, X, y, cv=5)\n",
    "    cv_scores.append(scores.mean())\n",
    "\n",
    "optimal_k = k_values[cv_scores.index(max(cv_scores))]\n",
    "print(\"Optimal K:\", optimal_k)\n"
   ]
  },
  {
   "cell_type": "code",
   "execution_count": null,
   "id": "111dd987-16bb-4c60-b9ee-d5930906a82d",
   "metadata": {},
   "outputs": [],
   "source": [
    "# Answer 4)\n",
    "\n",
    "from sklearn.preprocessing import StandardScaler\n",
    "\n",
    "# Standardize the features\n",
    "scaler = StandardScaler()\n",
    "X_scaled = scaler.fit_transform(X)\n",
    "\n",
    "# Split the standardized dataset\n",
    "X_train_scaled, X_test_scaled, y_train, y_test = train_test_split(X_scaled, y, test_size=0.2, random_state=42)\n",
    "\n",
    "# Create KNN regressor and fit the model\n",
    "knn_regressor_scaled = KNeighborsRegressor(n_neighbors=3)\n",
    "knn_regressor_scaled.fit(X_train_scaled, y_train)\n",
    "\n",
    "# Make predictions and evaluate mean squared error\n",
    "predictions_scaled = knn_regressor_scaled.predict(X_test_scaled)\n",
    "mse_scaled = mean_squared_error(y_test, predictions_scaled)\n",
    "print(\"Mean Squared Error with Feature Scaling:\", mse_scaled)\n"
   ]
  },
  {
   "cell_type": "code",
   "execution_count": 5,
   "id": "689624af-73c3-4677-aff9-263515be3bef",
   "metadata": {},
   "outputs": [
    {
     "name": "stdout",
     "output_type": "stream",
     "text": [
      "Accuracy with Weighted Voting: 1.0\n"
     ]
    }
   ],
   "source": [
    "# Answer 5)\n",
    "\n",
    "# Create KNN classifier with weighted voting and fit the model\n",
    "knn_classifier_weighted = KNeighborsClassifier(n_neighbors=3, weights='distance')\n",
    "knn_classifier_weighted.fit(X_train, y_train)\n",
    "\n",
    "# Make predictions and evaluate accuracy\n",
    "predictions_weighted = knn_classifier_weighted.predict(X_test)\n",
    "accuracy_weighted = accuracy_score(y_test, predictions_weighted)\n",
    "print(\"Accuracy with Weighted Voting:\", accuracy_weighted)\n"
   ]
  },
  {
   "cell_type": "code",
   "execution_count": 7,
   "id": "dd74fc86-bc58-4687-9cbb-eedd8c7fe3d5",
   "metadata": {},
   "outputs": [],
   "source": [
    "# Answer 6)\n",
    "def standardize_features(X_train, X_test):\n",
    "    scaler = StandardScaler()\n",
    "    X_train_scaled = scaler.fit_transform(X_train)\n",
    "    X_test_scaled = scaler.transform(X_test)\n",
    "    return X_train_scaled, X_test_scaled\n"
   ]
  },
  {
   "cell_type": "code",
   "execution_count": 8,
   "id": "179fc2cc-27a3-4d60-8d01-6594f80f286c",
   "metadata": {},
   "outputs": [],
   "source": [
    "# Answer 7)\n",
    "import numpy as np\n",
    "\n",
    "def euclidean_distance(point1, point2):\n",
    "    return np.sqrt(np.sum((point1 - point2) ** 2))\n"
   ]
  },
  {
   "cell_type": "code",
   "execution_count": 9,
   "id": "4727324f-e4d1-476a-b312-35093e5f5675",
   "metadata": {},
   "outputs": [],
   "source": [
    "# Answer 8)\n",
    "def manhattan_distance(point1, point2):\n",
    "    return np.sum(np.abs(point1 - point2))\n"
   ]
  }
 ],
 "metadata": {
  "kernelspec": {
   "display_name": "Python 3 (ipykernel)",
   "language": "python",
   "name": "python3"
  },
  "language_info": {
   "codemirror_mode": {
    "name": "ipython",
    "version": 3
   },
   "file_extension": ".py",
   "mimetype": "text/x-python",
   "name": "python",
   "nbconvert_exporter": "python",
   "pygments_lexer": "ipython3",
   "version": "3.10.8"
  }
 },
 "nbformat": 4,
 "nbformat_minor": 5
}
