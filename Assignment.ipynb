{
 "cells": [
  {
   "cell_type": "code",
   "execution_count": null,
   "id": "84f60320-9f90-419d-b976-607a3400460d",
   "metadata": {},
   "outputs": [],
   "source": [
    "1) It was initially designed by Guido van Rossum in 1991 and developed by Python Software Foundation."
   ]
  },
  {
   "cell_type": "code",
   "execution_count": null,
   "id": "84a2a8a1-dac1-4eaa-a0d5-6caf367b422a",
   "metadata": {},
   "outputs": [],
   "source": [
    "2) Object oriented programming , structured programming and functional programming."
   ]
  },
  {
   "cell_type": "code",
   "execution_count": null,
   "id": "0b4e3ba8-aae5-49eb-ac99-cbd7fba124c5",
   "metadata": {},
   "outputs": [],
   "source": [
    "3) The Python language is case-sensitive."
   ]
  },
  {
   "cell_type": "code",
   "execution_count": null,
   "id": "fa8e2ac5-1117-47d2-93dc-d2da1b885f47",
   "metadata": {},
   "outputs": [],
   "source": [
    "4) The correct statement for python file is .py"
   ]
  },
  {
   "cell_type": "code",
   "execution_count": null,
   "id": "2f8a1095-95c4-4097-a85f-3d34fe91d226",
   "metadata": {},
   "outputs": [],
   "source": [
    "5) Python is a “COMPILED INTERPRETED” language."
   ]
  },
  {
   "cell_type": "code",
   "execution_count": null,
   "id": "8c90702a-4d9d-4129-8904-4b2fb3aebc7f",
   "metadata": {},
   "outputs": [],
   "source": [
    "6)In Python, some of the commonly used blocks of code include:\n",
    "\n",
    "Functions: defined using the \"def\" keyword to encapsulate a block of code for reuse.\n",
    "Loops: such as \"for\" and \"while\" loops, used to execute a block of code repeatedly.\n",
    "Conditional statements: such as \"if,\" \"elif,\" and \"else\" statements, used to execute different blocks of code based on different conditions.\n",
    "Classes: defined using the \"class\" keyword to create objects with specific attributes and behaviors.\n",
    "Exception handling: using the \"try,\" \"except,\" \"else,\" and \"finally\" statements to handle and recover from errors that may occur in a block of code."
   ]
  },
  {
   "cell_type": "code",
   "execution_count": null,
   "id": "f599026b-de2c-43ea-96ed-0919f8936e7b",
   "metadata": {},
   "outputs": [],
   "source": [
    "7) In Python, the hash symbol \"#\" is used to give single-line comments. "
   ]
  },
  {
   "cell_type": "code",
   "execution_count": null,
   "id": "b9fc5335-447d-49a8-b59a-312a73a0ba7a",
   "metadata": {},
   "outputs": [],
   "source": [
    "8) sys.version"
   ]
  },
  {
   "cell_type": "code",
   "execution_count": null,
   "id": "728d0ee3-5238-4b52-9ae3-5536cfe51b84",
   "metadata": {},
   "outputs": [],
   "source": [
    "9) Lamda function"
   ]
  },
  {
   "cell_type": "code",
   "execution_count": null,
   "id": "d51193bc-29c7-46c8-9f1e-1782455d4ecd",
   "metadata": {},
   "outputs": [],
   "source": [
    "10) Pip install packages"
   ]
  },
  {
   "cell_type": "code",
   "execution_count": null,
   "id": "93168e57-5111-42d8-bfde-50cf548f320f",
   "metadata": {},
   "outputs": [],
   "source": [
    "11) print(), len(), type(), input(), int(), range()"
   ]
  },
  {
   "cell_type": "code",
   "execution_count": null,
   "id": "d75c3f8b-abfa-4929-8f1d-e0840284aee9",
   "metadata": {},
   "outputs": [],
   "source": [
    "12) 79 characters"
   ]
  },
  {
   "cell_type": "code",
   "execution_count": null,
   "id": "5c85fc70-3110-49bf-9e01-648d5118056b",
   "metadata": {},
   "outputs": [],
   "source": [
    "13) Ease of use and readability, Large standard library, High-level language, Open source and community-driven, Support for multiple programming paradigms, Data scienec and Machine learning"
   ]
  },
  {
   "cell_type": "code",
   "execution_count": null,
   "id": "5e350b02-2b08-4e72-adf1-bdf86342900e",
   "metadata": {},
   "outputs": [],
   "source": [
    "14) In Python, memory management is handled by the Python memory manager, which uses a private heap to manage memory. The heap is a contiguous block of memory that is used to store all Python objects and data structures."
   ]
  },
  {
   "cell_type": "code",
   "execution_count": null,
   "id": "e627c0ea-8a9e-4643-b748-e34f3262b9c3",
   "metadata": {},
   "outputs": [],
   "source": [
    "15) To install Python on Windows and set path variables, you can follow these steps:\n",
    "Go to the official Python website (https://www.python.org/downloads/windows/) and download the latest version of Python for Windows.\n",
    "Double-click on the downloaded installer file and follow the instructions to install Python on your Windows machine.\n",
    "During the installation, make sure to select the option to add Python to your system path so that you can access it from the command prompt or terminal.\n",
    "Once the installation is complete, you can open the command prompt or terminal and type \"python\" to check if Python is installed correctly and to see the version number."
   ]
  },
  {
   "cell_type": "code",
   "execution_count": null,
   "id": "42dcfe28-0861-4733-9fba-77e7a6b3f0f9",
   "metadata": {},
   "outputs": [],
   "source": [
    "16) To indicate a block of code in Python, you must indent each line of the block by the same whitespace. "
   ]
  }
 ],
 "metadata": {
  "kernelspec": {
   "display_name": "Python 3 (ipykernel)",
   "language": "python",
   "name": "python3"
  },
  "language_info": {
   "codemirror_mode": {
    "name": "ipython",
    "version": 3
   },
   "file_extension": ".py",
   "mimetype": "text/x-python",
   "name": "python",
   "nbconvert_exporter": "python",
   "pygments_lexer": "ipython3",
   "version": "3.10.8"
  }
 },
 "nbformat": 4,
 "nbformat_minor": 5
}
