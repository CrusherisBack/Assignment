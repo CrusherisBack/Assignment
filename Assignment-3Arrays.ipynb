{
 "cells": [
  {
   "cell_type": "code",
   "execution_count": 2,
   "id": "960cce58-9950-438b-914d-6536723d6064",
   "metadata": {},
   "outputs": [
    {
     "name": "stdout",
     "output_type": "stream",
     "text": [
      "Closest sum: 2\n"
     ]
    }
   ],
   "source": [
    "## Answer 1)\n",
    "def threeSumClosest(nums, target):\n",
    "    nums.sort()  \n",
    "    n = len(nums)\n",
    "    closestSum = float('inf') \n",
    "\n",
    "    for i in range(n - 2):\n",
    "        left = i + 1\n",
    "        right = n - 1\n",
    "\n",
    "        while left < right:\n",
    "            currentSum = nums[i] + nums[left] + nums[right]\n",
    "\n",
    "            if currentSum == target:\n",
    "                return target\n",
    "\n",
    "            if abs(currentSum - target) < abs(closestSum - target):\n",
    "                closestSum = currentSum\n",
    "\n",
    "            if currentSum < target:\n",
    "                left += 1\n",
    "            else:\n",
    "                right -= 1\n",
    "\n",
    "    return closestSum\n",
    "\n",
    "nums = [-1, 2, 1, -4]\n",
    "target = 1\n",
    "\n",
    "closest_sum = threeSumClosest(nums, target)\n",
    "print(\"Closest sum:\", closest_sum)"
   ]
  },
  {
   "cell_type": "code",
   "execution_count": 4,
   "id": "25f4cbe4-e872-464c-8c89-2f824c43baad",
   "metadata": {},
   "outputs": [
    {
     "name": "stdout",
     "output_type": "stream",
     "text": [
      "Unique Quadruplets:\n",
      "[-2, -1, 1, 2]\n",
      "[-2, 0, 0, 2]\n",
      "[-1, 0, 0, 1]\n"
     ]
    }
   ],
   "source": [
    "## Answer 2)\n",
    "def fourSum(nums, target):\n",
    "    nums.sort() \n",
    "    n = len(nums)\n",
    "    result = []\n",
    "\n",
    "    for i in range(n - 3):\n",
    "        if i > 0 and nums[i] == nums[i - 1]:\n",
    "            continue\n",
    "\n",
    "        for j in range(i + 1, n - 2):\n",
    "            if j > i + 1 and nums[j] == nums[j - 1]:\n",
    "                continue\n",
    "\n",
    "            left = j + 1\n",
    "            right = n - 1\n",
    "\n",
    "            while left < right:\n",
    "                currentSum = nums[i] + nums[j] + nums[left] + nums[right]\n",
    "\n",
    "                if currentSum == target:\n",
    "                    result.append([nums[i], nums[j], nums[left], nums[right]])\n",
    "\n",
    "                    while left < right and nums[left] == nums[left + 1]:\n",
    "                        left += 1\n",
    "                    while left < right and nums[right] == nums[right - 1]:\n",
    "                        right -= 1\n",
    "\n",
    "                    left += 1\n",
    "                    right -= 1\n",
    "                elif currentSum < target:\n",
    "                    left += 1\n",
    "                else:\n",
    "                    right -= 1\n",
    "\n",
    "    return result\n",
    "\n",
    "nums = [1, 0, -1, 0, -2, 2]\n",
    "target = 0\n",
    "\n",
    "quadruplets = fourSum(nums, target)\n",
    "print(\"Unique Quadruplets:\")\n",
    "for quad in quadruplets:\n",
    "    print(quad)"
   ]
  },
  {
   "cell_type": "code",
   "execution_count": 7,
   "id": "639ceeb7-b73f-4c25-bff2-9b0a14298607",
   "metadata": {},
   "outputs": [
    {
     "name": "stdout",
     "output_type": "stream",
     "text": [
      "[1, 3, 2]\n"
     ]
    }
   ],
   "source": [
    "## Answer 3)\n",
    "\n",
    "def nextPermutation(nums):\n",
    "    # Find the first index i from the right where nums[i] < nums[i + 1]\n",
    "    i = len(nums) - 2\n",
    "    while i >= 0 and nums[i] >= nums[i + 1]:\n",
    "        i -= 1\n",
    "\n",
    "    # If no such index is found, it means the array is in descending order,\n",
    "    # so just reverse the whole array to get the lowest possible order\n",
    "    if i == -1:\n",
    "        nums.reverse()\n",
    "        return\n",
    "\n",
    "    # Find the smallest element to the right of index i that is greater than nums[i]\n",
    "    j = len(nums) - 1\n",
    "    while nums[j] <= nums[i]:\n",
    "        j -= 1\n",
    "\n",
    "    # Swap the elements at index i and j\n",
    "    nums[i], nums[j] = nums[j], nums[i]\n",
    "\n",
    "    # Reverse the elements to the right of index i to get the next permutation\n",
    "    left, right = i + 1, len(nums) - 1\n",
    "    while left < right:\n",
    "        nums[left], nums[right] = nums[right], nums[left]\n",
    "        left += 1\n",
    "        right -= 1\n",
    "\n",
    "nums = [1, 2, 3]\n",
    "nextPermutation(nums)\n",
    "print(nums) "
   ]
  },
  {
   "cell_type": "code",
   "execution_count": 8,
   "id": "3f05b40a-9295-45d9-9443-0269b1fe24f6",
   "metadata": {},
   "outputs": [
    {
     "name": "stdout",
     "output_type": "stream",
     "text": [
      "Index: 2\n"
     ]
    }
   ],
   "source": [
    "## Answer 4)\n",
    "\n",
    "def searchInsert(nums, target):\n",
    "    left = 0\n",
    "    right = len(nums) - 1\n",
    "\n",
    "    while left <= right:\n",
    "        mid = left + (right - left) // 2\n",
    "\n",
    "        if nums[mid] == target:\n",
    "            return mid\n",
    "        elif nums[mid] < target:\n",
    "            left = mid + 1\n",
    "        else:\n",
    "            right = mid - 1\n",
    "\n",
    "    return left\n",
    "\n",
    "# Example usage\n",
    "nums = [1, 3, 5, 6]\n",
    "target = 5\n",
    "\n",
    "index = searchInsert(nums, target)\n",
    "print(\"Index:\", index)"
   ]
  },
  {
   "cell_type": "code",
   "execution_count": 10,
   "id": "be0261d4-a325-41ac-bb79-ef2b4133a59f",
   "metadata": {},
   "outputs": [
    {
     "name": "stdout",
     "output_type": "stream",
     "text": [
      "[1, 2, 4]\n"
     ]
    }
   ],
   "source": [
    "## Answer 5)\n",
    "\n",
    "def plusOne(digits):\n",
    "    carry = 1 \n",
    "    n = len(digits)\n",
    "\n",
    "    for i in range(n - 1, -1, -1):\n",
    "        digits[i] += carry\n",
    "        carry = digits[i] // 10\n",
    "        digits[i] %= 10\n",
    "\n",
    "    if carry:\n",
    "        digits.insert(0, carry)\n",
    "\n",
    "    return digits\n",
    "\n",
    "\n",
    "digits = [1, 2, 3]\n",
    "result = plusOne(digits)\n",
    "print(result)  "
   ]
  },
  {
   "cell_type": "code",
   "execution_count": 12,
   "id": "33dc5bdd-9465-4d82-ba86-d6a5bafbdd30",
   "metadata": {},
   "outputs": [
    {
     "name": "stdout",
     "output_type": "stream",
     "text": [
      "1\n"
     ]
    }
   ],
   "source": [
    "## Answer 6)\n",
    "def singleNumber(nums):\n",
    "    single = 0\n",
    "\n",
    "    for num in nums:\n",
    "        single ^= num\n",
    "\n",
    "    return single\n",
    "\n",
    "# Example usage\n",
    "nums = [2, 2, 1]\n",
    "result = singleNumber(nums)\n",
    "print(result)  "
   ]
  },
  {
   "cell_type": "code",
   "execution_count": null,
   "id": "e0a0390d-1654-4b3f-a429-a7907903e455",
   "metadata": {},
   "outputs": [],
   "source": [
    "## Answer 7)\n",
    "def findMissingRanges(nums, lower, upper):\n",
    "    result = []\n",
    "    start = lower\n",
    "\n",
    "    for num in nums + [upper + 1]:\n",
    "        if num == start:\n",
    "            start += 1\n",
    "        elif num > start:\n",
    "            end = num - 1\n",
    "            if start == end:\n",
    "                result.append(str(start))\n",
    "            else:\n",
    "                result.append(str(start) + \"->\" + str(end))\n",
    "            start = num + 1\n",
    "\n",
    "    return result\n",
    "\n",
    "# Example usage\n",
    "nums = [0, 1, 3, 50, 75]\n",
    "lower = 0\n",
    "upper = 99\n",
    "\n",
    "missingRanges = findMissingRanges(nums, lower, upper)\n",
    "print(missingRanges)  # Output: [\"2\", \"4->49\", \"51->74\", \"76->99\"]\n"
   ]
  }
 ],
 "metadata": {
  "kernelspec": {
   "display_name": "Python 3 (ipykernel)",
   "language": "python",
   "name": "python3"
  },
  "language_info": {
   "codemirror_mode": {
    "name": "ipython",
    "version": 3
   },
   "file_extension": ".py",
   "mimetype": "text/x-python",
   "name": "python",
   "nbconvert_exporter": "python",
   "pygments_lexer": "ipython3",
   "version": "3.10.8"
  }
 },
 "nbformat": 4,
 "nbformat_minor": 5
}
