{
 "cells": [
  {
   "cell_type": "code",
   "execution_count": null,
   "id": "cfa5e162-7b52-4419-a8f0-af8b80cba797",
   "metadata": {},
   "outputs": [],
   "source": [
    "Answer 1)\n",
    "In Python, an exception is an event that occurs during the execution of a program that disrupts the normal flow of the program's instructions. When an exception occurs, the program stops running and an error message is displayed, providing information about the cause of the exception. Exceptions are used to handle errors and unexpected situations in a program, and can be caught and handled using try-except blocks.\n",
    "In Python, exceptions and syntax errors are two different types of errors that can occur in a program.\n",
    "\n",
    "A syntax error occurs when the Python interpreter cannot parse the code because the code violates Python's syntax rules. This means that the code is not written in a way that Python can understand, and the interpreter cannot execute the code. Syntax errors are detected by the interpreter before the code is executed and are typically easy to fix.\n",
    "\n",
    "On the other hand, an exception occurs when the code is syntactically correct, but an error occurs during the execution of the program. Exceptions can be caused by a wide variety of issues, such as trying to access a variable that does not exist, dividing by zero, or trying to perform an operation on incompatible data types. Exceptions can be caught and handled using try-except blocks, allowing the program to recover from the error and continue executing.\n",
    "\n",
    "In summary, syntax errors are errors in the code itself, while exceptions are errors that occur during the execution of the code."
   ]
  },
  {
   "cell_type": "code",
   "execution_count": 1,
   "id": "f94b0333-d734-41aa-af3d-f3b770b32c35",
   "metadata": {},
   "outputs": [
    {
     "name": "stdout",
     "output_type": "stream",
     "text": [
      "Cannot divide by zero\n"
     ]
    }
   ],
   "source": [
    "#Answer 2)\n",
    "#When an exception is not handled in Python, the program will terminate and the exception message and stack trace will be displayed. This can be problematic if the exception occurs in the middle of a larger program, as the program will not be able to complete its execution.\n",
    "try:\n",
    "    result = 10 / 0\n",
    "except ZeroDivisionError:\n",
    "    print(\"Cannot divide by zero\")\n"
   ]
  },
  {
   "cell_type": "code",
   "execution_count": 2,
   "id": "cc3e034a-0165-4a47-a0d2-4d07738008d1",
   "metadata": {},
   "outputs": [
    {
     "name": "stdout",
     "output_type": "stream",
     "text": [
      "Cannot divide by zero\n"
     ]
    }
   ],
   "source": [
    "#Answer 3)\n",
    "# In Python, the try statement is used to catch and handle exceptions.\n",
    "try:\n",
    "    result = 10 / 0\n",
    "except ZeroDivisionError:\n",
    "    print(\"Cannot divide by zero\")\n"
   ]
  },
  {
   "cell_type": "code",
   "execution_count": 3,
   "id": "434cbced-ff7b-44a0-b891-6460cd0a8a8a",
   "metadata": {},
   "outputs": [
    {
     "name": "stdin",
     "output_type": "stream",
     "text": [
      "Enter a number:  4\n",
      "Enter another number:  2\n"
     ]
    },
    {
     "name": "stdout",
     "output_type": "stream",
     "text": [
      "The result of dividing 4 by 2 is 2.0\n"
     ]
    }
   ],
   "source": [
    "# Answer 4)\n",
    "# a) Try and else\n",
    "try:\n",
    "    x = int(input(\"Enter a number: \"))\n",
    "    y = int(input(\"Enter another number: \"))\n",
    "    result = x / y\n",
    "except ZeroDivisionError:\n",
    "    print(\"Cannot divide by zero\")\n",
    "else:\n",
    "    print(\"The result of dividing {} by {} is {}\".format(x, y, result))\n"
   ]
  },
  {
   "cell_type": "code",
   "execution_count": 5,
   "id": "9b8c6b3b-1e5a-49c6-9990-6e3abf46face",
   "metadata": {},
   "outputs": [
    {
     "name": "stdout",
     "output_type": "stream",
     "text": [
      "The file does not exist\n"
     ]
    }
   ],
   "source": [
    "# b) Finally\n",
    "try:\n",
    "    f = open(\"example1.txt\", \"r\")\n",
    "    contents = f.read()\n",
    "    print(contents)\n",
    "except FileNotFoundError:\n",
    "    print(\"The file does not exist\")\n",
    "finally:\n",
    "    f.close()\n"
   ]
  },
  {
   "cell_type": "code",
   "execution_count": 6,
   "id": "39749393-f97f-48d1-bf6a-3e4379445fc1",
   "metadata": {},
   "outputs": [
    {
     "name": "stdin",
     "output_type": "stream",
     "text": [
      "Enter your age:  100\n"
     ]
    },
    {
     "name": "stdout",
     "output_type": "stream",
     "text": [
      "Valid age\n"
     ]
    }
   ],
   "source": [
    "# c) Raise\n",
    "def validate_age(age):\n",
    "    if age < 0 or age > 120:\n",
    "        raise ValueError(\"Invalid age\")\n",
    "    else:\n",
    "        print(\"Valid age\")\n",
    "\n",
    "age = int(input(\"Enter your age: \"))\n",
    "validate_age(age)\n"
   ]
  },
  {
   "cell_type": "code",
   "execution_count": null,
   "id": "3d67b8cc-f3c0-4478-baa2-a6eecdd97ec0",
   "metadata": {},
   "outputs": [],
   "source": [
    "Answer 5)\n",
    "In Python, custom exceptions are user-defined exceptions that are derived from the base Exception class or one of its subclasses. Custom exceptions can be defined to provide more specific information about errors that occur in a program and to make it easier to handle those errors.\n",
    "\n",
    "We need custom exceptions to add more context to the exceptions that are raised in our program, and to make it easier to handle them in a consistent and predictable way. Custom exceptions can be used to identify specific types of errors that occur in a program, and to provide more informative error messages that can help with debugging and troubleshooting."
   ]
  },
  {
   "cell_type": "code",
   "execution_count": 7,
   "id": "5064f4f3-23e1-473a-9917-eed644057a32",
   "metadata": {},
   "outputs": [
    {
     "name": "stdin",
     "output_type": "stream",
     "text": [
      "Enter your age:  101\n"
     ]
    },
    {
     "name": "stdout",
     "output_type": "stream",
     "text": [
      "Valid age\n"
     ]
    }
   ],
   "source": [
    "class InvalidAgeError(Exception):\n",
    "    def __init__(self, age):\n",
    "        self.age = age\n",
    "        self.message = \"Invalid age: {}\".format(age)\n",
    "        super().__init__(self.message)\n",
    "\n",
    "def validate_age(age):\n",
    "    if age < 0 or age > 120:\n",
    "        raise InvalidAgeError(age)\n",
    "    else:\n",
    "        print(\"Valid age\")\n",
    "\n",
    "age = int(input(\"Enter your age: \"))\n",
    "try:\n",
    "    validate_age(age)\n",
    "except InvalidAgeError as e:\n",
    "    print(e.message)\n"
   ]
  },
  {
   "cell_type": "code",
   "execution_count": 8,
   "id": "b728b628-1fb0-42fe-a096-5076a1a12326",
   "metadata": {},
   "outputs": [
    {
     "name": "stdin",
     "output_type": "stream",
     "text": [
      "Enter your username:  abcd\n",
      "Enter your password:  1234\n"
     ]
    },
    {
     "name": "stdout",
     "output_type": "stream",
     "text": [
      "Login successful\n"
     ]
    }
   ],
   "source": [
    "# Answer 6)\n",
    "class InvalidPasswordException(Exception):\n",
    "    def __init__(self, message):\n",
    "        self.message = message\n",
    "        super().__init__(self.message)\n",
    "\n",
    "def login(username, password):\n",
    "    if password == \"\":\n",
    "        raise InvalidPasswordException(\"Password cannot be empty\")\n",
    "    else:\n",
    "        print(\"Login successful\")\n",
    "\n",
    "try:\n",
    "    username = input(\"Enter your username: \")\n",
    "    password = input(\"Enter your password: \")\n",
    "    login(username, password)\n",
    "except InvalidPasswordException as e:\n",
    "    print(e.message)\n"
   ]
  },
  {
   "cell_type": "code",
   "execution_count": null,
   "id": "06e3d74f-31ca-4eb2-b010-db225dd465ff",
   "metadata": {},
   "outputs": [],
   "source": []
  }
 ],
 "metadata": {
  "kernelspec": {
   "display_name": "Python 3 (ipykernel)",
   "language": "python",
   "name": "python3"
  },
  "language_info": {
   "codemirror_mode": {
    "name": "ipython",
    "version": 3
   },
   "file_extension": ".py",
   "mimetype": "text/x-python",
   "name": "python",
   "nbconvert_exporter": "python",
   "pygments_lexer": "ipython3",
   "version": "3.10.8"
  }
 },
 "nbformat": 4,
 "nbformat_minor": 5
}
