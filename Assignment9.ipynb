{
 "cells": [
  {
   "cell_type": "code",
   "execution_count": 1,
   "id": "b41ec554-ecb3-440d-b55a-de4d21faf2c6",
   "metadata": {},
   "outputs": [
    {
     "name": "stdout",
     "output_type": "stream",
     "text": [
      "The car is moving\n",
      "The car is speeding up\n",
      "The car is slowing down\n"
     ]
    }
   ],
   "source": [
    "# Answer 1)\n",
    "# Abstraction in Object-Oriented Programming (OOP) is a way of representing complex real-world objects by focusing on their essential characteristics and ignoring irrelevant details. Abstraction allows us to create abstract classes and interfaces that provide a blueprint for creating concrete classes.\n",
    "from abc import ABC, abstractmethod\n",
    "\n",
    "class Vehicle(ABC):\n",
    "    @abstractmethod\n",
    "    def move(self):\n",
    "        pass\n",
    "\n",
    "    @abstractmethod\n",
    "    def speed_up(self):\n",
    "        pass\n",
    "\n",
    "    @abstractmethod\n",
    "    def slow_down(self):\n",
    "        pass\n",
    "\n",
    "class Car(Vehicle):\n",
    "    def move(self):\n",
    "        print(\"The car is moving\")\n",
    "\n",
    "    def speed_up(self):\n",
    "        print(\"The car is speeding up\")\n",
    "\n",
    "    def slow_down(self):\n",
    "        print(\"The car is slowing down\")\n",
    "\n",
    "if __name__ == \"__main__\":\n",
    "    my_car = Car()\n",
    "    my_car.move()\n",
    "    my_car.speed_up()\n",
    "    my_car.slow_down()\n"
   ]
  },
  {
   "cell_type": "code",
   "execution_count": null,
   "id": "e031e7a2-5a28-46fb-91a8-ec209a1ce71f",
   "metadata": {},
   "outputs": [],
   "source": [
    "# Answer 2)\n",
    "#Abstraction and Encapsulation are two important concepts in Object-Oriented Programming (OOP). While they share some similarities, they serve different purposes and can be used together to create robust and maintainable code.\n",
    "\n",
    "#Abstraction is a way of representing complex real-world objects by focusing on their essential characteristics and ignoring irrelevant details. It is achieved by defining abstract classes and interfaces that provide a blueprint for creating concrete classes. Abstraction allows us to create simplified and manageable code that is easy to understand and maintain.\n",
    "\n",
    "#Encapsulation, on the other hand, is a way of hiding the implementation details of an object from the outside world and only exposing a public interface for interacting with the object. Encapsulation ensures that the internal state of an object cannot be accessed or modified directly, but only through a set of predefined methods. This helps to improve security, modularity, and maintainability of the code.\n"
   ]
  },
  {
   "cell_type": "code",
   "execution_count": 2,
   "id": "9627c9fb-1e80-413a-b80d-0ec2f209c16b",
   "metadata": {},
   "outputs": [
    {
     "name": "stdout",
     "output_type": "stream",
     "text": [
      "The dog is walking\n",
      "The bird is flying\n"
     ]
    }
   ],
   "source": [
    "# Abstraction Example\n",
    "from abc import ABC, abstractmethod\n",
    "\n",
    "class Animal(ABC):\n",
    "    @abstractmethod\n",
    "    def move(self):\n",
    "        pass\n",
    "\n",
    "class Dog(Animal):\n",
    "    def move(self):\n",
    "        print(\"The dog is walking\")\n",
    "\n",
    "class Bird(Animal):\n",
    "    def move(self):\n",
    "        print(\"The bird is flying\")\n",
    "\n",
    "if __name__ == \"__main__\":\n",
    "    my_dog = Dog()\n",
    "    my_dog.move()\n",
    "\n",
    "    my_bird = Bird()\n",
    "    my_bird.move()\n"
   ]
  },
  {
   "cell_type": "code",
   "execution_count": 3,
   "id": "8620800a-5e48-4be7-ab4b-8bcce8c4163f",
   "metadata": {},
   "outputs": [
    {
     "name": "stdout",
     "output_type": "stream",
     "text": [
      "Current balance: 1500\n",
      "Insufficient balance\n",
      "Current balance: 1500\n",
      "Current balance: 1000\n"
     ]
    }
   ],
   "source": [
    "# Encapsulation\n",
    "class BankAccount:\n",
    "    def __init__(self, balance):\n",
    "        self.__balance = balance\n",
    "\n",
    "    def deposit(self, amount):\n",
    "        self.__balance += amount\n",
    "\n",
    "    def withdraw(self, amount):\n",
    "        if amount <= self.__balance:\n",
    "            self.__balance -= amount\n",
    "        else:\n",
    "            print(\"Insufficient balance\")\n",
    "\n",
    "    def get_balance(self):\n",
    "        return self.__balance\n",
    "\n",
    "if __name__ == \"__main__\":\n",
    "    my_account = BankAccount(1000)\n",
    "    my_account.deposit(500)\n",
    "    print(\"Current balance:\", my_account.get_balance())\n",
    "\n",
    "    my_account.withdraw(2000)\n",
    "    print(\"Current balance:\", my_account.get_balance())\n",
    "\n",
    "    my_account.withdraw(500)\n",
    "    print(\"Current balance:\", my_account.get_balance())\n"
   ]
  },
  {
   "cell_type": "code",
   "execution_count": null,
   "id": "f8d1ca84-9ee4-42e7-a07b-ba2a961aa234",
   "metadata": {},
   "outputs": [],
   "source": [
    "# Answer 3)\n",
    "# The abc module in Python stands for \"Abstract Base Classes\". It provides a way to define abstract classes that enforce a set of rules or methods that must be implemented by its derived classes. An abstract class cannot be instantiated, but it can serve as a blueprint for other classes."
   ]
  },
  {
   "cell_type": "code",
   "execution_count": null,
   "id": "ea1e4dce-676d-4aff-abb8-8efe165a42ef",
   "metadata": {},
   "outputs": [],
   "source": [
    "# Answer 4)\n",
    "# In object-oriented programming, data abstraction is achieved through the use of abstract classes and interfaces."
   ]
  },
  {
   "cell_type": "code",
   "execution_count": 5,
   "id": "3373d4b8-4cc7-4728-b4fa-6adbe5351544",
   "metadata": {},
   "outputs": [
    {
     "ename": "TypeError",
     "evalue": "Can't instantiate abstract class Shape with abstract method area",
     "output_type": "error",
     "traceback": [
      "\u001b[0;31m---------------------------------------------------------------------------\u001b[0m",
      "\u001b[0;31mTypeError\u001b[0m                                 Traceback (most recent call last)",
      "Cell \u001b[0;32mIn[5], line 18\u001b[0m\n\u001b[1;32m     15\u001b[0m     \u001b[38;5;28;01mdef\u001b[39;00m \u001b[38;5;21marea\u001b[39m(\u001b[38;5;28mself\u001b[39m):\n\u001b[1;32m     16\u001b[0m         \u001b[38;5;28;01mreturn\u001b[39;00m \u001b[38;5;28mself\u001b[39m\u001b[38;5;241m.\u001b[39mwidth \u001b[38;5;241m*\u001b[39m \u001b[38;5;28mself\u001b[39m\u001b[38;5;241m.\u001b[39mheight\n\u001b[0;32m---> 18\u001b[0m my_shape \u001b[38;5;241m=\u001b[39m \u001b[43mShape\u001b[49m\u001b[43m(\u001b[49m\u001b[43m)\u001b[49m  \u001b[38;5;66;03m# This will raise a TypeError\u001b[39;00m\n",
      "\u001b[0;31mTypeError\u001b[0m: Can't instantiate abstract class Shape with abstract method area"
     ]
    }
   ],
   "source": [
    "# Answer 5)\n",
    "# No, we cannot create an instance of an abstract class in Python. An abstract class is a class that is intended to be used as a base class for other classes. It is designed to be subclassed, and it cannot be instantiated on its own.\n",
    "from abc import ABC, abstractmethod\n",
    "\n",
    "class Shape(ABC):\n",
    "    @abstractmethod\n",
    "    def area(self):\n",
    "        pass\n",
    "\n",
    "class Rectangle(Shape):\n",
    "    def __init__(self, width, height):\n",
    "        self.width = width\n",
    "        self.height = height\n",
    "\n",
    "    def area(self):\n",
    "        return self.width * self.height\n",
    "\n",
    "my_shape = Shape()  # This will raise a TypeError\n"
   ]
  },
  {
   "cell_type": "code",
   "execution_count": null,
   "id": "ba016a90-6aa5-482f-8399-641361115ab9",
   "metadata": {},
   "outputs": [],
   "source": []
  }
 ],
 "metadata": {
  "kernelspec": {
   "display_name": "Python 3 (ipykernel)",
   "language": "python",
   "name": "python3"
  },
  "language_info": {
   "codemirror_mode": {
    "name": "ipython",
    "version": 3
   },
   "file_extension": ".py",
   "mimetype": "text/x-python",
   "name": "python",
   "nbconvert_exporter": "python",
   "pygments_lexer": "ipython3",
   "version": "3.10.8"
  }
 },
 "nbformat": 4,
 "nbformat_minor": 5
}
