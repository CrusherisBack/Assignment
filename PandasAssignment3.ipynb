{
 "cells": [
  {
   "cell_type": "code",
   "execution_count": 1,
   "id": "dc06aadb-1340-4800-851d-f5fe02faf4fb",
   "metadata": {},
   "outputs": [
    {
     "name": "stdout",
     "output_type": "stream",
     "text": [
      "course_name    Machine Learning\n",
      "duration                      3\n",
      "Name: 1, dtype: object\n"
     ]
    }
   ],
   "source": [
    "## Answer 1) \n",
    "import pandas as pd\n",
    "\n",
    "course_name = ['Data Science', 'Machine Learning', 'Big Data', 'Data Engineer']\n",
    "duration = [2, 3, 6, 4]\n",
    "\n",
    "df = pd.DataFrame(data={'course_name': course_name, 'duration': duration})\n",
    "\n",
    "# Printing the data in the second row\n",
    "second_row = df.iloc[1]\n",
    "print(second_row)"
   ]
  },
  {
   "cell_type": "markdown",
   "id": "717b167b-333e-4986-8162-e07173c3e319",
   "metadata": {},
   "source": [
    "## Answer 2)\n",
    "In pandas, the loc and iloc functions are used to access data within a DataFrame, but they have different ways of referencing data based on the index labels or integer-based positions, respectively.\n",
    "\n",
    "Here's a breakdown of the differences between loc and iloc in pandas.DataFrame:\n",
    "\n",
    "loc: The loc function is used to access data in a DataFrame based on label-based indexing. It accepts a label or a list of labels as input to locate rows and columns. The syntax for loc is df.loc[row_label, column_label]. The labels can be actual index labels or boolean arrays that select specific rows or columns based on conditions.\n",
    "\n",
    "iloc: The iloc function is used for integer-based indexing in a DataFrame. It accepts integer-based positions to locate rows and columns. The syntax for iloc is df.iloc[row_position, column_position]. The positions start from 0 and go up to the length of the DataFrame minus one. It uses integer-based indexing regardless of the actual index labels or column names."
   ]
  },
  {
   "cell_type": "code",
   "execution_count": 2,
   "id": "77871f86-ae39-4b12-9ce2-1aaed94e59b1",
   "metadata": {},
   "outputs": [
    {
     "name": "stdout",
     "output_type": "stream",
     "text": [
      "Output for new_df.loc[2]:\n",
      "course_name    Big Data\n",
      "duration              6\n",
      "Name: 2, dtype: object\n",
      "\n",
      "Output for new_df.iloc[2]:\n",
      "course_name    Machine Learning\n",
      "duration                      3\n",
      "Name: 1, dtype: object\n"
     ]
    }
   ],
   "source": [
    "## Answer 3)\n",
    "\n",
    "import pandas as pd\n",
    "\n",
    "course_name = ['Data Science', 'Machine Learning', 'Big Data', 'Data Engineer']\n",
    "duration = [2, 3, 6, 4]\n",
    "\n",
    "df = pd.DataFrame(data={'course_name': course_name, 'duration': duration})\n",
    "\n",
    "reindex = [3, 0, 1, 2]\n",
    "new_df = df.reindex(reindex)\n",
    "\n",
    "print(\"Output for new_df.loc[2]:\")\n",
    "print(new_df.loc[2])\n",
    "\n",
    "print(\"\\nOutput for new_df.iloc[2]:\")\n",
    "print(new_df.iloc[2])"
   ]
  },
  {
   "cell_type": "code",
   "execution_count": 3,
   "id": "f2a9a235-58cf-47a7-aae2-27e02e05d5f1",
   "metadata": {},
   "outputs": [
    {
     "name": "stdout",
     "output_type": "stream",
     "text": [
      "Mean of each column:\n",
      "column_1    0.415334\n",
      "column_2    0.583844\n",
      "column_3    0.509854\n",
      "column_4    0.639689\n",
      "column_5    0.642859\n",
      "column_6    0.463354\n",
      "dtype: float64\n",
      "\n",
      "Standard deviation of column 'column_2':\n",
      "0.17803726644720755\n"
     ]
    }
   ],
   "source": [
    "## Answer 4) \n",
    "import pandas as pd\n",
    "import numpy as np\n",
    "\n",
    "columns = ['column_1', 'column_2', 'column_3', 'column_4', 'column_5', 'column_6']\n",
    "indices = [1, 2, 3, 4, 5, 6]\n",
    "\n",
    "# Creating the DataFrame\n",
    "df1 = pd.DataFrame(np.random.rand(6, 6), columns=columns, index=indices)\n",
    "\n",
    "# (i) Mean of each column\n",
    "column_means = df1.mean()\n",
    "print(\"Mean of each column:\")\n",
    "print(column_means)\n",
    "\n",
    "# (ii) Standard deviation of column 'column_2'\n",
    "column_2_std = df1['column_2'].std()\n",
    "print(\"\\nStandard deviation of column 'column_2':\")\n",
    "print(column_2_std)"
   ]
  },
  {
   "cell_type": "code",
   "execution_count": null,
   "id": "7d3dca95-fbd3-4c47-aeac-d957f0234495",
   "metadata": {},
   "outputs": [],
   "source": [
    "## Answer 5)\n",
    "import pandas as pd\n",
    "import numpy as np\n",
    "\n",
    "columns = ['column_1', 'column_2', 'column_3', 'column_4', 'column_5', 'column_6']\n",
    "indices = [1, 2, 3, 4, 5, 6]\n",
    "\n",
    "# Creating the DataFrame\n",
    "df1 = pd.DataFrame(np.random.rand(6, 6), columns=columns, index=indices)\n",
    "\n",
    "# Replacing data in the second row of 'column_2' with a string variable\n",
    "df1.loc[2, 'column_2'] = 'string_data'\n",
    "\n",
    "# Finding the mean of 'column_2'\n",
    "column_2_mean = df1['column_2'].mean()\n",
    "print(\"Mean of column 'column_2':\")\n",
    "print(column_2_mean)"
   ]
  },
  {
   "cell_type": "markdown",
   "id": "bb54fabe-c80b-4d7e-831f-08131745a76b",
   "metadata": {},
   "source": [
    "## Answer 6)\n",
    "In pandas, window functions allow you to perform calculations over a specified window or subset of data. These functions operate on a sliding or rolling window, which moves through the data frame or series to compute aggregate or transformation operations.\n",
    "\n",
    "Window functions are commonly used for tasks such as calculating moving averages, cumulative sums, rank-based operations, and more. They provide flexibility in analyzing data over different periods or subsets.\n",
    "\n",
    "Here are some common types of window functions available in pandas:\n",
    "\n",
    "1. Rolling Windows:\n",
    "   - Rolling Mean: `rolling().mean()`\n",
    "   - Rolling Sum: `rolling().sum()`\n",
    "   - Rolling Standard Deviation: `rolling().std()`\n",
    "   - Rolling Min and Max: `rolling().min()`, `rolling().max()`\n",
    "   - Rolling Apply: `rolling().apply()`\n",
    "\n",
    "2. Expanding Windows:\n",
    "   - Expanding Mean: `expanding().mean()`\n",
    "   - Expanding Sum: `expanding().sum()`\n",
    "   - Expanding Standard Deviation: `expanding().std()`\n",
    "   - Expanding Min and Max: `expanding().min()`, `expanding().max()`\n",
    "   - Expanding Apply: `expanding().apply()`\n",
    "\n",
    "3. Window Functions with GroupBy:\n",
    "   - Rolling GroupBy: `groupby().rolling()`\n",
    "   - Expanding GroupBy: `groupby().expanding()`\n",
    "\n",
    "4. Window Functions with Time-based Index:\n",
    "   - Time-based Rolling: `rolling(window='time_period').mean()`\n",
    "   - Time-based Expanding: `expanding(min_periods=1).mean()`"
   ]
  },
  {
   "cell_type": "code",
   "execution_count": 5,
   "id": "47a3d19e-95d1-4597-8d3b-89a7e32caadb",
   "metadata": {},
   "outputs": [
    {
     "name": "stdout",
     "output_type": "stream",
     "text": [
      "Current Month: 7\n",
      "Current Year: 2023\n"
     ]
    }
   ],
   "source": [
    "## Answer 7)\n",
    "import pandas as pd\n",
    "from datetime import datetime\n",
    "\n",
    "# Get the current date and time\n",
    "current_date = datetime.now()\n",
    "\n",
    "# Extract the month and year from the current date\n",
    "current_month = current_date.month\n",
    "current_year = current_date.year\n",
    "\n",
    "# Print the current month and year\n",
    "print(\"Current Month:\", current_month)\n",
    "print(\"Current Year:\", current_year)"
   ]
  },
  {
   "cell_type": "code",
   "execution_count": null,
   "id": "1635b13b-8026-4c79-997a-f5d55215605a",
   "metadata": {},
   "outputs": [],
   "source": [
    "## Answer 8)\n",
    "import pandas as pd\n",
    "\n",
    "# Prompt the user to enter the dates\n",
    "date1 = input(\"Enter the first date (YYYY-MM-DD): \")\n",
    "date2 = input(\"Enter the second date (YYYY-MM-DD): \")\n",
    "\n",
    "# Calculate the difference between the dates using Timedelta\n",
    "time_diff = pd.Timedelta(date2) - pd.Timedelta(date1)\n",
    "\n",
    "# Extract the days, hours, and minutes from the time difference\n",
    "days = time_diff.days\n",
    "hours = time_diff.seconds // 3600\n",
    "minutes = (time_diff.seconds // 60) % 60\n",
    "\n",
    "# Display the result\n",
    "print(\"Time difference:\")\n",
    "print(\"Days:\", days)\n",
    "print(\"Hours:\", hours)\n",
    "print(\"Minutes:\", minutes)"
   ]
  },
  {
   "cell_type": "code",
   "execution_count": null,
   "id": "aeb57012-9a36-4a93-9dc9-0d9a22e023a6",
   "metadata": {},
   "outputs": [],
   "source": [
    "## Answer 9)\n",
    "import pandas as pd\n",
    "\n",
    "# Prompt the user to enter the file path\n",
    "file_path = input(\"Enter the CSV file path: \")\n",
    "\n",
    "# Read the CSV file\n",
    "df = pd.read_csv(file_path)\n",
    "\n",
    "# Prompt the user to enter the column name\n",
    "column_name = input(\"Enter the column name: \")\n",
    "\n",
    "# Prompt the user to enter the category order\n",
    "category_order = input(\"Enter the category order (comma-separated values): \").split(\",\")\n",
    "\n",
    "# Convert the specified column to categorical data type\n",
    "df[column_name] = pd.Categorical(df[column_name], categories=category_order, ordered=True)\n",
    "\n",
    "# Sort the data based on the specified column\n",
    "sorted_df = df.sort_values(by=column_name)\n",
    "\n",
    "# Display the sorted data\n",
    "print(sorted_df)"
   ]
  },
  {
   "cell_type": "code",
   "execution_count": null,
   "id": "e6fd2444-4586-439e-8617-9e5d7cb4478f",
   "metadata": {},
   "outputs": [],
   "source": [
    "## Answer 10)\n",
    "import pandas as pd\n",
    "import matplotlib.pyplot as plt\n",
    "\n",
    "# Prompt the user to enter the file path\n",
    "file_path = input(\"Enter the CSV file path: \")\n",
    "\n",
    "# Read the CSV file\n",
    "df = pd.read_csv(file_path)\n",
    "\n",
    "# Convert the 'Date' column to datetime\n",
    "df['Date'] = pd.to_datetime(df['Date'])\n",
    "\n",
    "# Group the data by 'Date' and 'Category' and calculate the sum of sales\n",
    "grouped_df = df.groupby(['Date', 'Category'])['Sales'].sum().unstack()\n",
    "\n",
    "# Plot the stacked bar chart\n",
    "grouped_df.plot(kind='bar', stacked=True, figsize=(10, 6))\n",
    "\n",
    "# Customize the chart\n",
    "plt.title('Sales of Each Product Category Over Time')\n",
    "plt.xlabel('Date')\n",
    "plt.ylabel('Sales')\n",
    "plt.legend(loc='upper left')\n",
    "\n",
    "# Display the chart\n",
    "plt.show()"
   ]
  },
  {
   "cell_type": "code",
   "execution_count": null,
   "id": "a63f0992-f98f-4dfc-9436-326e2a7ef574",
   "metadata": {},
   "outputs": [],
   "source": [
    "## Answer 11)\n",
    "import pandas as pd\n",
    "from tabulate import tabulate\n",
    "\n",
    "# Prompt the user to enter the file path\n",
    "file_path = input(\"Enter the file path of the CSV file containing the student data: \")\n",
    "\n",
    "# Read the CSV file into a DataFrame\n",
    "df = pd.read_csv(file_path)\n",
    "\n",
    "# Calculate the mean, median, and mode of the test scores\n",
    "mean_score = df['Test Score'].mean()\n",
    "median_score = df['Test Score'].median()\n",
    "mode_scores = df['Test Score'].mode().tolist()\n",
    "\n",
    "# Create a table with the results\n",
    "table = [\n",
    "    ['Statistic', 'Value'],\n",
    "    ['Mean', mean_score],\n",
    "    ['Median', median_score],\n",
    "    ['Mode', ', '.join(str(score) for score in mode_scores)]\n",
    "]\n",
    "\n",
    "# Display the table\n",
    "print(tabulate(table, headers='firstrow', tablefmt='grid'))"
   ]
  },
  {
   "cell_type": "code",
   "execution_count": null,
   "id": "1bc42a05-08b2-45e6-8b4b-9b7b5a52c863",
   "metadata": {},
   "outputs": [],
   "source": []
  }
 ],
 "metadata": {
  "kernelspec": {
   "display_name": "Python 3 (ipykernel)",
   "language": "python",
   "name": "python3"
  },
  "language_info": {
   "codemirror_mode": {
    "name": "ipython",
    "version": 3
   },
   "file_extension": ".py",
   "mimetype": "text/x-python",
   "name": "python",
   "nbconvert_exporter": "python",
   "pygments_lexer": "ipython3",
   "version": "3.10.8"
  }
 },
 "nbformat": 4,
 "nbformat_minor": 5
}
