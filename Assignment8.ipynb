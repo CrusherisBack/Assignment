{
 "cells": [
  {
   "cell_type": "code",
   "execution_count": 10,
   "id": "9c71b467-07ca-48a2-8792-d00852e3c910",
   "metadata": {},
   "outputs": [
    {
     "name": "stdin",
     "output_type": "stream",
     "text": [
      "Enter the password 123aeoq\n"
     ]
    },
    {
     "name": "stdout",
     "output_type": "stream",
     "text": [
      "Invalid Password\n"
     ]
    }
   ],
   "source": [
    "#answer 1)\n",
    "import re\n",
    "password = input(\"Enter the password\")\n",
    "\n",
    "def check_password(password):\n",
    "    if len(password) != 10:\n",
    "        return \"Invalid Password\"\n",
    "    \n",
    "    uppercase_letters = re.findall(r'[A-Z]', password)\n",
    "    if len(uppercase_letters) < 2:\n",
    "        return \"Invalid Password\"\n",
    "    \n",
    "    lowercase_letters = re.findall(r'[a-z]', password)\n",
    "    if len(lowercase_letters) < 2:\n",
    "        return \"Invalid Password\"\n",
    "    \n",
    "    numbers = re.findall(r'\\d', password)\n",
    "    if len(numbers) < 1:\n",
    "        return \"Invalid Password\"\n",
    "    \n",
    "    special_characters = re.findall(r'[^\\w\\s]', password)\n",
    "    if len(special_characters) < 3:\n",
    "        return \"Invalid Password\"\n",
    "    \n",
    "    return \"Valid Password\"\n",
    "result = check_password(password)\n",
    "print(result)\n"
   ]
  },
  {
   "cell_type": "code",
   "execution_count": 16,
   "id": "a92b30b9-3509-40f5-a904-b7fccbf99afe",
   "metadata": {},
   "outputs": [
    {
     "name": "stdout",
     "output_type": "stream",
     "text": [
      "False\n"
     ]
    }
   ],
   "source": [
    "# Answer 2)\n",
    "# Using lembda function if the string starts with a particular letter\n",
    "starts_with = lambda s, letter: s.startswith(letter)\n",
    "y = \"Hello, World!\"\n",
    "letter = \"y\"\n",
    "result = starts_with(y, letter)\n",
    "print(result)\n"
   ]
  },
  {
   "cell_type": "code",
   "execution_count": 17,
   "id": "1a21c2c8-a935-4971-8490-291ab6fac951",
   "metadata": {},
   "outputs": [
    {
     "name": "stdout",
     "output_type": "stream",
     "text": [
      "True\n"
     ]
    }
   ],
   "source": [
    " # Check if the string is numeric\n",
    "is_numeric = lambda s: s.isnumeric()\n",
    "s = \"12345\"\n",
    "result = is_numeric(s)\n",
    "print(result) \n"
   ]
  },
  {
   "cell_type": "code",
   "execution_count": 18,
   "id": "893866ea-ccd4-461d-ae23-faf7cae81761",
   "metadata": {},
   "outputs": [
    {
     "name": "stdout",
     "output_type": "stream",
     "text": [
      "[('orange', 80), ('mango', 99), ('grapes', 1000)]\n"
     ]
    }
   ],
   "source": [
    "# Sort a list of tuples having fruit names and their quantity. [(\"mango\",99),(\"orange\",80), (\"grapes\", 1000)\n",
    "fruits = [(\"mango\",99),(\"orange\",80), (\"grapes\", 1000)]\n",
    "sort_tuples = lambda lst: sorted(lst, key=lambda x: x[1])\n",
    "result = sort_tuples(fruits)\n",
    "print(result)"
   ]
  },
  {
   "cell_type": "code",
   "execution_count": 20,
   "id": "a7f08c17-5ddc-4709-a6f9-69164f28c1bc",
   "metadata": {},
   "outputs": [
    {
     "name": "stdout",
     "output_type": "stream",
     "text": [
      "[1, 4, 9, 16, 25, 36, 49, 64, 81, 100]\n"
     ]
    }
   ],
   "source": [
    "#Find the squares of numbers from 1 to 10Y \n",
    "squares = lambda n: n*n\n",
    "result = [squares(n) for n in range(1, 11)]\n",
    "print(result) \n"
   ]
  },
  {
   "cell_type": "code",
   "execution_count": 21,
   "id": "c6eab826-1853-4392-a290-f0f8e22f23e0",
   "metadata": {},
   "outputs": [
    {
     "name": "stdout",
     "output_type": "stream",
     "text": [
      "[1.0, 1.2599210498948732, 1.4422495703074083, 1.5874010519681994, 1.7099759466766968, 1.8171205928321397, 1.912931182772389, 2.0, 2.080083823051904, 2.154434690031884]\n"
     ]
    }
   ],
   "source": [
    "# Find the cube root of numbers from 1 to 10\n",
    "import math\n",
    "cube_root = lambda n: math.pow(n, 1/3)\n",
    "result = [cube_root(n) for n in range(1, 11)]\n",
    "print(result) "
   ]
  },
  {
   "cell_type": "code",
   "execution_count": 25,
   "id": "206ad432-693e-48a2-a887-4d01c0a2dbc8",
   "metadata": {},
   "outputs": [
    {
     "name": "stdout",
     "output_type": "stream",
     "text": [
      "True\n"
     ]
    }
   ],
   "source": [
    "# Check if a given number is even\n",
    "even_num = lambda n: n%2==0\n",
    "result = even_num(6)\n",
    "print(result)"
   ]
  },
  {
   "cell_type": "code",
   "execution_count": 26,
   "id": "a6b7e6c1-0855-4187-83c7-65c776a16d4e",
   "metadata": {},
   "outputs": [
    {
     "name": "stdout",
     "output_type": "stream",
     "text": [
      "[1, 3, 5, 7, 9]\n"
     ]
    }
   ],
   "source": [
    " # Filter odd numbers from the given list. [1,2,3,4,5,6,7,8,9,10]\n",
    "lst = [1,2,3,4,5,6,7,8,9,10]\n",
    "filter_odd = lambda lst: list(filter(lambda n: n % 2 != 0, lst))\n",
    "result = filter_odd(lst)\n",
    "print(result) \n",
    "\n"
   ]
  },
  {
   "cell_type": "code",
   "execution_count": 27,
   "id": "9f6253ca-2484-40ea-b705-a5dde4f868fa",
   "metadata": {},
   "outputs": [
    {
     "name": "stdout",
     "output_type": "stream",
     "text": [
      "[1, 2, 3, 4, 5, 6]\n",
      "[-1, -2, -3, -4, -5]\n"
     ]
    }
   ],
   "source": [
    "# Sort a list of integers into positive and negative integers lists. [1,2,3,4,5,6,-1,-2,-3,-4,-5,0] \n",
    "lst = [1,2,3,4,5,6,-1,-2,-3,-4,-5,0]\n",
    "sort_pos_neg = lambda lst: ([n for n in lst if n > 0], [n for n in lst if n < 0])\n",
    "positive, negative = sort_pos_neg(lst)\n",
    "print(positive) # [1, 2, 3, 4, 5, 6]\n",
    "print(negative) # [-1, -2, -3, -4, -5]"
   ]
  },
  {
   "cell_type": "code",
   "execution_count": null,
   "id": "5dc0d3ad-3f69-4bd6-8708-a9b656152335",
   "metadata": {},
   "outputs": [],
   "source": []
  }
 ],
 "metadata": {
  "kernelspec": {
   "display_name": "Python 3 (ipykernel)",
   "language": "python",
   "name": "python3"
  },
  "language_info": {
   "codemirror_mode": {
    "name": "ipython",
    "version": 3
   },
   "file_extension": ".py",
   "mimetype": "text/x-python",
   "name": "python",
   "nbconvert_exporter": "python",
   "pygments_lexer": "ipython3",
   "version": "3.10.8"
  }
 },
 "nbformat": 4,
 "nbformat_minor": 5
}
