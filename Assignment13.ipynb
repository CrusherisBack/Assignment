{
 "cells": [
  {
   "cell_type": "code",
   "execution_count": null,
   "id": "22e405f3-d59c-471c-8498-282b0384d686",
   "metadata": {},
   "outputs": [],
   "source": [
    "Answer 1)\n",
    "We use the Exception class while creating a Custom Exception because it provides a well-defined structure and behavior for an exception. Inheriting from the base Exception class allows the custom exception to have the same functionality as the built-in exceptions, such as the ability to raise, catch, and handle the exception in a consistent way. Additionally, using the Exception class provides useful methods and attributes that can be customized or overridden to fit the specific needs of the custom exception."
   ]
  },
  {
   "cell_type": "code",
   "execution_count": 1,
   "id": "fe84f4b7-7359-4dc4-b320-e11197629ea9",
   "metadata": {},
   "outputs": [
    {
     "name": "stdout",
     "output_type": "stream",
     "text": [
      "<class 'NoneType'>\n"
     ]
    },
    {
     "ename": "AttributeError",
     "evalue": "'NoneType' object has no attribute '__base__'",
     "output_type": "error",
     "traceback": [
      "\u001b[0;31m---------------------------------------------------------------------------\u001b[0m",
      "\u001b[0;31mAttributeError\u001b[0m                            Traceback (most recent call last)",
      "Cell \u001b[0;32mIn[1], line 8\u001b[0m\n\u001b[1;32m      5\u001b[0m     \u001b[38;5;28;01mif\u001b[39;00m ex\u001b[38;5;241m.\u001b[39m__base__ \u001b[38;5;129;01mis\u001b[39;00m \u001b[38;5;129;01mnot\u001b[39;00m \u001b[38;5;28mobject\u001b[39m:\n\u001b[1;32m      6\u001b[0m         print_exception_hierarchy(ex\u001b[38;5;241m.\u001b[39m__base__)\n\u001b[0;32m----> 8\u001b[0m \u001b[43mprint_exception_hierarchy\u001b[49m\u001b[43m(\u001b[49m\u001b[43msys\u001b[49m\u001b[38;5;241;43m.\u001b[39;49m\u001b[43mexc_info\u001b[49m\u001b[43m(\u001b[49m\u001b[43m)\u001b[49m\u001b[43m[\u001b[49m\u001b[38;5;241;43m1\u001b[39;49m\u001b[43m]\u001b[49m\u001b[43m)\u001b[49m\n",
      "Cell \u001b[0;32mIn[1], line 5\u001b[0m, in \u001b[0;36mprint_exception_hierarchy\u001b[0;34m(ex)\u001b[0m\n\u001b[1;32m      3\u001b[0m \u001b[38;5;28;01mdef\u001b[39;00m \u001b[38;5;21mprint_exception_hierarchy\u001b[39m(ex):\n\u001b[1;32m      4\u001b[0m     \u001b[38;5;28mprint\u001b[39m(\u001b[38;5;28mtype\u001b[39m(ex))\n\u001b[0;32m----> 5\u001b[0m     \u001b[38;5;28;01mif\u001b[39;00m \u001b[43mex\u001b[49m\u001b[38;5;241;43m.\u001b[39;49m\u001b[43m__base__\u001b[49m \u001b[38;5;129;01mis\u001b[39;00m \u001b[38;5;129;01mnot\u001b[39;00m \u001b[38;5;28mobject\u001b[39m:\n\u001b[1;32m      6\u001b[0m         print_exception_hierarchy(ex\u001b[38;5;241m.\u001b[39m__base__)\n",
      "\u001b[0;31mAttributeError\u001b[0m: 'NoneType' object has no attribute '__base__'"
     ]
    }
   ],
   "source": [
    "#Answer 2)\n",
    "import sys\n",
    "\n",
    "def print_exception_hierarchy(ex):\n",
    "    print(type(ex))\n",
    "    if ex.__base__ is not object:\n",
    "        print_exception_hierarchy(ex.__base__)\n",
    "\n",
    "print_exception_hierarchy(sys.exc_info()[1])\n"
   ]
  },
  {
   "cell_type": "code",
   "execution_count": 3,
   "id": "d8398392-9486-402b-9d0a-6fecc97b090b",
   "metadata": {},
   "outputs": [
    {
     "name": "stdout",
     "output_type": "stream",
     "text": [
      "Cannot divide by zero\n"
     ]
    }
   ],
   "source": [
    "# Answer 3)\n",
    "# a) zero division error\n",
    "a = 5\n",
    "b = 0\n",
    "try:\n",
    "    c = a / b\n",
    "except ZeroDivisionError as e:\n",
    "    print(\"Cannot divide by zero\")\n"
   ]
  },
  {
   "cell_type": "code",
   "execution_count": 3,
   "id": "23690145-bfa2-431f-8465-ec7caf328e3b",
   "metadata": {},
   "outputs": [],
   "source": [
    "# b)Over flow error\n",
    "import sys\n",
    "\n",
    "a = sys.maxsize\n",
    "b = 2\n",
    "try:\n",
    "    c = a * b\n",
    "except OverflowError:\n",
    "    print(\"Result is too large to be represented\")\n"
   ]
  },
  {
   "cell_type": "code",
   "execution_count": 5,
   "id": "69d37dff-e2ec-4a12-8bd9-65ba6a25c42c",
   "metadata": {},
   "outputs": [
    {
     "name": "stdout",
     "output_type": "stream",
     "text": [
      "Key not found\n"
     ]
    }
   ],
   "source": [
    "#Answer 4)\n",
    "# The LookupError class is a base class for exceptions that occur when an index or key used to look up a value in a sequence or mapping is invalid. It is a subclass of the Exception class and is itself the base class for several other specific lookup-related exceptions.\n",
    "# a) Key error\n",
    "d = {'a': 1, 'b': 2}\n",
    "try:\n",
    "    value = d['c']\n",
    "except KeyError:\n",
    "    print(\"Key not found\")\n"
   ]
  },
  {
   "cell_type": "code",
   "execution_count": 6,
   "id": "4ba464a6-b96c-49de-8ed4-e3c227e0ee1a",
   "metadata": {},
   "outputs": [
    {
     "name": "stdout",
     "output_type": "stream",
     "text": [
      "Index out of bounds\n"
     ]
    }
   ],
   "source": [
    "# b) Index error\n",
    "lst = [1, 2, 3]\n",
    "try:\n",
    "    value = lst[3]\n",
    "except IndexError:\n",
    "    print(\"Index out of bounds\")\n"
   ]
  },
  {
   "cell_type": "code",
   "execution_count": null,
   "id": "380edb2c-d781-4823-bdba-814e3e16facb",
   "metadata": {},
   "outputs": [],
   "source": [
    "Answer 5)\n",
    "ImportError is an exception that is raised when an imported module cannot be found or imported. This can occur for a variety of reasons, such as a misspelled module name, a missing or unreadable module file, or a missing or unreadable module dependency.\n",
    "\n",
    "In Python 3.6 and later versions, the ImportError exception has been replaced by more specific exceptions, including ModuleNotFoundError.\n",
    "\n",
    "ModuleNotFoundError is a subclass of ImportError that is raised when a module cannot be found. It is raised when the import system is unable to locate the module specified in an import statement. This exception can occur for many reasons, including a misspelled module name, a missing module file, or an incorrectly specified module path."
   ]
  },
  {
   "cell_type": "code",
   "execution_count": null,
   "id": "967e67d6-01f0-4147-8e35-febf0be7216d",
   "metadata": {},
   "outputs": [],
   "source": [
    "Answer 6)\n",
    "1) Be specific with exception handling: It is important to catch only the exceptions that you can handle, rather than using a broad except clause that catches all exceptions. This allows you to handle specific exceptions in a more targeted way and to let other exceptions propagate up the call stack for more generic handling.\n",
    "\n",
    "2) Keep exception handling code separate: It's a good practice to separate your exception handling code from your main application code. This can make it easier to read and understand the main code, and can make it easier to modify the exception handling behavior independently of the main code.\n",
    "\n",
    "3) Use finally blocks for cleanup: When you have resources that need to be released or cleaned up, such as file handles or network connections, you should use a finally block to ensure that the cleanup code is executed, even if an exception is raised.\n",
    "\n",
    "4) Use logging to record exceptions: Using the Python logging module to record exceptions can be very helpful in debugging and troubleshooting your code. By logging the exceptions, you can see the full traceback, including the source file and line number where the exception occurred.\n",
    "\n",
    "5) Avoid catching and ignoring exceptions: Catching an exception and doing nothing with it is generally not a good practice, as it can make it difficult to diagnose and fix issues with your code. If you catch an exception, you should always log it or handle it in some other way that is appropriate for your application.\n",
    "\n",
    "6) Use the most specific exception classes possible: When raising an exception or catching an exception, it is a good practice to use the most specific exception class that is appropriate. This can make it easier to understand the purpose of the exception and to handle it appropriately.\n",
    "\n",
    "7) Document your exceptions: Documenting the exceptions that your code can raise can make it easier for other developers to use your code and to understand how it should be used. You can use Python docstrings or comments to document the exceptions that your code can raise."
   ]
  }
 ],
 "metadata": {
  "kernelspec": {
   "display_name": "Python 3 (ipykernel)",
   "language": "python",
   "name": "python3"
  },
  "language_info": {
   "codemirror_mode": {
    "name": "ipython",
    "version": 3
   },
   "file_extension": ".py",
   "mimetype": "text/x-python",
   "name": "python",
   "nbconvert_exporter": "python",
   "pygments_lexer": "ipython3",
   "version": "3.10.8"
  }
 },
 "nbformat": 4,
 "nbformat_minor": 5
}
