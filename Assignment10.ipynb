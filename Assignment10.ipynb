{
 "cells": [
  {
   "cell_type": "code",
   "execution_count": 1,
   "id": "0ccb861e-631a-4208-8e3c-328136f3976d",
   "metadata": {},
   "outputs": [
    {
     "name": "stdout",
     "output_type": "stream",
     "text": [
      "Toyota Camry\n",
      "120\n",
      "60\n"
     ]
    }
   ],
   "source": [
    "# Answer 1)\n",
    "class Vehicle:\n",
    "    def __init__(self, name_of_vehicle, max_speed, average_speed):\n",
    "        self.name_of_vehicle = name_of_vehicle\n",
    "        self.max_speed = max_speed\n",
    "        self.average_speed = average_speed\n",
    "car = Vehicle(\"Toyota Camry\", 120, 60)\n",
    "print(car.name_of_vehicle)      \n",
    "print(car.max_speed)        \n",
    "print(car.average_speed)         \n"
   ]
  },
  {
   "cell_type": "code",
   "execution_count": 2,
   "id": "f7f6b464-6c3d-427a-898f-fc27d05cfa3d",
   "metadata": {},
   "outputs": [
    {
     "name": "stdout",
     "output_type": "stream",
     "text": [
      "Toyota Camry has a seating capacity of 5 people.\n"
     ]
    }
   ],
   "source": [
    "# Answer 2)\n",
    "class Car(Vehicle):\n",
    "    def seating_capacity(self, capacity):\n",
    "        return f\"{self.name_of_vehicle} has a seating capacity of {capacity} people.\"\n",
    "my_car = Car(\"Toyota Camry\", 120, 60)\n",
    "print(my_car.seating_capacity(5))  # Output: Toyota Camry has a seating capacity of 5 people.\n"
   ]
  },
  {
   "cell_type": "code",
   "execution_count": 3,
   "id": "3a1464f6-01f3-4b85-9787-e17e70fd85a8",
   "metadata": {},
   "outputs": [
    {
     "name": "stdout",
     "output_type": "stream",
     "text": [
      "Method A\n",
      "Method B\n",
      "Method C\n"
     ]
    }
   ],
   "source": [
    "# Answer 3)\n",
    "# Multiple inheritance is a feature of object-oriented programming languages that allows a class to inherit from more than one parent class. In Python, multiple inheritance is achieved by specifying multiple parent classes in the class definition separated by commas.\n",
    "class A:\n",
    "    def method_a(self):\n",
    "        print(\"Method A\")\n",
    "\n",
    "class B:\n",
    "    def method_b(self):\n",
    "        print(\"Method B\")\n",
    "\n",
    "class C(A, B):\n",
    "    def method_c(self):\n",
    "        print(\"Method C\")\n",
    "\n",
    "obj = C()\n",
    "obj.method_a() \n",
    "obj.method_b()  \n",
    "obj.method_c()  \n"
   ]
  },
  {
   "cell_type": "code",
   "execution_count": 2,
   "id": "b6d9636d-79ca-4946-b216-15a9b9777d76",
   "metadata": {},
   "outputs": [
    {
     "name": "stdout",
     "output_type": "stream",
     "text": [
      "John\n",
      "Sarah\n"
     ]
    }
   ],
   "source": [
    "#Answer 4\n",
    "# In Python, a getter and setter are methods used to access and modify the values of an object's attributes respectively.\n",
    "# A getter method returns the current value of an attribute, while a setter method sets a new value for the attribute. These methods are useful for controlling access to object attributes and maintaining data integrity.\n",
    "class Person:\n",
    "    def __init__(self, name):\n",
    "        self._name = name\n",
    "\n",
    "    def get_name(self):\n",
    "        return self._name\n",
    "\n",
    "    def set_name(self, name):\n",
    "        self._name = name\n",
    "\n",
    "# create an instance of the Person class\n",
    "person = Person(\"John\")\n",
    "\n",
    "# use the getter to get the value of the name attribute\n",
    "name = person.get_name()\n",
    "print(name) \n",
    "\n",
    "# use the setter to set a new value for the name attribute\n",
    "person.set_name(\"Sarah\")\n",
    "\n",
    "# use the getter to get the updated value of the name attribute\n",
    "name = person.get_name()\n",
    "print(name)\n"
   ]
  },
  {
   "cell_type": "code",
   "execution_count": 3,
   "id": "6216b766-d3a0-4f32-be6e-c4d97b92149d",
   "metadata": {},
   "outputs": [
    {
     "name": "stdout",
     "output_type": "stream",
     "text": [
      "Generic animal sound\n",
      "Meow\n"
     ]
    }
   ],
   "source": [
    "# Answer 5)\n",
    "# Method overriding is a feature in object-oriented programming that allows a subclass to provide its own implementation for a method that is already defined in its superclass. This is useful when the subclass needs to modify or extend the behavior of the inherited method.\n",
    "class Animal:\n",
    "    def make_sound(self):\n",
    "        print(\"Generic animal sound\")\n",
    "\n",
    "class Cat(Animal):\n",
    "    def make_sound(self):\n",
    "        print(\"Meow\")\n",
    "\n",
    "# create instances of the classes\n",
    "animal = Animal()\n",
    "cat = Cat()\n",
    "\n",
    "# call the make_sound method on the instances\n",
    "animal.make_sound() \n",
    "cat.make_sound()    "
   ]
  },
  {
   "cell_type": "code",
   "execution_count": null,
   "id": "76079b45-47ad-46ac-8a1b-490a1cf7e1c8",
   "metadata": {},
   "outputs": [],
   "source": []
  }
 ],
 "metadata": {
  "kernelspec": {
   "display_name": "Python 3 (ipykernel)",
   "language": "python",
   "name": "python3"
  },
  "language_info": {
   "codemirror_mode": {
    "name": "ipython",
    "version": 3
   },
   "file_extension": ".py",
   "mimetype": "text/x-python",
   "name": "python",
   "nbconvert_exporter": "python",
   "pygments_lexer": "ipython3",
   "version": "3.10.8"
  }
 },
 "nbformat": 4,
 "nbformat_minor": 5
}
